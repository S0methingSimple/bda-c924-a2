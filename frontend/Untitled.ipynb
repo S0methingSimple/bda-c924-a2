{
 "cells": [
  {
   "cell_type": "code",
   "execution_count": 1,
   "id": "0179e93f-7434-45d6-b95d-20567c0f172c",
   "metadata": {},
   "outputs": [],
   "source": [
    "import requests\n",
    "import pandas as pd\n",
    "import json\n",
    "import config\n",
    "import warnings\n",
    "warnings.filterwarnings(\"ignore\")\n",
    "\n",
    "from elasticsearch import Elasticsearch"
   ]
  },
  {
   "cell_type": "markdown",
   "id": "2f064b85-5963-48e6-aafa-853c7396fc42",
   "metadata": {},
   "source": [
    "## Helper"
   ]
  },
  {
   "cell_type": "code",
   "execution_count": 2,
   "id": "884698db-738d-4dc4-b858-6e5d6a071e0d",
   "metadata": {},
   "outputs": [],
   "source": [
    "def divider(n=1):\n",
    "    for i in range(n):\n",
    "        print(\"-\" * 20)"
   ]
  },
  {
   "cell_type": "markdown",
   "id": "2fe751ca-330c-420a-8e1b-465a09dd9027",
   "metadata": {},
   "source": [
    "## load data from ES"
   ]
  },
  {
   "cell_type": "code",
   "execution_count": 3,
   "id": "5cd252da-9ce9-4488-8502-7cb6e66e5fe7",
   "metadata": {},
   "outputs": [],
   "source": [
    "user_name, pw = config.ES_USERNAME, config.ES_PASSWORD"
   ]
  },
  {
   "cell_type": "code",
   "execution_count": 4,
   "id": "6f730390-25a6-418b-9758-98bd6a750118",
   "metadata": {},
   "outputs": [],
   "source": [
    "# Connect to Elasticsearch\n",
    "es = Elasticsearch(\"https://127.0.0.1:9200\", basic_auth=(user_name, pw), verify_certs=False)\n",
    "\n",
    "# check the index list\n",
    "indices = es.cat.indices(index='*', h='index', format='json')"
   ]
  },
  {
   "cell_type": "code",
   "execution_count": 5,
   "id": "ae3ed164-b077-408a-b9fc-f5306f9aedf9",
   "metadata": {},
   "outputs": [
    {
     "name": "stdout",
     "output_type": "stream",
     "text": [
      "{'index': 'rent'}\n",
      "{'index': 'family_and_community_2011_2016'}\n",
      "{'index': 'economy_and_industry_2014-2019'}\n",
      "{'index': 'twitter_data'}\n",
      "{'index': 'property_price'}\n",
      "{'index': 'income'}\n",
      "{'index': '2021_lga_settlement_reports_permanent_settlers_by_migration_stream'}\n",
      "{'index': 'mortgage'}\n",
      "{'index': 'building_approvals2011-2020'}\n",
      "{'index': 'selected_medians_and_averages_2011_2016_2021'}\n",
      "{'index': 'observations'}\n",
      "{'index': 'housing_price'}\n",
      "{'index': 'students'}\n",
      "{'index': 'visa'}\n",
      "{'index': 'income_2014-2019'}\n",
      "{'index': 'migration'}\n",
      "{'index': 'immigration'}\n",
      "{'index': 'as4_median_housing_price2010_2014'}\n",
      "{'index': 'rental_price'}\n",
      "{'index': 'studying'}\n"
     ]
    }
   ],
   "source": [
    "for index in indices:\n",
    "    print(index)"
   ]
  },
  {
   "cell_type": "code",
   "execution_count": 13,
   "id": "06bd5df9-84b5-4320-a902-af120d8f9f01",
   "metadata": {
    "scrolled": true
   },
   "outputs": [
    {
     "name": "stdout",
     "output_type": "stream",
     "text": [
      "retrieving index rent\n",
      "not an sudo index, aborting...\n",
      "--------------------\n",
      "retrieving index family_and_community_2011_2016\n",
      "--------------------\n",
      "retrieving index economy_and_industry_2014-2019\n",
      "--------------------\n",
      "retrieving index twitter_data\n",
      "not an sudo index, aborting...\n",
      "--------------------\n",
      "retrieving index property_price\n",
      "no data in the index, aborting...\n",
      "--------------------\n",
      "retrieving index income\n",
      "not an sudo index, aborting...\n",
      "--------------------\n",
      "retrieving index 2021_lga_settlement_reports_permanent_settlers_by_migration_stream\n",
      "--------------------\n",
      "retrieving index mortgage\n",
      "not an sudo index, aborting...\n",
      "--------------------\n",
      "retrieving index building_approvals2011-2020\n",
      "--------------------\n",
      "retrieving index selected_medians_and_averages_2011_2016_2021\n",
      "--------------------\n",
      "retrieving index observations\n",
      "not an sudo index, aborting...\n",
      "--------------------\n",
      "retrieving index housing_price\n",
      "not an sudo index, aborting...\n",
      "--------------------\n",
      "retrieving index students\n",
      "not an sudo index, aborting...\n",
      "--------------------\n",
      "retrieving index visa\n",
      "not an sudo index, aborting...\n",
      "--------------------\n",
      "retrieving index income_2014-2019\n",
      "--------------------\n",
      "retrieving index migration\n",
      "not an sudo index, aborting...\n",
      "--------------------\n",
      "retrieving index immigration\n",
      "not an sudo index, aborting...\n",
      "--------------------\n",
      "retrieving index as4_median_housing_price2010_2014\n",
      "--------------------\n",
      "retrieving index rental_price\n",
      "no data in the index, aborting...\n",
      "--------------------\n",
      "retrieving index studying\n",
      "not an sudo index, aborting...\n",
      "--------------------\n"
     ]
    }
   ],
   "source": [
    "# loading all the data\n",
    "raw_data = {}\n",
    "\n",
    "def contain_region(vars_: list):\n",
    "    for var in vars_:\n",
    "        var = var.lower()\n",
    "        if \"lga\" in var or \"sa4\" in var:\n",
    "            return True\n",
    "    return False\n",
    "\n",
    "# query = {\n",
    "#     \"query\": {\n",
    "#         \"match_all\": {}\n",
    "#     }\n",
    "# }\n",
    "for item in indices:\n",
    "    query = {\n",
    "        \"query\": {\n",
    "            \"match_all\": {}\n",
    "        }\n",
    "    }\n",
    "    index_ = item['index']\n",
    "    print(f\"retrieving index {index_}\")\n",
    "    # Grab the exact size of the dataset, elasticSearch default only returns 10\n",
    "    temp_response = es.search(index=index_, body=query)\n",
    "    \n",
    "    # only grabbing sudo data\n",
    "    try:\n",
    "        vars_ = temp_response['hits']['hits'][0]['_source']\n",
    "    except IndexError:\n",
    "        print(\"no data in the index, aborting...\")\n",
    "        divider()\n",
    "        continue\n",
    "    if not contain_region(vars_): \n",
    "        print(\"not an sudo index, aborting...\")\n",
    "        divider()\n",
    "        continue\n",
    "    \n",
    "    index_size = temp_response['hits']['total']['value']\n",
    "\n",
    "    # Retrieve the full dataset\n",
    "    full_response = es.search(\n",
    "        index=index_, \n",
    "        body=query,\n",
    "        size=index_size\n",
    "    )\n",
    "\n",
    "    raw_data[index_] = full_response['hits']['hits']\n",
    "\n",
    "    divider()"
   ]
  },
  {
   "cell_type": "code",
   "execution_count": 14,
   "id": "dfb5159d-ee2a-4b98-9aeb-efe8c49ef1c6",
   "metadata": {},
   "outputs": [
    {
     "data": {
      "text/plain": [
       "7"
      ]
     },
     "execution_count": 14,
     "metadata": {},
     "output_type": "execute_result"
    }
   ],
   "source": [
    "len(raw_data)"
   ]
  },
  {
   "cell_type": "markdown",
   "id": "7f87d00d-0a76-4b77-8038-7bf29da2c953",
   "metadata": {},
   "source": [
    "## Transform data into table form and put into pandas dataframe for easier analysis"
   ]
  },
  {
   "cell_type": "code",
   "execution_count": 11,
   "id": "af37351a-3504-4644-9fd1-b83fd6be3b85",
   "metadata": {},
   "outputs": [
    {
     "data": {
      "text/plain": [
       "dict_keys(['family_and_community_2011_2016', 'economy_and_industry_2014-2019', '2021_lga_settlement_reports_permanent_settlers_by_migration_stream', 'building_approvals2011-2020', 'selected_medians_and_averages_2011_2016_2021', 'income_2014-2019', 'as4_median_housing_price2010_2014'])"
      ]
     },
     "execution_count": 11,
     "metadata": {},
     "output_type": "execute_result"
    }
   ],
   "source": [
    "raw_data.keys()"
   ]
  },
  {
   "cell_type": "code",
   "execution_count": 70,
   "id": "291eed05-639f-40e7-9fdb-56d36419bcee",
   "metadata": {},
   "outputs": [],
   "source": [
    "all_sudo_data = {}\n",
    "\n",
    "for index, raw_data_ in raw_data.items():\n",
    "    raw_data_ = [item['_source'] for item in raw_data_]\n",
    "    all_sudo_data[index] = raw_data_\n",
    "\n",
    "df_sudo_data = {}\n",
    "for index, data_ in all_sudo_data.items():\n",
    "    df_sudo_data[index] = pd.DataFrame(data_)"
   ]
  },
  {
   "cell_type": "code",
   "execution_count": 71,
   "id": "62f33e97-1266-4117-b929-f34a8a7c690b",
   "metadata": {},
   "outputs": [],
   "source": [
    "# decode col names:\n",
    "var_definitions = {}\n",
    "\n",
    "data_definitions = get_ipython().getoutput('ls ./data_definition')\n",
    "\n",
    "for data_definition in data_definitions:\n",
    "    with open('./data_definition/' + data_definition, 'r') as f:\n",
    "        temp_file = json.load(f)\n",
    "        vars_ = temp_file['selectedAttributes']\n",
    "        for var_ in vars_:\n",
    "            var_definitions[var_['name']] = var_['title']"
   ]
  },
  {
   "cell_type": "code",
   "execution_count": 72,
   "id": "a8c2e647-188c-402c-9916-000829644ae6",
   "metadata": {},
   "outputs": [],
   "source": [
    "# Renaming cols to meaningful names\n",
    "for index, df_ in df_sudo_data.items():\n",
    "    columns = df_.columns.to_list()\n",
    "    columns = [var_definitions[item.strip()] for item in columns]\n",
    "    df_.columns = columns"
   ]
  },
  {
   "cell_type": "code",
   "execution_count": 84,
   "id": "58cd645a-62b1-4554-a084-43d1a444ced9",
   "metadata": {},
   "outputs": [
    {
     "name": "stdout",
     "output_type": "stream",
     "text": [
      "family_and_community_2011_2016\n",
      "Year in columns: True\n",
      "SA4 Code in columns: True\n",
      "--------------------\n",
      "economy_and_industry_2014-2019\n",
      "Year in columns: True\n",
      "SA4 Code in columns: True\n",
      "--------------------\n",
      "2021_lga_settlement_reports_permanent_settlers_by_migration_stream\n",
      "Year in columns: True\n",
      "SA4 Code in columns: False\n",
      "--------------------\n",
      "building_approvals2011-2020\n",
      "Year in columns: True\n",
      "SA4 Code in columns: True\n",
      "--------------------\n",
      "selected_medians_and_averages_2011_2016_2021\n",
      "Year in columns: True\n",
      "SA4 Code in columns: True\n",
      "--------------------\n",
      "income_2014-2019\n",
      "Year in columns: True\n",
      "SA4 Code in columns: True\n",
      "--------------------\n",
      "as4_median_housing_price2010_2014\n",
      "Year in columns: True\n",
      "SA4 Code in columns: True\n",
      "--------------------\n"
     ]
    }
   ],
   "source": [
    "for index, df_ in df_sudo_data.items():\n",
    "    print(index)\n",
    "    print(f\"Year in columns: {'Year' in df_.columns}\")\n",
    "    print(f\"SA4 Code in columns: {'SA4 Code' in df_.columns}\")\n",
    "    divider()"
   ]
  },
  {
   "cell_type": "code",
   "execution_count": 83,
   "id": "751b4a04-1f66-4a1d-948f-dc2fa964e110",
   "metadata": {},
   "outputs": [],
   "source": [
    "# making up year or SA4 code, because they are used as index to join the dataframes\n",
    "df_sudo_data['2021_lga_settlement_reports_permanent_settlers_by_migration_stream']['Year'] = 2020\n",
    "df_sudo_data['building_approvals2011-2020'].rename(columns={'SA4 Code 2011': 'SA4 Code'}, inplace=True)\n",
    "df_sudo_data['as4_median_housing_price2010_2014'].rename(columns={'SA4 Code 2011': 'SA4 Code'}, inplace=True)"
   ]
  },
  {
   "cell_type": "code",
   "execution_count": 76,
   "id": "3735dffe-bb0b-4bf4-9dbc-3eab61cf34f9",
   "metadata": {
    "collapsed": true,
    "jupyter": {
     "outputs_hidden": true
    }
   },
   "outputs": [
    {
     "name": "stdout",
     "output_type": "stream",
     "text": [
      "family_and_community_2011_2016\n",
      "Year\n",
      "2011    89\n",
      "2016    89\n",
      "Name: count, dtype: int64\n",
      "economy_and_industry_2014-2019\n",
      "Year\n",
      "2014    89\n",
      "2015    89\n",
      "2016    89\n",
      "2017    89\n",
      "2018    89\n",
      "2019    89\n",
      "Name: count, dtype: int64\n",
      "2021_lga_settlement_reports_permanent_settlers_by_migration_stream\n",
      "Year\n",
      "2020    451\n",
      "Name: count, dtype: int64\n",
      "building_approvals2011-2020\n",
      "Year\n",
      "2015    88\n",
      "2016    88\n",
      "2017    88\n",
      "2018    88\n",
      "2019    88\n",
      "2020    88\n",
      "2011    87\n",
      "2012    87\n",
      "2013    87\n",
      "2014    87\n",
      "Name: count, dtype: int64\n",
      "selected_medians_and_averages_2011_2016_2021\n",
      "Year\n",
      "2016    89\n",
      "2021    89\n",
      "2011    88\n",
      "Name: count, dtype: int64\n",
      "income_2014-2019\n",
      "Year\n",
      "2014    89\n",
      "2015    89\n",
      "2016    89\n",
      "2017    89\n",
      "2018    89\n",
      "2019    89\n",
      "Name: count, dtype: int64\n",
      "as4_median_housing_price2010_2014\n",
      "Year\n",
      "2013    88\n",
      "Name: count, dtype: int64\n"
     ]
    }
   ],
   "source": [
    "for index, df_ in df_sudo_data.items():\n",
    "    print(index)\n",
    "    print(df_['Year'].value_counts(dropna=False))"
   ]
  },
  {
   "cell_type": "code",
   "execution_count": 87,
   "id": "887ddd7e-8ab3-4203-9f19-e6a76993e6dd",
   "metadata": {
    "collapsed": true,
    "jupyter": {
     "outputs_hidden": true
    }
   },
   "outputs": [
    {
     "ename": "ValueError",
     "evalue": "len(left_on) must equal the number of levels in the index of \"right\"",
     "output_type": "error",
     "traceback": [
      "\u001b[0;31m---------------------------------------------------------------------------\u001b[0m",
      "\u001b[0;31mValueError\u001b[0m                                Traceback (most recent call last)",
      "Cell \u001b[0;32mIn[87], line 5\u001b[0m\n\u001b[1;32m      3\u001b[0m \u001b[38;5;28;01mfor\u001b[39;00m index, df_ \u001b[38;5;129;01min\u001b[39;00m df_sudo_data\u001b[38;5;241m.\u001b[39mitems():\n\u001b[1;32m      4\u001b[0m     \u001b[38;5;28;01mif\u001b[39;00m index \u001b[38;5;241m==\u001b[39m \u001b[38;5;124m'\u001b[39m\u001b[38;5;124mbuilding_approvals2011-2020\u001b[39m\u001b[38;5;124m'\u001b[39m: \u001b[38;5;28;01mcontinue\u001b[39;00m\n\u001b[0;32m----> 5\u001b[0m     df_sudo \u001b[38;5;241m=\u001b[39m \u001b[43mdf_sudo\u001b[49m\u001b[38;5;241;43m.\u001b[39;49m\u001b[43mjoin\u001b[49m\u001b[43m(\u001b[49m\u001b[43mdf_\u001b[49m\u001b[43m,\u001b[49m\u001b[43m \u001b[49m\u001b[43mon\u001b[49m\u001b[38;5;241;43m=\u001b[39;49m\u001b[43m[\u001b[49m\u001b[38;5;124;43m'\u001b[39;49m\u001b[38;5;124;43mYear\u001b[39;49m\u001b[38;5;124;43m'\u001b[39;49m\u001b[43m,\u001b[49m\u001b[43m \u001b[49m\u001b[38;5;124;43m'\u001b[39;49m\u001b[38;5;124;43mSA4 Code\u001b[39;49m\u001b[38;5;124;43m'\u001b[39;49m\u001b[43m]\u001b[49m\u001b[43m,\u001b[49m\u001b[43m \u001b[49m\u001b[43mhow\u001b[49m\u001b[38;5;241;43m=\u001b[39;49m\u001b[38;5;124;43m'\u001b[39;49m\u001b[38;5;124;43mouter\u001b[39;49m\u001b[38;5;124;43m'\u001b[39;49m\u001b[43m,\u001b[49m\u001b[43m \u001b[49m\u001b[43msort\u001b[49m\u001b[38;5;241;43m=\u001b[39;49m\u001b[38;5;28;43;01mTrue\u001b[39;49;00m\u001b[43m,\u001b[49m\u001b[43m \u001b[49m\u001b[43mrsuffix\u001b[49m\u001b[38;5;241;43m=\u001b[39;49m\u001b[38;5;124;43m'\u001b[39;49m\u001b[38;5;124;43m_other\u001b[39;49m\u001b[38;5;124;43m'\u001b[39;49m\u001b[43m)\u001b[49m\n",
      "File \u001b[0;32m~/.local/share/virtualenvs/comp90024_assg2-xFTsYFsd/lib/python3.8/site-packages/pandas/core/frame.py:9729\u001b[0m, in \u001b[0;36mDataFrame.join\u001b[0;34m(self, other, on, how, lsuffix, rsuffix, sort, validate)\u001b[0m\n\u001b[1;32m   9566\u001b[0m \u001b[38;5;28;01mdef\u001b[39;00m \u001b[38;5;21mjoin\u001b[39m(\n\u001b[1;32m   9567\u001b[0m     \u001b[38;5;28mself\u001b[39m,\n\u001b[1;32m   9568\u001b[0m     other: DataFrame \u001b[38;5;241m|\u001b[39m Series \u001b[38;5;241m|\u001b[39m Iterable[DataFrame \u001b[38;5;241m|\u001b[39m Series],\n\u001b[0;32m   (...)\u001b[0m\n\u001b[1;32m   9574\u001b[0m     validate: \u001b[38;5;28mstr\u001b[39m \u001b[38;5;241m|\u001b[39m \u001b[38;5;28;01mNone\u001b[39;00m \u001b[38;5;241m=\u001b[39m \u001b[38;5;28;01mNone\u001b[39;00m,\n\u001b[1;32m   9575\u001b[0m ) \u001b[38;5;241m-\u001b[39m\u001b[38;5;241m>\u001b[39m DataFrame:\n\u001b[1;32m   9576\u001b[0m \u001b[38;5;250m    \u001b[39m\u001b[38;5;124;03m\"\"\"\u001b[39;00m\n\u001b[1;32m   9577\u001b[0m \u001b[38;5;124;03m    Join columns of another DataFrame.\u001b[39;00m\n\u001b[1;32m   9578\u001b[0m \n\u001b[0;32m   (...)\u001b[0m\n\u001b[1;32m   9727\u001b[0m \u001b[38;5;124;03m    5  K1  A5   B1\u001b[39;00m\n\u001b[1;32m   9728\u001b[0m \u001b[38;5;124;03m    \"\"\"\u001b[39;00m\n\u001b[0;32m-> 9729\u001b[0m     \u001b[38;5;28;01mreturn\u001b[39;00m \u001b[38;5;28;43mself\u001b[39;49m\u001b[38;5;241;43m.\u001b[39;49m\u001b[43m_join_compat\u001b[49m\u001b[43m(\u001b[49m\n\u001b[1;32m   9730\u001b[0m \u001b[43m        \u001b[49m\u001b[43mother\u001b[49m\u001b[43m,\u001b[49m\n\u001b[1;32m   9731\u001b[0m \u001b[43m        \u001b[49m\u001b[43mon\u001b[49m\u001b[38;5;241;43m=\u001b[39;49m\u001b[43mon\u001b[49m\u001b[43m,\u001b[49m\n\u001b[1;32m   9732\u001b[0m \u001b[43m        \u001b[49m\u001b[43mhow\u001b[49m\u001b[38;5;241;43m=\u001b[39;49m\u001b[43mhow\u001b[49m\u001b[43m,\u001b[49m\n\u001b[1;32m   9733\u001b[0m \u001b[43m        \u001b[49m\u001b[43mlsuffix\u001b[49m\u001b[38;5;241;43m=\u001b[39;49m\u001b[43mlsuffix\u001b[49m\u001b[43m,\u001b[49m\n\u001b[1;32m   9734\u001b[0m \u001b[43m        \u001b[49m\u001b[43mrsuffix\u001b[49m\u001b[38;5;241;43m=\u001b[39;49m\u001b[43mrsuffix\u001b[49m\u001b[43m,\u001b[49m\n\u001b[1;32m   9735\u001b[0m \u001b[43m        \u001b[49m\u001b[43msort\u001b[49m\u001b[38;5;241;43m=\u001b[39;49m\u001b[43msort\u001b[49m\u001b[43m,\u001b[49m\n\u001b[1;32m   9736\u001b[0m \u001b[43m        \u001b[49m\u001b[43mvalidate\u001b[49m\u001b[38;5;241;43m=\u001b[39;49m\u001b[43mvalidate\u001b[49m\u001b[43m,\u001b[49m\n\u001b[1;32m   9737\u001b[0m \u001b[43m    \u001b[49m\u001b[43m)\u001b[49m\n",
      "File \u001b[0;32m~/.local/share/virtualenvs/comp90024_assg2-xFTsYFsd/lib/python3.8/site-packages/pandas/core/frame.py:9768\u001b[0m, in \u001b[0;36mDataFrame._join_compat\u001b[0;34m(self, other, on, how, lsuffix, rsuffix, sort, validate)\u001b[0m\n\u001b[1;32m   9758\u001b[0m     \u001b[38;5;28;01mif\u001b[39;00m how \u001b[38;5;241m==\u001b[39m \u001b[38;5;124m\"\u001b[39m\u001b[38;5;124mcross\u001b[39m\u001b[38;5;124m\"\u001b[39m:\n\u001b[1;32m   9759\u001b[0m         \u001b[38;5;28;01mreturn\u001b[39;00m merge(\n\u001b[1;32m   9760\u001b[0m             \u001b[38;5;28mself\u001b[39m,\n\u001b[1;32m   9761\u001b[0m             other,\n\u001b[0;32m   (...)\u001b[0m\n\u001b[1;32m   9766\u001b[0m             validate\u001b[38;5;241m=\u001b[39mvalidate,\n\u001b[1;32m   9767\u001b[0m         )\n\u001b[0;32m-> 9768\u001b[0m     \u001b[38;5;28;01mreturn\u001b[39;00m \u001b[43mmerge\u001b[49m\u001b[43m(\u001b[49m\n\u001b[1;32m   9769\u001b[0m \u001b[43m        \u001b[49m\u001b[38;5;28;43mself\u001b[39;49m\u001b[43m,\u001b[49m\n\u001b[1;32m   9770\u001b[0m \u001b[43m        \u001b[49m\u001b[43mother\u001b[49m\u001b[43m,\u001b[49m\n\u001b[1;32m   9771\u001b[0m \u001b[43m        \u001b[49m\u001b[43mleft_on\u001b[49m\u001b[38;5;241;43m=\u001b[39;49m\u001b[43mon\u001b[49m\u001b[43m,\u001b[49m\n\u001b[1;32m   9772\u001b[0m \u001b[43m        \u001b[49m\u001b[43mhow\u001b[49m\u001b[38;5;241;43m=\u001b[39;49m\u001b[43mhow\u001b[49m\u001b[43m,\u001b[49m\n\u001b[1;32m   9773\u001b[0m \u001b[43m        \u001b[49m\u001b[43mleft_index\u001b[49m\u001b[38;5;241;43m=\u001b[39;49m\u001b[43mon\u001b[49m\u001b[43m \u001b[49m\u001b[38;5;129;43;01mis\u001b[39;49;00m\u001b[43m \u001b[49m\u001b[38;5;28;43;01mNone\u001b[39;49;00m\u001b[43m,\u001b[49m\n\u001b[1;32m   9774\u001b[0m \u001b[43m        \u001b[49m\u001b[43mright_index\u001b[49m\u001b[38;5;241;43m=\u001b[39;49m\u001b[38;5;28;43;01mTrue\u001b[39;49;00m\u001b[43m,\u001b[49m\n\u001b[1;32m   9775\u001b[0m \u001b[43m        \u001b[49m\u001b[43msuffixes\u001b[49m\u001b[38;5;241;43m=\u001b[39;49m\u001b[43m(\u001b[49m\u001b[43mlsuffix\u001b[49m\u001b[43m,\u001b[49m\u001b[43m \u001b[49m\u001b[43mrsuffix\u001b[49m\u001b[43m)\u001b[49m\u001b[43m,\u001b[49m\n\u001b[1;32m   9776\u001b[0m \u001b[43m        \u001b[49m\u001b[43msort\u001b[49m\u001b[38;5;241;43m=\u001b[39;49m\u001b[43msort\u001b[49m\u001b[43m,\u001b[49m\n\u001b[1;32m   9777\u001b[0m \u001b[43m        \u001b[49m\u001b[43mvalidate\u001b[49m\u001b[38;5;241;43m=\u001b[39;49m\u001b[43mvalidate\u001b[49m\u001b[43m,\u001b[49m\n\u001b[1;32m   9778\u001b[0m \u001b[43m    \u001b[49m\u001b[43m)\u001b[49m\n\u001b[1;32m   9779\u001b[0m \u001b[38;5;28;01melse\u001b[39;00m:\n\u001b[1;32m   9780\u001b[0m     \u001b[38;5;28;01mif\u001b[39;00m on \u001b[38;5;129;01mis\u001b[39;00m \u001b[38;5;129;01mnot\u001b[39;00m \u001b[38;5;28;01mNone\u001b[39;00m:\n",
      "File \u001b[0;32m~/.local/share/virtualenvs/comp90024_assg2-xFTsYFsd/lib/python3.8/site-packages/pandas/core/reshape/merge.py:148\u001b[0m, in \u001b[0;36mmerge\u001b[0;34m(left, right, how, on, left_on, right_on, left_index, right_index, sort, suffixes, copy, indicator, validate)\u001b[0m\n\u001b[1;32m    131\u001b[0m \u001b[38;5;129m@Substitution\u001b[39m(\u001b[38;5;124m\"\u001b[39m\u001b[38;5;130;01m\\n\u001b[39;00m\u001b[38;5;124mleft : DataFrame or named Series\u001b[39m\u001b[38;5;124m\"\u001b[39m)\n\u001b[1;32m    132\u001b[0m \u001b[38;5;129m@Appender\u001b[39m(_merge_doc, indents\u001b[38;5;241m=\u001b[39m\u001b[38;5;241m0\u001b[39m)\n\u001b[1;32m    133\u001b[0m \u001b[38;5;28;01mdef\u001b[39;00m \u001b[38;5;21mmerge\u001b[39m(\n\u001b[0;32m   (...)\u001b[0m\n\u001b[1;32m    146\u001b[0m     validate: \u001b[38;5;28mstr\u001b[39m \u001b[38;5;241m|\u001b[39m \u001b[38;5;28;01mNone\u001b[39;00m \u001b[38;5;241m=\u001b[39m \u001b[38;5;28;01mNone\u001b[39;00m,\n\u001b[1;32m    147\u001b[0m ) \u001b[38;5;241m-\u001b[39m\u001b[38;5;241m>\u001b[39m DataFrame:\n\u001b[0;32m--> 148\u001b[0m     op \u001b[38;5;241m=\u001b[39m \u001b[43m_MergeOperation\u001b[49m\u001b[43m(\u001b[49m\n\u001b[1;32m    149\u001b[0m \u001b[43m        \u001b[49m\u001b[43mleft\u001b[49m\u001b[43m,\u001b[49m\n\u001b[1;32m    150\u001b[0m \u001b[43m        \u001b[49m\u001b[43mright\u001b[49m\u001b[43m,\u001b[49m\n\u001b[1;32m    151\u001b[0m \u001b[43m        \u001b[49m\u001b[43mhow\u001b[49m\u001b[38;5;241;43m=\u001b[39;49m\u001b[43mhow\u001b[49m\u001b[43m,\u001b[49m\n\u001b[1;32m    152\u001b[0m \u001b[43m        \u001b[49m\u001b[43mon\u001b[49m\u001b[38;5;241;43m=\u001b[39;49m\u001b[43mon\u001b[49m\u001b[43m,\u001b[49m\n\u001b[1;32m    153\u001b[0m \u001b[43m        \u001b[49m\u001b[43mleft_on\u001b[49m\u001b[38;5;241;43m=\u001b[39;49m\u001b[43mleft_on\u001b[49m\u001b[43m,\u001b[49m\n\u001b[1;32m    154\u001b[0m \u001b[43m        \u001b[49m\u001b[43mright_on\u001b[49m\u001b[38;5;241;43m=\u001b[39;49m\u001b[43mright_on\u001b[49m\u001b[43m,\u001b[49m\n\u001b[1;32m    155\u001b[0m \u001b[43m        \u001b[49m\u001b[43mleft_index\u001b[49m\u001b[38;5;241;43m=\u001b[39;49m\u001b[43mleft_index\u001b[49m\u001b[43m,\u001b[49m\n\u001b[1;32m    156\u001b[0m \u001b[43m        \u001b[49m\u001b[43mright_index\u001b[49m\u001b[38;5;241;43m=\u001b[39;49m\u001b[43mright_index\u001b[49m\u001b[43m,\u001b[49m\n\u001b[1;32m    157\u001b[0m \u001b[43m        \u001b[49m\u001b[43msort\u001b[49m\u001b[38;5;241;43m=\u001b[39;49m\u001b[43msort\u001b[49m\u001b[43m,\u001b[49m\n\u001b[1;32m    158\u001b[0m \u001b[43m        \u001b[49m\u001b[43msuffixes\u001b[49m\u001b[38;5;241;43m=\u001b[39;49m\u001b[43msuffixes\u001b[49m\u001b[43m,\u001b[49m\n\u001b[1;32m    159\u001b[0m \u001b[43m        \u001b[49m\u001b[43mindicator\u001b[49m\u001b[38;5;241;43m=\u001b[39;49m\u001b[43mindicator\u001b[49m\u001b[43m,\u001b[49m\n\u001b[1;32m    160\u001b[0m \u001b[43m        \u001b[49m\u001b[43mvalidate\u001b[49m\u001b[38;5;241;43m=\u001b[39;49m\u001b[43mvalidate\u001b[49m\u001b[43m,\u001b[49m\n\u001b[1;32m    161\u001b[0m \u001b[43m    \u001b[49m\u001b[43m)\u001b[49m\n\u001b[1;32m    162\u001b[0m     \u001b[38;5;28;01mreturn\u001b[39;00m op\u001b[38;5;241m.\u001b[39mget_result(copy\u001b[38;5;241m=\u001b[39mcopy)\n",
      "File \u001b[0;32m~/.local/share/virtualenvs/comp90024_assg2-xFTsYFsd/lib/python3.8/site-packages/pandas/core/reshape/merge.py:719\u001b[0m, in \u001b[0;36m_MergeOperation.__init__\u001b[0;34m(self, left, right, how, on, left_on, right_on, axis, left_index, right_index, sort, suffixes, indicator, validate)\u001b[0m\n\u001b[1;32m    712\u001b[0m     msg \u001b[38;5;241m=\u001b[39m (\n\u001b[1;32m    713\u001b[0m         \u001b[38;5;124m\"\u001b[39m\u001b[38;5;124mNot allowed to merge between different levels. \u001b[39m\u001b[38;5;124m\"\u001b[39m\n\u001b[1;32m    714\u001b[0m         \u001b[38;5;124mf\u001b[39m\u001b[38;5;124m\"\u001b[39m\u001b[38;5;124m(\u001b[39m\u001b[38;5;132;01m{\u001b[39;00m_left\u001b[38;5;241m.\u001b[39mcolumns\u001b[38;5;241m.\u001b[39mnlevels\u001b[38;5;132;01m}\u001b[39;00m\u001b[38;5;124m levels on the left, \u001b[39m\u001b[38;5;124m\"\u001b[39m\n\u001b[1;32m    715\u001b[0m         \u001b[38;5;124mf\u001b[39m\u001b[38;5;124m\"\u001b[39m\u001b[38;5;132;01m{\u001b[39;00m_right\u001b[38;5;241m.\u001b[39mcolumns\u001b[38;5;241m.\u001b[39mnlevels\u001b[38;5;132;01m}\u001b[39;00m\u001b[38;5;124m on the right)\u001b[39m\u001b[38;5;124m\"\u001b[39m\n\u001b[1;32m    716\u001b[0m     )\n\u001b[1;32m    717\u001b[0m     \u001b[38;5;28;01mraise\u001b[39;00m MergeError(msg)\n\u001b[0;32m--> 719\u001b[0m \u001b[38;5;28mself\u001b[39m\u001b[38;5;241m.\u001b[39mleft_on, \u001b[38;5;28mself\u001b[39m\u001b[38;5;241m.\u001b[39mright_on \u001b[38;5;241m=\u001b[39m \u001b[38;5;28;43mself\u001b[39;49m\u001b[38;5;241;43m.\u001b[39;49m\u001b[43m_validate_left_right_on\u001b[49m\u001b[43m(\u001b[49m\u001b[43mleft_on\u001b[49m\u001b[43m,\u001b[49m\u001b[43m \u001b[49m\u001b[43mright_on\u001b[49m\u001b[43m)\u001b[49m\n\u001b[1;32m    721\u001b[0m cross_col \u001b[38;5;241m=\u001b[39m \u001b[38;5;28;01mNone\u001b[39;00m\n\u001b[1;32m    722\u001b[0m \u001b[38;5;28;01mif\u001b[39;00m \u001b[38;5;28mself\u001b[39m\u001b[38;5;241m.\u001b[39mhow \u001b[38;5;241m==\u001b[39m \u001b[38;5;124m\"\u001b[39m\u001b[38;5;124mcross\u001b[39m\u001b[38;5;124m\"\u001b[39m:\n",
      "File \u001b[0;32m~/.local/share/virtualenvs/comp90024_assg2-xFTsYFsd/lib/python3.8/site-packages/pandas/core/reshape/merge.py:1535\u001b[0m, in \u001b[0;36m_MergeOperation._validate_left_right_on\u001b[0;34m(self, left_on, right_on)\u001b[0m\n\u001b[1;32m   1533\u001b[0m     \u001b[38;5;28;01mif\u001b[39;00m \u001b[38;5;28mself\u001b[39m\u001b[38;5;241m.\u001b[39mright_index:\n\u001b[1;32m   1534\u001b[0m         \u001b[38;5;28;01mif\u001b[39;00m \u001b[38;5;28mlen\u001b[39m(left_on) \u001b[38;5;241m!=\u001b[39m \u001b[38;5;28mself\u001b[39m\u001b[38;5;241m.\u001b[39mright\u001b[38;5;241m.\u001b[39mindex\u001b[38;5;241m.\u001b[39mnlevels:\n\u001b[0;32m-> 1535\u001b[0m             \u001b[38;5;28;01mraise\u001b[39;00m \u001b[38;5;167;01mValueError\u001b[39;00m(\n\u001b[1;32m   1536\u001b[0m                 \u001b[38;5;124m\"\u001b[39m\u001b[38;5;124mlen(left_on) must equal the number \u001b[39m\u001b[38;5;124m\"\u001b[39m\n\u001b[1;32m   1537\u001b[0m                 \u001b[38;5;124m'\u001b[39m\u001b[38;5;124mof levels in the index of \u001b[39m\u001b[38;5;124m\"\u001b[39m\u001b[38;5;124mright\u001b[39m\u001b[38;5;124m\"\u001b[39m\u001b[38;5;124m'\u001b[39m\n\u001b[1;32m   1538\u001b[0m             )\n\u001b[1;32m   1539\u001b[0m         right_on \u001b[38;5;241m=\u001b[39m [\u001b[38;5;28;01mNone\u001b[39;00m] \u001b[38;5;241m*\u001b[39m n\n\u001b[1;32m   1540\u001b[0m \u001b[38;5;28;01melif\u001b[39;00m right_on \u001b[38;5;129;01mis\u001b[39;00m \u001b[38;5;129;01mnot\u001b[39;00m \u001b[38;5;28;01mNone\u001b[39;00m:\n",
      "\u001b[0;31mValueError\u001b[0m: len(left_on) must equal the number of levels in the index of \"right\""
     ]
    }
   ],
   "source": [
    "df_sudo = df_sudo_data['building_approvals2011-2020']\n",
    "\n",
    "for index, df_ in df_sudo_data.items():\n",
    "    if index == 'building_approvals2011-2020': continue\n",
    "    df_sudo = df_sudo.join(df_, on=['Year', 'SA4 Code'], how='outer', sort=True, rsuffix='_other')"
   ]
  },
  {
   "cell_type": "code",
   "execution_count": 104,
   "id": "54e72a42-f539-4469-8c65-479f86a7b77e",
   "metadata": {},
   "outputs": [],
   "source": [
    "# Concatenate all the dataframes along the rows\n",
    "# have to leave 2021 lga settlement data here because it's using a different partitioning system than the others: LGA\n",
    "\n",
    "dfs = [df.set_index(['Year', 'SA4 Code']) for index, df in df_sudo_data.items() if index != '2021_lga_settlement_reports_permanent_settlers_by_migration_stream']\n",
    "df_sudo = pd.concat(dfs, axis=0, join='outer')\n",
    "\n",
    "df_sudo = df_sudo.sort_index(level=['Year', 'SA4 Code'])"
   ]
  },
  {
   "cell_type": "code",
   "execution_count": 102,
   "id": "8391d6c8-9ba3-47ae-8dcb-fbbab2dd0679",
   "metadata": {},
   "outputs": [
    {
     "data": {
      "text/plain": [
       "(2476, 56)"
      ]
     },
     "execution_count": 102,
     "metadata": {},
     "output_type": "execute_result"
    }
   ],
   "source": [
    "df_sudo.shape"
   ]
  },
  {
   "cell_type": "code",
   "execution_count": 179,
   "id": "1684a9e9-383a-41a9-86fc-fa27c5065480",
   "metadata": {},
   "outputs": [
    {
     "data": {
      "text/plain": [
       "Index(['Year', 'SA4 Code',\n",
       "       'Household Stress - Census Households with rent payments greater than or equal to 30% of household income (%)',\n",
       "       'Housing Suitability - Occupied private dwellings - Census Dwellings with bedrooms spare (no.)',\n",
       "       'Rent and Mortgage Payments - Census Average monthly household mortgage payment ($)',\n",
       "       'Rent and Mortgage Payments - Census Average monthly household rental payment ($)',\n",
       "       'Housing Suitability - Occupied private dwellings - Census Dwellings with extra bedrooms needed (no.)',\n",
       "       'Household Stress - Census Households with mortgage repayments greater than or equal to 30% of household income (%)',\n",
       "       'Residential Property Prices - Year ended 30 June Houses - median sale price ($)',\n",
       "       'Residential Property Prices - Year ended 30 June Attached Dwellings - number of transfers (no.)',\n",
       "       'Building Approvals - Year ended 30 June Value of residential building ($m)',\n",
       "       'Building Approvals - Year ended 30 June Private sector dwellings excluding houses (no.)',\n",
       "       'Residential Property Prices - Year ended 30 June Attached Dwellings - median sale price ($)',\n",
       "       'Building Approvals - Year ended 30 June Total private sector dwelling units (no.)',\n",
       "       'Building Approvals - Year ended 30 June Total value of private sector dwelling units ($m)',\n",
       "       'Building Approvals - Year ended 30 June Private sector houses (no.)',\n",
       "       'Building Approvals - Year ended 30 June Total dwelling units (no.)',\n",
       "       'Building Approvals - Year ended 30 June Value of private sector houses ($m)',\n",
       "       'Building Approvals - Year ended 30 June Value of private sector dwellings excluding houses ($m)',\n",
       "       'SA4 Name',\n",
       "       'Residential Property Prices - Year ended 30 June Houses - number of transfers (no.)',\n",
       "       'Value of New Other Residential Building ($000)',\n",
       "       'Total Dwelling Number', 'Number of New Houses',\n",
       "       'Number of New Other Residential Buildings',\n",
       "       'Value of Total Buildings ($000)',\n",
       "       'Value of Total Residential Buildings ($000)',\n",
       "       'Value of Alterations ($000)', 'Value of New Houses ($000)',\n",
       "       'SA4 Name 2011', 'Average number of Persons per bedroom',\n",
       "       'Median total family income weekly',\n",
       "       'Median total household income weekly', 'Median age of persons',\n",
       "       'Median total personal income weekly', 'Average household size',\n",
       "       'Median rent weekly', 'Median mortgage repayment monthly',\n",
       "       'Estimates of Personal Income - Year ended 30 June Total income (excl. Government pensions and allowances) - Gini coefficient',\n",
       "       'Estimates of Personal Income - Year ended 30 June Mean employee income ($)',\n",
       "       'Gross Capital Gains reported by taxpayers - Year ended 30 June Gross Capital Gains reported by taxpayers - Mean ($)',\n",
       "       'Estimates of Personal Income - Year ended 30 June Mean investment income ($)',\n",
       "       'Estimates of Personal Income - Year ended 30 June Median employee income ($)',\n",
       "       'Gross Capital Gains reported by taxpayers - Year ended 30 June Gross Capital Gains reported by taxpayers  - Median ($)',\n",
       "       'Estimates of Personal Income - Year ended 30 June Median investment income ($)',\n",
       "       'Residential Property Median Attached Dwelling Sale Price ($)',\n",
       "       'Residential Property Number of House Transfers',\n",
       "       'Residential Property Number of Attached Dwelling Transfers',\n",
       "       'Residential Property Median House Sale Price ($)',\n",
       "       'State and Territory Id'],\n",
       "      dtype='object')"
      ]
     },
     "execution_count": 179,
     "metadata": {},
     "output_type": "execute_result"
    }
   ],
   "source": [
    "df_sudo.columns"
   ]
  },
  {
   "cell_type": "code",
   "execution_count": 112,
   "id": "b9d82eca-deb2-4b56-bcc7-4def73652b6d",
   "metadata": {},
   "outputs": [],
   "source": [
    "df_sudo.reset_index(inplace=True)"
   ]
  },
  {
   "cell_type": "code",
   "execution_count": 114,
   "id": "a872f37e-d23b-4006-9391-f258e2de9f67",
   "metadata": {},
   "outputs": [],
   "source": [
    "df_sudo['State and Territory Id'] = df_sudo['SA4 Code'].apply(lambda x: x//100)"
   ]
  },
  {
   "cell_type": "code",
   "execution_count": 177,
   "id": "c4f80dd1-ec67-417a-9411-87098531975a",
   "metadata": {},
   "outputs": [],
   "source": [
    "# Deleting columns with duplicate information such as complements\n",
    "df_sudo = df_sudo.drop([\n",
    "    'Household Stress - Census Households where rent payments are less than 30% of household income (%)',\n",
    "    'Household Stress - Census Households where mortgage repayments are less than 30% of household income (%)',\n",
    "    'Value of Non-Residential Building ($000)'\n",
    "    'Housing Suitability - Occupied private dwellings - Census Dwellings with bedrooms spare (no.)',\n",
    "    'Housing Suitability - Occupied private dwellings - Census Dwellings with no bedrooms needed or spare (no.)',\n",
    "    'Total Personal Income (Weekly) - Persons aged 15 years and over  - Census Persons earning $2000-$2999 per week (%)',\n",
    "    'Total Personal Income (Weekly) - Persons aged 15 years and over  - Census Persons earning $3000 or more per week (%)', \n",
    "    'Total Personal Income (Weekly) - Persons aged 15 years and over  - Census Persons earning $500-$999 per week (%)',\n",
    "    'Total Personal Income (Weekly) - Persons aged 15 years and over  - Census Persons earning $1000-$1999 per week (%)',\n",
    "    'Total Personal Income (Weekly) - Persons aged 15 years and over  - Census Persons earning $1-$499 per week (%)',  \n",
    "],\n",
    "    axis=1,\n",
    "    errors='ignore'\n",
    ")"
   ]
  },
  {
   "cell_type": "code",
   "execution_count": 144,
   "id": "62564c0e-b0d8-4a08-ba0e-2377df50f9ed",
   "metadata": {},
   "outputs": [],
   "source": [
    "df_sudo = df_sudo.replace('null', pd.NA)"
   ]
  },
  {
   "cell_type": "code",
   "execution_count": null,
   "id": "c8e06218-e166-4593-93d5-b9ed9a0b13a3",
   "metadata": {},
   "outputs": [],
   "source": [
    "# Converting data types\n",
    "# Seems unnecessary once I converted 'null' to pd.NA, because null is causing pandas to render a lot of the \n",
    "# variables as object\n",
    "# will leave it here incase I need it \n",
    "\n",
    "df_sudo = df_sudo.astype(\n",
    "    {\n",
    "        'Housing Suitability - Occupied private dwellings - Census Dwellings with bedrooms spare (no.)': 'int64',\n",
    "        'Housing Suitability - Occupied private dwellings - Census Dwellings with extra bedrooms needed (no.)': 'int64', \n",
    "        'Residential Property Prices - Year ended 30 June Houses - median sale price ($)': 'int64',\n",
    "        'Residential Property Prices - Year ended 30 June Attached Dwellings - number of transfers (no.)': 'int64',\n",
    "        'Building Approvals - Year ended 30 June Value of residential building ($m)': 'int64',\n",
    "        'Building Approvals - Year ended 30 June Private sector dwellings excluding houses (no.)': 'int64',\n",
    "        'Residential Property Prices - Year ended 30 June Attached Dwellings - median sale price ($)': 'int64',\n",
    "        'Building Approvals - Year ended 30 June Total private sector dwelling units (no.)': 'int64',\n",
    "        'Building Approvals - Year ended 30 June Total value of private sector dwelling units ($m)': 'int64',\n",
    "        'Building Approvals - Year ended 30 June Private sector houses (no.)': 'int64',\n",
    "        'Building Approvals - Year ended 30 June Total dwelling units (no.)': 'int64',\n",
    "        'Building Approvals - Year ended 30 June Value of private sector houses ($m)': 'int64',\n",
    "        'Building Approvals - Year ended 30 June Value of private sector dwellings excluding houses ($m)': 'int64',\n",
    "        'Residential Property Prices - Year ended 30 June Houses - number of transfers (no.)': 'int64',\n",
    "        'Value of Total Buildings ($000)': 'float64',\n",
    "        'Estimates of Personal Income - Year ended 30 June Total income (excl. Government pensions and allowances) - Gini coefficient': 'float64',\n",
    "        'Estimates of Personal Income - Year ended 30 June Mean employee income ($)': 'int64',\n",
    "        'Gross Capital Gains reported by taxpayers - Year ended 30 June Gross Capital Gains reported by taxpayers - Mean ($)': 'int64',\n",
    "        'Estimates of Personal Income - Year ended 30 June Mean investment income ($)': 'int64',\n",
    "        'Estimates of Personal Income - Year ended 30 June Median employee income ($)': 'int64',\n",
    "        'Gross Capital Gains reported by taxpayers - Year ended 30 June Gross Capital Gains reported by taxpayers  - Median ($)': 'int64',\n",
    "        'Estimates of Personal Income - Year ended 30 June Median investment income ($)': 'int64',\n",
    "        'Residential Property Median Attached Dwelling Sale Price ($)': 'int64',\n",
    "        'Residential Property Number of House Transfers': 'int64',\n",
    "        'Residential Property Number of Attached Dwelling Transfers': 'int64',\n",
    "        'Residential Property Median House Sale Price ($)': 'int64',\n",
    "        'State and Territory Id': 'category'\n",
    "    }, \n",
    "    errors='coerce'\n",
    ")"
   ]
  },
  {
   "cell_type": "markdown",
   "id": "563cd3ac-6be2-4a6a-ab76-d5efc11ba1ed",
   "metadata": {},
   "source": [
    "## Data Analysis"
   ]
  },
  {
   "cell_type": "code",
   "execution_count": 108,
   "id": "ce50b724-46c9-437d-94cf-c0e2071dd805",
   "metadata": {},
   "outputs": [],
   "source": [
    "import matplotlib.pyplot as plt\n",
    "import seaborn as sns"
   ]
  },
  {
   "cell_type": "code",
   "execution_count": null,
   "id": "efe83dae-e741-4f3d-83dd-b6160ecee907",
   "metadata": {},
   "outputs": [],
   "source": [
    "STATE_TERRITORY_ID = {\n",
    "    1: 'NSW',\n",
    "    2: 'VIC',\n",
    "    3: 'QLD',\n",
    "    4: 'SA',\n",
    "    5: 'WA',\n",
    "    6: 'TAS',\n",
    "    7: 'NT', # Northern Territory\n",
    "    8: 'ACT' # Australian Capital Territory\n",
    "}"
   ]
  },
  {
   "cell_type": "code",
   "execution_count": 176,
   "id": "536462bc-e709-440c-a85c-2026d2818e09",
   "metadata": {},
   "outputs": [
    {
     "data": {
      "text/plain": [
       "Residential Property Median Attached Dwelling Sale Price ($)\n",
       "NaN       2388\n",
       "320000       3\n",
       "325000       3\n",
       "255000       2\n",
       "169000       2\n",
       "          ... \n",
       "267500       1\n",
       "327000       1\n",
       "167000       1\n",
       "202000       1\n",
       "<NA>         1\n",
       "Name: count, Length: 77, dtype: int64"
      ]
     },
     "execution_count": 176,
     "metadata": {},
     "output_type": "execute_result"
    }
   ],
   "source": [
    "df_sudo['Residential Property Median Attached Dwelling Sale Price ($)'].value_counts(dropna=False)"
   ]
  },
  {
   "cell_type": "code",
   "execution_count": 178,
   "id": "afdc16b7-5daa-4e66-bf6f-b80874fa6abe",
   "metadata": {},
   "outputs": [
    {
     "data": {
      "text/plain": [
       "Year                                                                                                                              int64\n",
       "SA4 Code                                                                                                                          int64\n",
       "Household Stress - Census Households with rent payments greater than or equal to 30% of household income (%)                    float64\n",
       "Housing Suitability - Occupied private dwellings - Census Dwellings with bedrooms spare (no.)                                    object\n",
       "Rent and Mortgage Payments - Census Average monthly household mortgage payment ($)                                              float64\n",
       "Rent and Mortgage Payments - Census Average monthly household rental payment ($)                                                float64\n",
       "Housing Suitability - Occupied private dwellings - Census Dwellings with extra bedrooms needed (no.)                             object\n",
       "Household Stress - Census Households with mortgage repayments greater than or equal to 30% of household income (%)              float64\n",
       "Residential Property Prices - Year ended 30 June Houses - median sale price ($)                                                  object\n",
       "Residential Property Prices - Year ended 30 June Attached Dwellings - number of transfers (no.)                                  object\n",
       "Building Approvals - Year ended 30 June Value of residential building ($m)                                                       object\n",
       "Building Approvals - Year ended 30 June Private sector dwellings excluding houses (no.)                                          object\n",
       "Residential Property Prices - Year ended 30 June Attached Dwellings - median sale price ($)                                      object\n",
       "Building Approvals - Year ended 30 June Total private sector dwelling units (no.)                                                object\n",
       "Building Approvals - Year ended 30 June Total value of private sector dwelling units ($m)                                        object\n",
       "Building Approvals - Year ended 30 June Private sector houses (no.)                                                              object\n",
       "Building Approvals - Year ended 30 June Total dwelling units (no.)                                                               object\n",
       "Building Approvals - Year ended 30 June Value of private sector houses ($m)                                                      object\n",
       "Building Approvals - Year ended 30 June Value of private sector dwellings excluding houses ($m)                                  object\n",
       "SA4 Name                                                                                                                         object\n",
       "Residential Property Prices - Year ended 30 June Houses - number of transfers (no.)                                              object\n",
       "Value of New Other Residential Building ($000)                                                                                  float64\n",
       "Total Dwelling Number                                                                                                           float64\n",
       "Number of New Houses                                                                                                            float64\n",
       "Number of New Other Residential Buildings                                                                                       float64\n",
       "Value of Total Buildings ($000)                                                                                                  object\n",
       "Value of Total Residential Buildings ($000)                                                                                     float64\n",
       "Value of Alterations ($000)                                                                                                     float64\n",
       "Value of New Houses ($000)                                                                                                      float64\n",
       "SA4 Name 2011                                                                                                                    object\n",
       "Average number of Persons per bedroom                                                                                           float64\n",
       "Median total family income weekly                                                                                               float64\n",
       "Median total household income weekly                                                                                            float64\n",
       "Median age of persons                                                                                                           float64\n",
       "Median total personal income weekly                                                                                             float64\n",
       "Average household size                                                                                                          float64\n",
       "Median rent weekly                                                                                                              float64\n",
       "Median mortgage repayment monthly                                                                                               float64\n",
       "Estimates of Personal Income - Year ended 30 June Total income (excl. Government pensions and allowances) - Gini coefficient     object\n",
       "Estimates of Personal Income - Year ended 30 June Mean employee income ($)                                                       object\n",
       "Gross Capital Gains reported by taxpayers - Year ended 30 June Gross Capital Gains reported by taxpayers - Mean ($)              object\n",
       "Estimates of Personal Income - Year ended 30 June Mean investment income ($)                                                     object\n",
       "Estimates of Personal Income - Year ended 30 June Median employee income ($)                                                     object\n",
       "Gross Capital Gains reported by taxpayers - Year ended 30 June Gross Capital Gains reported by taxpayers  - Median ($)           object\n",
       "Estimates of Personal Income - Year ended 30 June Median investment income ($)                                                   object\n",
       "Residential Property Median Attached Dwelling Sale Price ($)                                                                     object\n",
       "Residential Property Number of House Transfers                                                                                   object\n",
       "Residential Property Number of Attached Dwelling Transfers                                                                       object\n",
       "Residential Property Median House Sale Price ($)                                                                                 object\n",
       "State and Territory Id                                                                                                            int64\n",
       "dtype: object"
      ]
     },
     "execution_count": 178,
     "metadata": {},
     "output_type": "execute_result"
    }
   ],
   "source": [
    "df_sudo.dtypes"
   ]
  },
  {
   "cell_type": "code",
   "execution_count": 180,
   "id": "0ef46fc7-747b-4448-bcef-7a01049a6012",
   "metadata": {
    "scrolled": true
   },
   "outputs": [
    {
     "ename": "TypeError",
     "evalue": "Data source must be a DataFrame or Mapping, not <class 'pandas.core.series.Series'>.",
     "output_type": "error",
     "traceback": [
      "\u001b[0;31m---------------------------------------------------------------------------\u001b[0m",
      "\u001b[0;31mTypeError\u001b[0m                                 Traceback (most recent call last)",
      "Cell \u001b[0;32mIn[180], line 5\u001b[0m\n\u001b[1;32m      1\u001b[0m grouped_df \u001b[38;5;241m=\u001b[39m df_sudo\u001b[38;5;241m.\u001b[39mgroupby([\u001b[38;5;124m'\u001b[39m\u001b[38;5;124mYear\u001b[39m\u001b[38;5;124m'\u001b[39m, \u001b[38;5;124m'\u001b[39m\u001b[38;5;124mState and Territory Id\u001b[39m\u001b[38;5;124m'\u001b[39m])\\\n\u001b[1;32m      2\u001b[0m [\u001b[38;5;124m'\u001b[39m\u001b[38;5;124mResidential Property Prices - Year ended 30 June Attached Dwellings - number of transfers (no.)\u001b[39m\u001b[38;5;124m'\u001b[39m]\u001b[38;5;241m.\u001b[39msum()\n\u001b[1;32m      4\u001b[0m plt\u001b[38;5;241m.\u001b[39mfigure(figsize\u001b[38;5;241m=\u001b[39m(\u001b[38;5;241m10\u001b[39m, \u001b[38;5;241m6\u001b[39m))\n\u001b[0;32m----> 5\u001b[0m ax \u001b[38;5;241m=\u001b[39m \u001b[43msns\u001b[49m\u001b[38;5;241;43m.\u001b[39;49m\u001b[43mlineplot\u001b[49m\u001b[43m(\u001b[49m\n\u001b[1;32m      6\u001b[0m \u001b[43m    \u001b[49m\u001b[43mdata\u001b[49m\u001b[38;5;241;43m=\u001b[39;49m\u001b[43mgrouped_df\u001b[49m\u001b[43m,\u001b[49m\u001b[43m \u001b[49m\n\u001b[1;32m      7\u001b[0m \u001b[43m    \u001b[49m\u001b[43mx\u001b[49m\u001b[38;5;241;43m=\u001b[39;49m\u001b[38;5;124;43m'\u001b[39;49m\u001b[38;5;124;43mYear\u001b[39;49m\u001b[38;5;124;43m'\u001b[39;49m\u001b[43m,\u001b[49m\u001b[43m \u001b[49m\n\u001b[1;32m      8\u001b[0m \u001b[43m    \u001b[49m\u001b[43my\u001b[49m\u001b[38;5;241;43m=\u001b[39;49m\u001b[38;5;124;43m'\u001b[39;49m\u001b[38;5;124;43mResidential Property Prices - Year ended 30 June Attached Dwellings - number of transfers (no.)\u001b[39;49m\u001b[38;5;124;43m'\u001b[39;49m\u001b[43m,\u001b[49m\n\u001b[1;32m      9\u001b[0m \u001b[43m    \u001b[49m\u001b[43mhue\u001b[49m\u001b[38;5;241;43m=\u001b[39;49m\u001b[38;5;124;43m'\u001b[39;49m\u001b[38;5;124;43mSA4 Code\u001b[39;49m\u001b[38;5;124;43m'\u001b[39;49m\n\u001b[1;32m     10\u001b[0m \u001b[43m)\u001b[49m\n",
      "File \u001b[0;32m~/.local/share/virtualenvs/comp90024_assg2-xFTsYFsd/lib/python3.8/site-packages/seaborn/relational.py:485\u001b[0m, in \u001b[0;36mlineplot\u001b[0;34m(data, x, y, hue, size, style, units, weights, palette, hue_order, hue_norm, sizes, size_order, size_norm, dashes, markers, style_order, estimator, errorbar, n_boot, seed, orient, sort, err_style, err_kws, legend, ci, ax, **kwargs)\u001b[0m\n\u001b[1;32m    471\u001b[0m \u001b[38;5;28;01mdef\u001b[39;00m \u001b[38;5;21mlineplot\u001b[39m(\n\u001b[1;32m    472\u001b[0m     data\u001b[38;5;241m=\u001b[39m\u001b[38;5;28;01mNone\u001b[39;00m, \u001b[38;5;241m*\u001b[39m,\n\u001b[1;32m    473\u001b[0m     x\u001b[38;5;241m=\u001b[39m\u001b[38;5;28;01mNone\u001b[39;00m, y\u001b[38;5;241m=\u001b[39m\u001b[38;5;28;01mNone\u001b[39;00m, hue\u001b[38;5;241m=\u001b[39m\u001b[38;5;28;01mNone\u001b[39;00m, size\u001b[38;5;241m=\u001b[39m\u001b[38;5;28;01mNone\u001b[39;00m, style\u001b[38;5;241m=\u001b[39m\u001b[38;5;28;01mNone\u001b[39;00m, units\u001b[38;5;241m=\u001b[39m\u001b[38;5;28;01mNone\u001b[39;00m, weights\u001b[38;5;241m=\u001b[39m\u001b[38;5;28;01mNone\u001b[39;00m,\n\u001b[0;32m   (...)\u001b[0m\n\u001b[1;32m    481\u001b[0m \n\u001b[1;32m    482\u001b[0m     \u001b[38;5;66;03m# Handle deprecation of ci parameter\u001b[39;00m\n\u001b[1;32m    483\u001b[0m     errorbar \u001b[38;5;241m=\u001b[39m _deprecate_ci(errorbar, ci)\n\u001b[0;32m--> 485\u001b[0m     p \u001b[38;5;241m=\u001b[39m \u001b[43m_LinePlotter\u001b[49m\u001b[43m(\u001b[49m\n\u001b[1;32m    486\u001b[0m \u001b[43m        \u001b[49m\u001b[43mdata\u001b[49m\u001b[38;5;241;43m=\u001b[39;49m\u001b[43mdata\u001b[49m\u001b[43m,\u001b[49m\n\u001b[1;32m    487\u001b[0m \u001b[43m        \u001b[49m\u001b[43mvariables\u001b[49m\u001b[38;5;241;43m=\u001b[39;49m\u001b[38;5;28;43mdict\u001b[39;49m\u001b[43m(\u001b[49m\n\u001b[1;32m    488\u001b[0m \u001b[43m            \u001b[49m\u001b[43mx\u001b[49m\u001b[38;5;241;43m=\u001b[39;49m\u001b[43mx\u001b[49m\u001b[43m,\u001b[49m\u001b[43m \u001b[49m\u001b[43my\u001b[49m\u001b[38;5;241;43m=\u001b[39;49m\u001b[43my\u001b[49m\u001b[43m,\u001b[49m\u001b[43m \u001b[49m\u001b[43mhue\u001b[49m\u001b[38;5;241;43m=\u001b[39;49m\u001b[43mhue\u001b[49m\u001b[43m,\u001b[49m\u001b[43m \u001b[49m\u001b[43msize\u001b[49m\u001b[38;5;241;43m=\u001b[39;49m\u001b[43msize\u001b[49m\u001b[43m,\u001b[49m\u001b[43m \u001b[49m\u001b[43mstyle\u001b[49m\u001b[38;5;241;43m=\u001b[39;49m\u001b[43mstyle\u001b[49m\u001b[43m,\u001b[49m\u001b[43m \u001b[49m\u001b[43munits\u001b[49m\u001b[38;5;241;43m=\u001b[39;49m\u001b[43munits\u001b[49m\u001b[43m,\u001b[49m\u001b[43m \u001b[49m\u001b[43mweight\u001b[49m\u001b[38;5;241;43m=\u001b[39;49m\u001b[43mweights\u001b[49m\n\u001b[1;32m    489\u001b[0m \u001b[43m        \u001b[49m\u001b[43m)\u001b[49m\u001b[43m,\u001b[49m\n\u001b[1;32m    490\u001b[0m \u001b[43m        \u001b[49m\u001b[43mestimator\u001b[49m\u001b[38;5;241;43m=\u001b[39;49m\u001b[43mestimator\u001b[49m\u001b[43m,\u001b[49m\u001b[43m \u001b[49m\u001b[43mn_boot\u001b[49m\u001b[38;5;241;43m=\u001b[39;49m\u001b[43mn_boot\u001b[49m\u001b[43m,\u001b[49m\u001b[43m \u001b[49m\u001b[43mseed\u001b[49m\u001b[38;5;241;43m=\u001b[39;49m\u001b[43mseed\u001b[49m\u001b[43m,\u001b[49m\u001b[43m \u001b[49m\u001b[43merrorbar\u001b[49m\u001b[38;5;241;43m=\u001b[39;49m\u001b[43merrorbar\u001b[49m\u001b[43m,\u001b[49m\n\u001b[1;32m    491\u001b[0m \u001b[43m        \u001b[49m\u001b[43msort\u001b[49m\u001b[38;5;241;43m=\u001b[39;49m\u001b[43msort\u001b[49m\u001b[43m,\u001b[49m\u001b[43m \u001b[49m\u001b[43morient\u001b[49m\u001b[38;5;241;43m=\u001b[39;49m\u001b[43morient\u001b[49m\u001b[43m,\u001b[49m\u001b[43m \u001b[49m\u001b[43merr_style\u001b[49m\u001b[38;5;241;43m=\u001b[39;49m\u001b[43merr_style\u001b[49m\u001b[43m,\u001b[49m\u001b[43m \u001b[49m\u001b[43merr_kws\u001b[49m\u001b[38;5;241;43m=\u001b[39;49m\u001b[43merr_kws\u001b[49m\u001b[43m,\u001b[49m\n\u001b[1;32m    492\u001b[0m \u001b[43m        \u001b[49m\u001b[43mlegend\u001b[49m\u001b[38;5;241;43m=\u001b[39;49m\u001b[43mlegend\u001b[49m\u001b[43m,\u001b[49m\n\u001b[1;32m    493\u001b[0m \u001b[43m    \u001b[49m\u001b[43m)\u001b[49m\n\u001b[1;32m    495\u001b[0m     p\u001b[38;5;241m.\u001b[39mmap_hue(palette\u001b[38;5;241m=\u001b[39mpalette, order\u001b[38;5;241m=\u001b[39mhue_order, norm\u001b[38;5;241m=\u001b[39mhue_norm)\n\u001b[1;32m    496\u001b[0m     p\u001b[38;5;241m.\u001b[39mmap_size(sizes\u001b[38;5;241m=\u001b[39msizes, order\u001b[38;5;241m=\u001b[39msize_order, norm\u001b[38;5;241m=\u001b[39msize_norm)\n",
      "File \u001b[0;32m~/.local/share/virtualenvs/comp90024_assg2-xFTsYFsd/lib/python3.8/site-packages/seaborn/relational.py:216\u001b[0m, in \u001b[0;36m_LinePlotter.__init__\u001b[0;34m(self, data, variables, estimator, n_boot, seed, errorbar, sort, orient, err_style, err_kws, legend)\u001b[0m\n\u001b[1;32m    202\u001b[0m \u001b[38;5;28;01mdef\u001b[39;00m \u001b[38;5;21m__init__\u001b[39m(\n\u001b[1;32m    203\u001b[0m     \u001b[38;5;28mself\u001b[39m, \u001b[38;5;241m*\u001b[39m,\n\u001b[1;32m    204\u001b[0m     data\u001b[38;5;241m=\u001b[39m\u001b[38;5;28;01mNone\u001b[39;00m, variables\u001b[38;5;241m=\u001b[39m{},\n\u001b[0;32m   (...)\u001b[0m\n\u001b[1;32m    210\u001b[0m     \u001b[38;5;66;03m# the kind of plot to draw, but for the time being we need to set\u001b[39;00m\n\u001b[1;32m    211\u001b[0m     \u001b[38;5;66;03m# this information so the SizeMapping can use it\u001b[39;00m\n\u001b[1;32m    212\u001b[0m     \u001b[38;5;28mself\u001b[39m\u001b[38;5;241m.\u001b[39m_default_size_range \u001b[38;5;241m=\u001b[39m (\n\u001b[1;32m    213\u001b[0m         np\u001b[38;5;241m.\u001b[39mr_[\u001b[38;5;241m.5\u001b[39m, \u001b[38;5;241m2\u001b[39m] \u001b[38;5;241m*\u001b[39m mpl\u001b[38;5;241m.\u001b[39mrcParams[\u001b[38;5;124m\"\u001b[39m\u001b[38;5;124mlines.linewidth\u001b[39m\u001b[38;5;124m\"\u001b[39m]\n\u001b[1;32m    214\u001b[0m     )\n\u001b[0;32m--> 216\u001b[0m     \u001b[38;5;28;43msuper\u001b[39;49m\u001b[43m(\u001b[49m\u001b[43m)\u001b[49m\u001b[38;5;241;43m.\u001b[39;49m\u001b[38;5;21;43m__init__\u001b[39;49m\u001b[43m(\u001b[49m\u001b[43mdata\u001b[49m\u001b[38;5;241;43m=\u001b[39;49m\u001b[43mdata\u001b[49m\u001b[43m,\u001b[49m\u001b[43m \u001b[49m\u001b[43mvariables\u001b[49m\u001b[38;5;241;43m=\u001b[39;49m\u001b[43mvariables\u001b[49m\u001b[43m)\u001b[49m\n\u001b[1;32m    218\u001b[0m     \u001b[38;5;28mself\u001b[39m\u001b[38;5;241m.\u001b[39mestimator \u001b[38;5;241m=\u001b[39m estimator\n\u001b[1;32m    219\u001b[0m     \u001b[38;5;28mself\u001b[39m\u001b[38;5;241m.\u001b[39merrorbar \u001b[38;5;241m=\u001b[39m errorbar\n",
      "File \u001b[0;32m~/.local/share/virtualenvs/comp90024_assg2-xFTsYFsd/lib/python3.8/site-packages/seaborn/_base.py:634\u001b[0m, in \u001b[0;36mVectorPlotter.__init__\u001b[0;34m(self, data, variables)\u001b[0m\n\u001b[1;32m    629\u001b[0m \u001b[38;5;66;03m# var_ordered is relevant only for categorical axis variables, and may\u001b[39;00m\n\u001b[1;32m    630\u001b[0m \u001b[38;5;66;03m# be better handled by an internal axis information object that tracks\u001b[39;00m\n\u001b[1;32m    631\u001b[0m \u001b[38;5;66;03m# such information and is set up by the scale_* methods. The analogous\u001b[39;00m\n\u001b[1;32m    632\u001b[0m \u001b[38;5;66;03m# information for numeric axes would be information about log scales.\u001b[39;00m\n\u001b[1;32m    633\u001b[0m \u001b[38;5;28mself\u001b[39m\u001b[38;5;241m.\u001b[39m_var_ordered \u001b[38;5;241m=\u001b[39m {\u001b[38;5;124m\"\u001b[39m\u001b[38;5;124mx\u001b[39m\u001b[38;5;124m\"\u001b[39m: \u001b[38;5;28;01mFalse\u001b[39;00m, \u001b[38;5;124m\"\u001b[39m\u001b[38;5;124my\u001b[39m\u001b[38;5;124m\"\u001b[39m: \u001b[38;5;28;01mFalse\u001b[39;00m}  \u001b[38;5;66;03m# alt., used DefaultDict\u001b[39;00m\n\u001b[0;32m--> 634\u001b[0m \u001b[38;5;28;43mself\u001b[39;49m\u001b[38;5;241;43m.\u001b[39;49m\u001b[43massign_variables\u001b[49m\u001b[43m(\u001b[49m\u001b[43mdata\u001b[49m\u001b[43m,\u001b[49m\u001b[43m \u001b[49m\u001b[43mvariables\u001b[49m\u001b[43m)\u001b[49m\n\u001b[1;32m    636\u001b[0m \u001b[38;5;66;03m# TODO Lots of tests assume that these are called to initialize the\u001b[39;00m\n\u001b[1;32m    637\u001b[0m \u001b[38;5;66;03m# mappings to default values on class initialization. I'd prefer to\u001b[39;00m\n\u001b[1;32m    638\u001b[0m \u001b[38;5;66;03m# move away from that and only have a mapping when explicitly called.\u001b[39;00m\n\u001b[1;32m    639\u001b[0m \u001b[38;5;28;01mfor\u001b[39;00m var \u001b[38;5;129;01min\u001b[39;00m [\u001b[38;5;124m\"\u001b[39m\u001b[38;5;124mhue\u001b[39m\u001b[38;5;124m\"\u001b[39m, \u001b[38;5;124m\"\u001b[39m\u001b[38;5;124msize\u001b[39m\u001b[38;5;124m\"\u001b[39m, \u001b[38;5;124m\"\u001b[39m\u001b[38;5;124mstyle\u001b[39m\u001b[38;5;124m\"\u001b[39m]:\n",
      "File \u001b[0;32m~/.local/share/virtualenvs/comp90024_assg2-xFTsYFsd/lib/python3.8/site-packages/seaborn/_base.py:679\u001b[0m, in \u001b[0;36mVectorPlotter.assign_variables\u001b[0;34m(self, data, variables)\u001b[0m\n\u001b[1;32m    674\u001b[0m \u001b[38;5;28;01melse\u001b[39;00m:\n\u001b[1;32m    675\u001b[0m     \u001b[38;5;66;03m# When dealing with long-form input, use the newer PlotData\u001b[39;00m\n\u001b[1;32m    676\u001b[0m     \u001b[38;5;66;03m# object (internal but introduced for the objects interface)\u001b[39;00m\n\u001b[1;32m    677\u001b[0m     \u001b[38;5;66;03m# to centralize / standardize data consumption logic.\u001b[39;00m\n\u001b[1;32m    678\u001b[0m     \u001b[38;5;28mself\u001b[39m\u001b[38;5;241m.\u001b[39minput_format \u001b[38;5;241m=\u001b[39m \u001b[38;5;124m\"\u001b[39m\u001b[38;5;124mlong\u001b[39m\u001b[38;5;124m\"\u001b[39m\n\u001b[0;32m--> 679\u001b[0m     plot_data \u001b[38;5;241m=\u001b[39m \u001b[43mPlotData\u001b[49m\u001b[43m(\u001b[49m\u001b[43mdata\u001b[49m\u001b[43m,\u001b[49m\u001b[43m \u001b[49m\u001b[43mvariables\u001b[49m\u001b[43m)\u001b[49m\n\u001b[1;32m    680\u001b[0m     frame \u001b[38;5;241m=\u001b[39m plot_data\u001b[38;5;241m.\u001b[39mframe\n\u001b[1;32m    681\u001b[0m     names \u001b[38;5;241m=\u001b[39m plot_data\u001b[38;5;241m.\u001b[39mnames\n",
      "File \u001b[0;32m~/.local/share/virtualenvs/comp90024_assg2-xFTsYFsd/lib/python3.8/site-packages/seaborn/_core/data.py:57\u001b[0m, in \u001b[0;36mPlotData.__init__\u001b[0;34m(self, data, variables)\u001b[0m\n\u001b[1;32m     51\u001b[0m \u001b[38;5;28;01mdef\u001b[39;00m \u001b[38;5;21m__init__\u001b[39m(\n\u001b[1;32m     52\u001b[0m     \u001b[38;5;28mself\u001b[39m,\n\u001b[1;32m     53\u001b[0m     data: DataSource,\n\u001b[1;32m     54\u001b[0m     variables: \u001b[38;5;28mdict\u001b[39m[\u001b[38;5;28mstr\u001b[39m, VariableSpec],\n\u001b[1;32m     55\u001b[0m ):\n\u001b[0;32m---> 57\u001b[0m     data \u001b[38;5;241m=\u001b[39m \u001b[43mhandle_data_source\u001b[49m\u001b[43m(\u001b[49m\u001b[43mdata\u001b[49m\u001b[43m)\u001b[49m\n\u001b[1;32m     58\u001b[0m     frame, names, ids \u001b[38;5;241m=\u001b[39m \u001b[38;5;28mself\u001b[39m\u001b[38;5;241m.\u001b[39m_assign_variables(data, variables)\n\u001b[1;32m     60\u001b[0m     \u001b[38;5;28mself\u001b[39m\u001b[38;5;241m.\u001b[39mframe \u001b[38;5;241m=\u001b[39m frame\n",
      "File \u001b[0;32m~/.local/share/virtualenvs/comp90024_assg2-xFTsYFsd/lib/python3.8/site-packages/seaborn/_core/data.py:278\u001b[0m, in \u001b[0;36mhandle_data_source\u001b[0;34m(data)\u001b[0m\n\u001b[1;32m    276\u001b[0m \u001b[38;5;28;01melif\u001b[39;00m data \u001b[38;5;129;01mis\u001b[39;00m \u001b[38;5;129;01mnot\u001b[39;00m \u001b[38;5;28;01mNone\u001b[39;00m \u001b[38;5;129;01mand\u001b[39;00m \u001b[38;5;129;01mnot\u001b[39;00m \u001b[38;5;28misinstance\u001b[39m(data, Mapping):\n\u001b[1;32m    277\u001b[0m     err \u001b[38;5;241m=\u001b[39m \u001b[38;5;124mf\u001b[39m\u001b[38;5;124m\"\u001b[39m\u001b[38;5;124mData source must be a DataFrame or Mapping, not \u001b[39m\u001b[38;5;132;01m{\u001b[39;00m\u001b[38;5;28mtype\u001b[39m(data)\u001b[38;5;132;01m!r}\u001b[39;00m\u001b[38;5;124m.\u001b[39m\u001b[38;5;124m\"\u001b[39m\n\u001b[0;32m--> 278\u001b[0m     \u001b[38;5;28;01mraise\u001b[39;00m \u001b[38;5;167;01mTypeError\u001b[39;00m(err)\n\u001b[1;32m    280\u001b[0m \u001b[38;5;28;01mreturn\u001b[39;00m data\n",
      "\u001b[0;31mTypeError\u001b[0m: Data source must be a DataFrame or Mapping, not <class 'pandas.core.series.Series'>."
     ]
    },
    {
     "data": {
      "text/plain": [
       "<Figure size 1000x600 with 0 Axes>"
      ]
     },
     "metadata": {},
     "output_type": "display_data"
    }
   ],
   "source": [
    "grouped_df = df_sudo.groupby(['Year', 'State and Territory Id'])\\\n",
    "['Residential Property Prices - Year ended 30 June Attached Dwellings - number of transfers (no.)'].sum()\n",
    "\n",
    "plt.figure(figsize=(10, 6))\n",
    "ax = sns.lineplot(\n",
    "    data=grouped_df, \n",
    "    x='Year', \n",
    "    y='Residential Property Prices - Year ended 30 June Attached Dwellings - number of transfers (no.)',\n",
    "    hue='SA4 Code'\n",
    ")"
   ]
  },
  {
   "cell_type": "code",
   "execution_count": 181,
   "id": "74068815-41ba-42ce-aebf-3bb44590d343",
   "metadata": {
    "collapsed": true,
    "jupyter": {
     "outputs_hidden": true
    }
   },
   "outputs": [
    {
     "data": {
      "text/plain": [
       "Year  State and Territory Id\n",
       "2014  1                         9201778222588837531998105738515616681633287411...\n",
       "      2                         3492891005302600102392807421420861296222128392...\n",
       "      3                         7251717227184654411404105346765256187339794253...\n",
       "      4                                                 1983115215591474107234323\n",
       "      5                                              4805302186879228520491708133\n",
       "      6                                                              115845233297\n",
       "      7                                                                   1448189\n",
       "      8                                                                      3098\n",
       "2015  1                         9252016283645917461962123543622216591859263461...\n",
       "      2                         4493751242402720145234239587028531921296537683...\n",
       "      3                         1225202229971152598320009237811255902149943212...\n",
       "      4                                                  210710241601154491172333\n",
       "      5                                              4883742195933215422501677117\n",
       "      6                                                              104042537278\n",
       "      7                                                                   1329198\n",
       "      8                                                                      3811\n",
       "2016  1                         1082184130283094828197912883892131737202527448...\n",
       "      2                         4833591243398736121073609522528992066289035853...\n",
       "      3                         1134158228681101504818787033611818962131736711...\n",
       "      4                                                  232810661595151488114290\n",
       "      5                                               404372188371719761895141382\n",
       "      6                                                              109845045297\n",
       "      7                                                                    899185\n",
       "      8                                                                      3943\n",
       "2017  1                         1212181935375874962166913034311912121187923841...\n",
       "      2                         6113681263426783122083298511228802220285741653...\n",
       "      3                         8961180211188240781830673221041166697232610676...\n",
       "      4                                                  227411331776161180103295\n",
       "      5                                         369341182965817801800154496248214\n",
       "      6                                                              141960957346\n",
       "      7                                                                    847172\n",
       "      8                                                                      4366\n",
       "      9                                                                         5\n",
       "2018  1                         1179140027867653915139510273941681631171428834...\n",
       "      2                         7634081262470863111992802402924481840244434213...\n",
       "      3                         7959201669743332918708232292425418623861064648...\n",
       "      4                                                 2331119617131673100202330\n",
       "      5                                        3423911858656168118021533104318178\n",
       "      6                                                              136468556416\n",
       "      7                                                                    585159\n",
       "      8                                                                      3455\n",
       "2019  1                         1060132728356839741130597838319013071579261358...\n",
       "      2                         5894081063488896106542705353021761388215127672...\n",
       "      3                         7399911677726352418379140586275127754579425173...\n",
       "      4                                                  232010911593175886192311\n",
       "      5                                        3123671817598155817201439123471226\n",
       "      6                                                              140567753411\n",
       "      7                                                                    539165\n",
       "      8                                                                      3426\n",
       "Name: Residential Property Prices - Year ended 30 June Attached Dwellings - number of transfers (no.), dtype: object"
      ]
     },
     "execution_count": 181,
     "metadata": {},
     "output_type": "execute_result"
    }
   ],
   "source": [
    "grouped_df[grouped_df != 0]"
   ]
  },
  {
   "cell_type": "code",
   "execution_count": 182,
   "id": "673bf6f9-b3c7-4783-8f80-10583e1094f1",
   "metadata": {},
   "outputs": [],
   "source": [
    "test = df_sudo[df_sudo.apply(lambda x: x['Year']==2014 and x['State and Territory Id']==1, axis=1)]\\\n",
    "[[\n",
    "    'Year',\n",
    "    'SA4 Code',\n",
    "    'Residential Property Prices - Year ended 30 June Attached Dwellings - number of transfers (no.)',\n",
    "]]"
   ]
  },
  {
   "cell_type": "code",
   "execution_count": 186,
   "id": "38d98992-d895-4535-a8d4-5a78ab11d7dd",
   "metadata": {},
   "outputs": [
    {
     "data": {
      "text/plain": [
       "Residential Property Prices - Year ended 30 June Attached Dwellings - number of transfers (no.)\n",
       "1778    2\n",
       "920     1\n",
       "621     1\n",
       "2091    1\n",
       "5084    1\n",
       "1356    1\n",
       "855     1\n",
       "3135    1\n",
       "5863    1\n",
       "4130    1\n",
       "5310    1\n",
       "3871    1\n",
       "6759    1\n",
       "1271    1\n",
       "411     1\n",
       "287     1\n",
       "1633    1\n",
       "1668    1\n",
       "156     1\n",
       "385     1\n",
       "1057    1\n",
       "1998    1\n",
       "753     1\n",
       "83      1\n",
       "588     1\n",
       "222     1\n",
       "2264    1\n",
       "Name: count, dtype: int64"
      ]
     },
     "execution_count": 186,
     "metadata": {},
     "output_type": "execute_result"
    }
   ],
   "source": [
    "test['Residential Property Prices - Year ended 30 June Attached Dwellings - number of transfers (no.)'].value_counts()"
   ]
  },
  {
   "cell_type": "code",
   "execution_count": 185,
   "id": "29d5e810-18c8-4d54-bb61-d14e81fe2dab",
   "metadata": {},
   "outputs": [
    {
     "ename": "TypeError",
     "evalue": "can only concatenate str (not \"int\") to str",
     "output_type": "error",
     "traceback": [
      "\u001b[0;31m---------------------------------------------------------------------------\u001b[0m",
      "\u001b[0;31mTypeError\u001b[0m                                 Traceback (most recent call last)",
      "Cell \u001b[0;32mIn[185], line 1\u001b[0m\n\u001b[0;32m----> 1\u001b[0m \u001b[43mtest\u001b[49m\u001b[43m[\u001b[49m\u001b[38;5;124;43m'\u001b[39;49m\u001b[38;5;124;43mResidential Property Prices - Year ended 30 June Attached Dwellings - number of transfers (no.)\u001b[39;49m\u001b[38;5;124;43m'\u001b[39;49m\u001b[43m]\u001b[49m\u001b[38;5;241;43m.\u001b[39;49m\u001b[43msum\u001b[49m\u001b[43m(\u001b[49m\u001b[43m)\u001b[49m\n",
      "File \u001b[0;32m~/.local/share/virtualenvs/comp90024_assg2-xFTsYFsd/lib/python3.8/site-packages/pandas/core/generic.py:11512\u001b[0m, in \u001b[0;36mNDFrame._add_numeric_operations.<locals>.sum\u001b[0;34m(self, axis, skipna, numeric_only, min_count, **kwargs)\u001b[0m\n\u001b[1;32m  11493\u001b[0m \u001b[38;5;129m@doc\u001b[39m(  \u001b[38;5;66;03m# type: ignore[misc]\u001b[39;00m\n\u001b[1;32m  11494\u001b[0m     _num_doc,\n\u001b[1;32m  11495\u001b[0m     desc\u001b[38;5;241m=\u001b[39m\u001b[38;5;124m\"\u001b[39m\u001b[38;5;124mReturn the sum of the values over the requested axis.\u001b[39m\u001b[38;5;130;01m\\n\u001b[39;00m\u001b[38;5;130;01m\\n\u001b[39;00m\u001b[38;5;124m\"\u001b[39m\n\u001b[0;32m   (...)\u001b[0m\n\u001b[1;32m  11510\u001b[0m     \u001b[38;5;241m*\u001b[39m\u001b[38;5;241m*\u001b[39mkwargs,\n\u001b[1;32m  11511\u001b[0m ):\n\u001b[0;32m> 11512\u001b[0m     \u001b[38;5;28;01mreturn\u001b[39;00m \u001b[43mNDFrame\u001b[49m\u001b[38;5;241;43m.\u001b[39;49m\u001b[43msum\u001b[49m\u001b[43m(\u001b[49m\u001b[38;5;28;43mself\u001b[39;49m\u001b[43m,\u001b[49m\u001b[43m \u001b[49m\u001b[43maxis\u001b[49m\u001b[43m,\u001b[49m\u001b[43m \u001b[49m\u001b[43mskipna\u001b[49m\u001b[43m,\u001b[49m\u001b[43m \u001b[49m\u001b[43mnumeric_only\u001b[49m\u001b[43m,\u001b[49m\u001b[43m \u001b[49m\u001b[43mmin_count\u001b[49m\u001b[43m,\u001b[49m\u001b[43m \u001b[49m\u001b[38;5;241;43m*\u001b[39;49m\u001b[38;5;241;43m*\u001b[39;49m\u001b[43mkwargs\u001b[49m\u001b[43m)\u001b[49m\n",
      "File \u001b[0;32m~/.local/share/virtualenvs/comp90024_assg2-xFTsYFsd/lib/python3.8/site-packages/pandas/core/generic.py:11280\u001b[0m, in \u001b[0;36mNDFrame.sum\u001b[0;34m(self, axis, skipna, numeric_only, min_count, **kwargs)\u001b[0m\n\u001b[1;32m  11272\u001b[0m \u001b[38;5;28;01mdef\u001b[39;00m \u001b[38;5;21msum\u001b[39m(\n\u001b[1;32m  11273\u001b[0m     \u001b[38;5;28mself\u001b[39m,\n\u001b[1;32m  11274\u001b[0m     axis: Axis \u001b[38;5;241m|\u001b[39m \u001b[38;5;28;01mNone\u001b[39;00m \u001b[38;5;241m=\u001b[39m \u001b[38;5;28;01mNone\u001b[39;00m,\n\u001b[0;32m   (...)\u001b[0m\n\u001b[1;32m  11278\u001b[0m     \u001b[38;5;241m*\u001b[39m\u001b[38;5;241m*\u001b[39mkwargs,\n\u001b[1;32m  11279\u001b[0m ):\n\u001b[0;32m> 11280\u001b[0m     \u001b[38;5;28;01mreturn\u001b[39;00m \u001b[38;5;28;43mself\u001b[39;49m\u001b[38;5;241;43m.\u001b[39;49m\u001b[43m_min_count_stat_function\u001b[49m\u001b[43m(\u001b[49m\n\u001b[1;32m  11281\u001b[0m \u001b[43m        \u001b[49m\u001b[38;5;124;43m\"\u001b[39;49m\u001b[38;5;124;43msum\u001b[39;49m\u001b[38;5;124;43m\"\u001b[39;49m\u001b[43m,\u001b[49m\u001b[43m \u001b[49m\u001b[43mnanops\u001b[49m\u001b[38;5;241;43m.\u001b[39;49m\u001b[43mnansum\u001b[49m\u001b[43m,\u001b[49m\u001b[43m \u001b[49m\u001b[43maxis\u001b[49m\u001b[43m,\u001b[49m\u001b[43m \u001b[49m\u001b[43mskipna\u001b[49m\u001b[43m,\u001b[49m\u001b[43m \u001b[49m\u001b[43mnumeric_only\u001b[49m\u001b[43m,\u001b[49m\u001b[43m \u001b[49m\u001b[43mmin_count\u001b[49m\u001b[43m,\u001b[49m\u001b[43m \u001b[49m\u001b[38;5;241;43m*\u001b[39;49m\u001b[38;5;241;43m*\u001b[39;49m\u001b[43mkwargs\u001b[49m\n\u001b[1;32m  11282\u001b[0m \u001b[43m    \u001b[49m\u001b[43m)\u001b[49m\n",
      "File \u001b[0;32m~/.local/share/virtualenvs/comp90024_assg2-xFTsYFsd/lib/python3.8/site-packages/pandas/core/generic.py:11263\u001b[0m, in \u001b[0;36mNDFrame._min_count_stat_function\u001b[0;34m(self, name, func, axis, skipna, numeric_only, min_count, **kwargs)\u001b[0m\n\u001b[1;32m  11260\u001b[0m \u001b[38;5;28;01mif\u001b[39;00m axis \u001b[38;5;129;01mis\u001b[39;00m \u001b[38;5;28;01mNone\u001b[39;00m:\n\u001b[1;32m  11261\u001b[0m     axis \u001b[38;5;241m=\u001b[39m \u001b[38;5;28mself\u001b[39m\u001b[38;5;241m.\u001b[39m_stat_axis_number\n\u001b[0;32m> 11263\u001b[0m \u001b[38;5;28;01mreturn\u001b[39;00m \u001b[38;5;28;43mself\u001b[39;49m\u001b[38;5;241;43m.\u001b[39;49m\u001b[43m_reduce\u001b[49m\u001b[43m(\u001b[49m\n\u001b[1;32m  11264\u001b[0m \u001b[43m    \u001b[49m\u001b[43mfunc\u001b[49m\u001b[43m,\u001b[49m\n\u001b[1;32m  11265\u001b[0m \u001b[43m    \u001b[49m\u001b[43mname\u001b[49m\u001b[38;5;241;43m=\u001b[39;49m\u001b[43mname\u001b[49m\u001b[43m,\u001b[49m\n\u001b[1;32m  11266\u001b[0m \u001b[43m    \u001b[49m\u001b[43maxis\u001b[49m\u001b[38;5;241;43m=\u001b[39;49m\u001b[43maxis\u001b[49m\u001b[43m,\u001b[49m\n\u001b[1;32m  11267\u001b[0m \u001b[43m    \u001b[49m\u001b[43mskipna\u001b[49m\u001b[38;5;241;43m=\u001b[39;49m\u001b[43mskipna\u001b[49m\u001b[43m,\u001b[49m\n\u001b[1;32m  11268\u001b[0m \u001b[43m    \u001b[49m\u001b[43mnumeric_only\u001b[49m\u001b[38;5;241;43m=\u001b[39;49m\u001b[43mnumeric_only\u001b[49m\u001b[43m,\u001b[49m\n\u001b[1;32m  11269\u001b[0m \u001b[43m    \u001b[49m\u001b[43mmin_count\u001b[49m\u001b[38;5;241;43m=\u001b[39;49m\u001b[43mmin_count\u001b[49m\u001b[43m,\u001b[49m\n\u001b[1;32m  11270\u001b[0m \u001b[43m\u001b[49m\u001b[43m)\u001b[49m\n",
      "File \u001b[0;32m~/.local/share/virtualenvs/comp90024_assg2-xFTsYFsd/lib/python3.8/site-packages/pandas/core/series.py:4670\u001b[0m, in \u001b[0;36mSeries._reduce\u001b[0;34m(self, op, name, axis, skipna, numeric_only, filter_type, **kwds)\u001b[0m\n\u001b[1;32m   4665\u001b[0m     \u001b[38;5;28;01mraise\u001b[39;00m \u001b[38;5;167;01mTypeError\u001b[39;00m(\n\u001b[1;32m   4666\u001b[0m         \u001b[38;5;124mf\u001b[39m\u001b[38;5;124m\"\u001b[39m\u001b[38;5;124mSeries.\u001b[39m\u001b[38;5;132;01m{\u001b[39;00mname\u001b[38;5;132;01m}\u001b[39;00m\u001b[38;5;124m does not allow \u001b[39m\u001b[38;5;132;01m{\u001b[39;00mkwd_name\u001b[38;5;132;01m}\u001b[39;00m\u001b[38;5;124m=\u001b[39m\u001b[38;5;132;01m{\u001b[39;00mnumeric_only\u001b[38;5;132;01m}\u001b[39;00m\u001b[38;5;124m \u001b[39m\u001b[38;5;124m\"\u001b[39m\n\u001b[1;32m   4667\u001b[0m         \u001b[38;5;124m\"\u001b[39m\u001b[38;5;124mwith non-numeric dtypes.\u001b[39m\u001b[38;5;124m\"\u001b[39m\n\u001b[1;32m   4668\u001b[0m     )\n\u001b[1;32m   4669\u001b[0m \u001b[38;5;28;01mwith\u001b[39;00m np\u001b[38;5;241m.\u001b[39merrstate(\u001b[38;5;28mall\u001b[39m\u001b[38;5;241m=\u001b[39m\u001b[38;5;124m\"\u001b[39m\u001b[38;5;124mignore\u001b[39m\u001b[38;5;124m\"\u001b[39m):\n\u001b[0;32m-> 4670\u001b[0m     \u001b[38;5;28;01mreturn\u001b[39;00m \u001b[43mop\u001b[49m\u001b[43m(\u001b[49m\u001b[43mdelegate\u001b[49m\u001b[43m,\u001b[49m\u001b[43m \u001b[49m\u001b[43mskipna\u001b[49m\u001b[38;5;241;43m=\u001b[39;49m\u001b[43mskipna\u001b[49m\u001b[43m,\u001b[49m\u001b[43m \u001b[49m\u001b[38;5;241;43m*\u001b[39;49m\u001b[38;5;241;43m*\u001b[39;49m\u001b[43mkwds\u001b[49m\u001b[43m)\u001b[49m\n",
      "File \u001b[0;32m~/.local/share/virtualenvs/comp90024_assg2-xFTsYFsd/lib/python3.8/site-packages/pandas/core/nanops.py:96\u001b[0m, in \u001b[0;36mdisallow.__call__.<locals>._f\u001b[0;34m(*args, **kwargs)\u001b[0m\n\u001b[1;32m     94\u001b[0m \u001b[38;5;28;01mtry\u001b[39;00m:\n\u001b[1;32m     95\u001b[0m     \u001b[38;5;28;01mwith\u001b[39;00m np\u001b[38;5;241m.\u001b[39merrstate(invalid\u001b[38;5;241m=\u001b[39m\u001b[38;5;124m\"\u001b[39m\u001b[38;5;124mignore\u001b[39m\u001b[38;5;124m\"\u001b[39m):\n\u001b[0;32m---> 96\u001b[0m         \u001b[38;5;28;01mreturn\u001b[39;00m \u001b[43mf\u001b[49m\u001b[43m(\u001b[49m\u001b[38;5;241;43m*\u001b[39;49m\u001b[43margs\u001b[49m\u001b[43m,\u001b[49m\u001b[43m \u001b[49m\u001b[38;5;241;43m*\u001b[39;49m\u001b[38;5;241;43m*\u001b[39;49m\u001b[43mkwargs\u001b[49m\u001b[43m)\u001b[49m\n\u001b[1;32m     97\u001b[0m \u001b[38;5;28;01mexcept\u001b[39;00m \u001b[38;5;167;01mValueError\u001b[39;00m \u001b[38;5;28;01mas\u001b[39;00m e:\n\u001b[1;32m     98\u001b[0m     \u001b[38;5;66;03m# we want to transform an object array\u001b[39;00m\n\u001b[1;32m     99\u001b[0m     \u001b[38;5;66;03m# ValueError message to the more typical TypeError\u001b[39;00m\n\u001b[1;32m    100\u001b[0m     \u001b[38;5;66;03m# e.g. this is normally a disallowed function on\u001b[39;00m\n\u001b[1;32m    101\u001b[0m     \u001b[38;5;66;03m# object arrays that contain strings\u001b[39;00m\n\u001b[1;32m    102\u001b[0m     \u001b[38;5;28;01mif\u001b[39;00m is_object_dtype(args[\u001b[38;5;241m0\u001b[39m]):\n",
      "File \u001b[0;32m~/.local/share/virtualenvs/comp90024_assg2-xFTsYFsd/lib/python3.8/site-packages/pandas/core/nanops.py:421\u001b[0m, in \u001b[0;36m_datetimelike_compat.<locals>.new_func\u001b[0;34m(values, axis, skipna, mask, **kwargs)\u001b[0m\n\u001b[1;32m    418\u001b[0m \u001b[38;5;28;01mif\u001b[39;00m datetimelike \u001b[38;5;129;01mand\u001b[39;00m mask \u001b[38;5;129;01mis\u001b[39;00m \u001b[38;5;28;01mNone\u001b[39;00m:\n\u001b[1;32m    419\u001b[0m     mask \u001b[38;5;241m=\u001b[39m isna(values)\n\u001b[0;32m--> 421\u001b[0m result \u001b[38;5;241m=\u001b[39m \u001b[43mfunc\u001b[49m\u001b[43m(\u001b[49m\u001b[43mvalues\u001b[49m\u001b[43m,\u001b[49m\u001b[43m \u001b[49m\u001b[43maxis\u001b[49m\u001b[38;5;241;43m=\u001b[39;49m\u001b[43maxis\u001b[49m\u001b[43m,\u001b[49m\u001b[43m \u001b[49m\u001b[43mskipna\u001b[49m\u001b[38;5;241;43m=\u001b[39;49m\u001b[43mskipna\u001b[49m\u001b[43m,\u001b[49m\u001b[43m \u001b[49m\u001b[43mmask\u001b[49m\u001b[38;5;241;43m=\u001b[39;49m\u001b[43mmask\u001b[49m\u001b[43m,\u001b[49m\u001b[43m \u001b[49m\u001b[38;5;241;43m*\u001b[39;49m\u001b[38;5;241;43m*\u001b[39;49m\u001b[43mkwargs\u001b[49m\u001b[43m)\u001b[49m\n\u001b[1;32m    423\u001b[0m \u001b[38;5;28;01mif\u001b[39;00m datetimelike:\n\u001b[1;32m    424\u001b[0m     result \u001b[38;5;241m=\u001b[39m _wrap_results(result, orig_values\u001b[38;5;241m.\u001b[39mdtype, fill_value\u001b[38;5;241m=\u001b[39miNaT)\n",
      "File \u001b[0;32m~/.local/share/virtualenvs/comp90024_assg2-xFTsYFsd/lib/python3.8/site-packages/pandas/core/nanops.py:494\u001b[0m, in \u001b[0;36mmaybe_operate_rowwise.<locals>.newfunc\u001b[0;34m(values, axis, **kwargs)\u001b[0m\n\u001b[1;32m    491\u001b[0m         results \u001b[38;5;241m=\u001b[39m [func(x, \u001b[38;5;241m*\u001b[39m\u001b[38;5;241m*\u001b[39mkwargs) \u001b[38;5;28;01mfor\u001b[39;00m x \u001b[38;5;129;01min\u001b[39;00m arrs]\n\u001b[1;32m    492\u001b[0m     \u001b[38;5;28;01mreturn\u001b[39;00m np\u001b[38;5;241m.\u001b[39marray(results)\n\u001b[0;32m--> 494\u001b[0m \u001b[38;5;28;01mreturn\u001b[39;00m \u001b[43mfunc\u001b[49m\u001b[43m(\u001b[49m\u001b[43mvalues\u001b[49m\u001b[43m,\u001b[49m\u001b[43m \u001b[49m\u001b[43maxis\u001b[49m\u001b[38;5;241;43m=\u001b[39;49m\u001b[43maxis\u001b[49m\u001b[43m,\u001b[49m\u001b[43m \u001b[49m\u001b[38;5;241;43m*\u001b[39;49m\u001b[38;5;241;43m*\u001b[39;49m\u001b[43mkwargs\u001b[49m\u001b[43m)\u001b[49m\n",
      "File \u001b[0;32m~/.local/share/virtualenvs/comp90024_assg2-xFTsYFsd/lib/python3.8/site-packages/pandas/core/nanops.py:652\u001b[0m, in \u001b[0;36mnansum\u001b[0;34m(values, axis, skipna, min_count, mask)\u001b[0m\n\u001b[1;32m    649\u001b[0m \u001b[38;5;28;01melif\u001b[39;00m is_timedelta64_dtype(dtype):\n\u001b[1;32m    650\u001b[0m     dtype_sum \u001b[38;5;241m=\u001b[39m np\u001b[38;5;241m.\u001b[39mdtype(np\u001b[38;5;241m.\u001b[39mfloat64)\n\u001b[0;32m--> 652\u001b[0m the_sum \u001b[38;5;241m=\u001b[39m \u001b[43mvalues\u001b[49m\u001b[38;5;241;43m.\u001b[39;49m\u001b[43msum\u001b[49m\u001b[43m(\u001b[49m\u001b[43maxis\u001b[49m\u001b[43m,\u001b[49m\u001b[43m \u001b[49m\u001b[43mdtype\u001b[49m\u001b[38;5;241;43m=\u001b[39;49m\u001b[43mdtype_sum\u001b[49m\u001b[43m)\u001b[49m\n\u001b[1;32m    653\u001b[0m the_sum \u001b[38;5;241m=\u001b[39m _maybe_null_out(the_sum, axis, mask, values\u001b[38;5;241m.\u001b[39mshape, min_count\u001b[38;5;241m=\u001b[39mmin_count)\n\u001b[1;32m    655\u001b[0m \u001b[38;5;28;01mreturn\u001b[39;00m the_sum\n",
      "File \u001b[0;32m~/.local/share/virtualenvs/comp90024_assg2-xFTsYFsd/lib/python3.8/site-packages/numpy/core/_methods.py:49\u001b[0m, in \u001b[0;36m_sum\u001b[0;34m(a, axis, dtype, out, keepdims, initial, where)\u001b[0m\n\u001b[1;32m     47\u001b[0m \u001b[38;5;28;01mdef\u001b[39;00m \u001b[38;5;21m_sum\u001b[39m(a, axis\u001b[38;5;241m=\u001b[39m\u001b[38;5;28;01mNone\u001b[39;00m, dtype\u001b[38;5;241m=\u001b[39m\u001b[38;5;28;01mNone\u001b[39;00m, out\u001b[38;5;241m=\u001b[39m\u001b[38;5;28;01mNone\u001b[39;00m, keepdims\u001b[38;5;241m=\u001b[39m\u001b[38;5;28;01mFalse\u001b[39;00m,\n\u001b[1;32m     48\u001b[0m          initial\u001b[38;5;241m=\u001b[39m_NoValue, where\u001b[38;5;241m=\u001b[39m\u001b[38;5;28;01mTrue\u001b[39;00m):\n\u001b[0;32m---> 49\u001b[0m     \u001b[38;5;28;01mreturn\u001b[39;00m \u001b[43mumr_sum\u001b[49m\u001b[43m(\u001b[49m\u001b[43ma\u001b[49m\u001b[43m,\u001b[49m\u001b[43m \u001b[49m\u001b[43maxis\u001b[49m\u001b[43m,\u001b[49m\u001b[43m \u001b[49m\u001b[43mdtype\u001b[49m\u001b[43m,\u001b[49m\u001b[43m \u001b[49m\u001b[43mout\u001b[49m\u001b[43m,\u001b[49m\u001b[43m \u001b[49m\u001b[43mkeepdims\u001b[49m\u001b[43m,\u001b[49m\u001b[43m \u001b[49m\u001b[43minitial\u001b[49m\u001b[43m,\u001b[49m\u001b[43m \u001b[49m\u001b[43mwhere\u001b[49m\u001b[43m)\u001b[49m\n",
      "\u001b[0;31mTypeError\u001b[0m: can only concatenate str (not \"int\") to str"
     ]
    }
   ],
   "source": [
    "test['Residential Property Prices - Year ended 30 June Attached Dwellings - number of transfers (no.)'].sum()"
   ]
  },
  {
   "cell_type": "code",
   "execution_count": 147,
   "id": "96475198-c094-442e-9c5d-66852bb7dbcd",
   "metadata": {},
   "outputs": [
    {
     "data": {
      "image/png": "[encoded data removed]",
      "text/plain": [
       "<Figure size 1000x600 with 1 Axes>"
      ]
     },
     "metadata": {},
     "output_type": "display_data"
    }
   ],
   "source": [
    "plt.figure(figsize=(10, 6))\n",
    "ax = sns.lineplot(\n",
    "    data=df_sudo, \n",
    "    x='Year', \n",
    "    y='Household Stress - Census Households with rent payments greater than or equal to 30% of household income (%)',\n",
    "    hue='SA4 Code'\n",
    ")"
   ]
  }
 ],
 "metadata": {
  "kernelspec": {
   "display_name": "Python 3 (ipykernel)",
   "language": "python",
   "name": "python3"
  },
  "language_info": {
   "codemirror_mode": {
    "name": "ipython",
    "version": 3
   },
   "file_extension": ".py",
   "mimetype": "text/x-python",
   "name": "python",
   "nbconvert_exporter": "python",
   "pygments_lexer": "ipython3",
   "version": "3.8.12"
  }
 },
 "nbformat": 4,
 "nbformat_minor": 5
}
