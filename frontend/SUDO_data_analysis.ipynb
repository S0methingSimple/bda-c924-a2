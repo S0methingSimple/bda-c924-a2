{
 "cells": [
  {
   "cell_type": "code",
   "execution_count": 80,
   "id": "0179e93f-7434-45d6-b95d-20567c0f172c",
   "metadata": {},
   "outputs": [],
   "source": [
    "import re\n",
    "import requests\n",
    "import pandas as pd\n",
    "import json\n",
    "import config\n",
    "import warnings\n",
    "warnings.filterwarnings(\"ignore\")\n",
    "\n",
    "from elasticsearch import Elasticsearch"
   ]
  },
  {
   "cell_type": "markdown",
   "id": "2f064b85-5963-48e6-aafa-853c7396fc42",
   "metadata": {},
   "source": [
    "## Helper"
   ]
  },
  {
   "cell_type": "code",
   "execution_count": 2,
   "id": "884698db-738d-4dc4-b858-6e5d6a071e0d",
   "metadata": {},
   "outputs": [],
   "source": [
    "def divider(n=1):\n",
    "    for i in range(n):\n",
    "        print(\"-\" * 20)\n",
    "\n",
    "def full(df):\n",
    "    \"\"\"\n",
    "    display the full pandas dataframe\n",
    "    \"\"\"\n",
    "    with pd.option_context(\"display.max_rows\", None):\n",
    "        display(df)"
   ]
  },
  {
   "cell_type": "markdown",
   "id": "2fe751ca-330c-420a-8e1b-465a09dd9027",
   "metadata": {},
   "source": [
    "## load data from ES"
   ]
  },
  {
   "cell_type": "code",
   "execution_count": 3,
   "id": "5cd252da-9ce9-4488-8502-7cb6e66e5fe7",
   "metadata": {},
   "outputs": [],
   "source": [
    "user_name, pw = config.ES_USERNAME, config.ES_PASSWORD"
   ]
  },
  {
   "cell_type": "code",
   "execution_count": 4,
   "id": "6f730390-25a6-418b-9758-98bd6a750118",
   "metadata": {},
   "outputs": [],
   "source": [
    "# Connect to Elasticsearch\n",
    "es = Elasticsearch(\"https://127.0.0.1:9200\", basic_auth=(user_name, pw), verify_certs=False)\n",
    "\n",
    "# check the index list\n",
    "indices = es.cat.indices(index='*', h='index', format='json')"
   ]
  },
  {
   "cell_type": "code",
   "execution_count": 5,
   "id": "ae3ed164-b077-408a-b9fc-f5306f9aedf9",
   "metadata": {},
   "outputs": [
    {
     "name": "stdout",
     "output_type": "stream",
     "text": [
      "{'index': 'rent'}\n",
      "{'index': 'family_and_community_2011_2016'}\n",
      "{'index': 'economy_and_industry_2014-2019'}\n",
      "{'index': 'twitter_data'}\n",
      "{'index': 'property_price'}\n",
      "{'index': 'income'}\n",
      "{'index': '2021_lga_settlement_reports_permanent_settlers_by_migration_stream'}\n",
      "{'index': 'mortgage'}\n",
      "{'index': 'building_approvals2011-2020'}\n",
      "{'index': 'selected_medians_and_averages_2011_2016_2021'}\n",
      "{'index': 'observations'}\n",
      "{'index': 'housing_price'}\n",
      "{'index': 'students'}\n",
      "{'index': 'visa'}\n",
      "{'index': 'income_2014-2019'}\n",
      "{'index': 'migration'}\n",
      "{'index': 'immigration'}\n",
      "{'index': 'as4_median_housing_price2010_2014'}\n",
      "{'index': 'rental_price'}\n",
      "{'index': 'studying'}\n"
     ]
    }
   ],
   "source": [
    "for index in indices:\n",
    "    print(index)"
   ]
  },
  {
   "cell_type": "code",
   "execution_count": 6,
   "id": "06bd5df9-84b5-4320-a902-af120d8f9f01",
   "metadata": {
    "scrolled": true
   },
   "outputs": [
    {
     "name": "stdout",
     "output_type": "stream",
     "text": [
      "retrieving index rent\n",
      "not an sudo index, aborting...\n",
      "--------------------\n",
      "retrieving index family_and_community_2011_2016\n",
      "--------------------\n",
      "retrieving index economy_and_industry_2014-2019\n",
      "--------------------\n",
      "retrieving index twitter_data\n",
      "not an sudo index, aborting...\n",
      "--------------------\n",
      "retrieving index property_price\n",
      "not an sudo index, aborting...\n",
      "--------------------\n",
      "retrieving index income\n",
      "not an sudo index, aborting...\n",
      "--------------------\n",
      "retrieving index 2021_lga_settlement_reports_permanent_settlers_by_migration_stream\n",
      "--------------------\n",
      "retrieving index mortgage\n",
      "not an sudo index, aborting...\n",
      "--------------------\n",
      "retrieving index building_approvals2011-2020\n",
      "--------------------\n",
      "retrieving index selected_medians_and_averages_2011_2016_2021\n",
      "--------------------\n",
      "retrieving index observations\n",
      "not an sudo index, aborting...\n",
      "--------------------\n",
      "retrieving index housing_price\n",
      "not an sudo index, aborting...\n",
      "--------------------\n",
      "retrieving index students\n",
      "not an sudo index, aborting...\n",
      "--------------------\n",
      "retrieving index visa\n",
      "not an sudo index, aborting...\n",
      "--------------------\n",
      "retrieving index income_2014-2019\n",
      "--------------------\n",
      "retrieving index migration\n",
      "not an sudo index, aborting...\n",
      "--------------------\n",
      "retrieving index immigration\n",
      "not an sudo index, aborting...\n",
      "--------------------\n",
      "retrieving index as4_median_housing_price2010_2014\n",
      "--------------------\n",
      "retrieving index rental_price\n",
      "not an sudo index, aborting...\n",
      "--------------------\n",
      "retrieving index studying\n",
      "not an sudo index, aborting...\n",
      "--------------------\n"
     ]
    }
   ],
   "source": [
    "# loading all the data\n",
    "raw_data = {}\n",
    "\n",
    "def contain_region(vars_: list):\n",
    "    for var in vars_:\n",
    "        var = var.lower()\n",
    "        if \"lga\" in var or \"sa4\" in var:\n",
    "            return True\n",
    "    return False\n",
    "\n",
    "for item in indices:\n",
    "    query = {\n",
    "        \"query\": {\n",
    "            \"match_all\": {}\n",
    "        }\n",
    "    }\n",
    "    index_ = item['index']\n",
    "    print(f\"retrieving index {index_}\")\n",
    "    # Grab the exact size of the dataset, elasticSearch default only returns 10\n",
    "    temp_response = es.search(index=index_, body=query)\n",
    "    \n",
    "    # only grabbing sudo data\n",
    "    try:\n",
    "        vars_ = temp_response['hits']['hits'][0]['_source']\n",
    "    except IndexError:\n",
    "        print(\"no data in the index, aborting...\")\n",
    "        divider()\n",
    "        continue\n",
    "    if not contain_region(vars_): \n",
    "        print(\"not an sudo index, aborting...\")\n",
    "        divider()\n",
    "        continue\n",
    "    \n",
    "    index_size = temp_response['hits']['total']['value']\n",
    "\n",
    "    # Retrieve the full dataset\n",
    "    full_response = es.search(\n",
    "        index=index_, \n",
    "        body=query,\n",
    "        size=index_size\n",
    "    )\n",
    "\n",
    "    raw_data[index_] = full_response['hits']['hits']\n",
    "\n",
    "    divider()"
   ]
  },
  {
   "cell_type": "code",
   "execution_count": 7,
   "id": "dfb5159d-ee2a-4b98-9aeb-efe8c49ef1c6",
   "metadata": {},
   "outputs": [],
   "source": [
    "assert len(raw_data) == 7, \"There should be 7 SUDO datasets\""
   ]
  },
  {
   "cell_type": "markdown",
   "id": "7f87d00d-0a76-4b77-8038-7bf29da2c953",
   "metadata": {},
   "source": [
    "## Transform data into table form and put into pandas dataframe for easier analysis"
   ]
  },
  {
   "cell_type": "code",
   "execution_count": 8,
   "id": "af37351a-3504-4644-9fd1-b83fd6be3b85",
   "metadata": {},
   "outputs": [
    {
     "data": {
      "text/plain": [
       "dict_keys(['family_and_community_2011_2016', 'economy_and_industry_2014-2019', '2021_lga_settlement_reports_permanent_settlers_by_migration_stream', 'building_approvals2011-2020', 'selected_medians_and_averages_2011_2016_2021', 'income_2014-2019', 'as4_median_housing_price2010_2014'])"
      ]
     },
     "execution_count": 8,
     "metadata": {},
     "output_type": "execute_result"
    }
   ],
   "source": [
    "raw_data.keys()"
   ]
  },
  {
   "cell_type": "code",
   "execution_count": 9,
   "id": "291eed05-639f-40e7-9fdb-56d36419bcee",
   "metadata": {},
   "outputs": [],
   "source": [
    "all_sudo_data = {}\n",
    "\n",
    "for index, raw_data_ in raw_data.items():\n",
    "    raw_data_ = [item['_source'] for item in raw_data_]\n",
    "    all_sudo_data[index] = raw_data_\n",
    "\n",
    "df_sudo_data = {}\n",
    "for index, data_ in all_sudo_data.items():\n",
    "    df_sudo_data[index] = pd.DataFrame(data_)"
   ]
  },
  {
   "cell_type": "code",
   "execution_count": 10,
   "id": "e94b161e-0f60-4eb0-bddc-421561242864",
   "metadata": {},
   "outputs": [
    {
     "data": {
      "text/plain": [
       "dict_keys(['family_and_community_2011_2016', 'economy_and_industry_2014-2019', '2021_lga_settlement_reports_permanent_settlers_by_migration_stream', 'building_approvals2011-2020', 'selected_medians_and_averages_2011_2016_2021', 'income_2014-2019', 'as4_median_housing_price2010_2014'])"
      ]
     },
     "execution_count": 10,
     "metadata": {},
     "output_type": "execute_result"
    }
   ],
   "source": [
    "df_sudo_data.keys()"
   ]
  },
  {
   "cell_type": "code",
   "execution_count": 11,
   "id": "62f33e97-1266-4117-b929-f34a8a7c690b",
   "metadata": {},
   "outputs": [],
   "source": [
    "# decode col names:\n",
    "var_definitions = {}\n",
    "\n",
    "data_definitions = get_ipython().getoutput('ls ./data_definition')\n",
    "\n",
    "for data_definition in data_definitions:\n",
    "    with open('./data_definition/' + data_definition, 'r') as f:\n",
    "        temp_file = json.load(f)\n",
    "        vars_ = temp_file['selectedAttributes']\n",
    "        for var_ in vars_:\n",
    "            var_definitions[var_['name']] = var_['title']"
   ]
  },
  {
   "cell_type": "code",
   "execution_count": 12,
   "id": "a8c2e647-188c-402c-9916-000829644ae6",
   "metadata": {},
   "outputs": [],
   "source": [
    "# Renaming cols to meaningful names\n",
    "for index, df_ in df_sudo_data.items():\n",
    "    columns = df_.columns.to_list()\n",
    "    columns = [var_definitions[item.strip()] for item in columns]\n",
    "    df_.columns = columns"
   ]
  },
  {
   "cell_type": "code",
   "execution_count": 13,
   "id": "58cd645a-62b1-4554-a084-43d1a444ced9",
   "metadata": {},
   "outputs": [
    {
     "name": "stdout",
     "output_type": "stream",
     "text": [
      "family_and_community_2011_2016\n",
      "Year in columns: True\n",
      "SA4 Code in columns: True\n",
      "--------------------\n",
      "economy_and_industry_2014-2019\n",
      "Year in columns: True\n",
      "SA4 Code in columns: True\n",
      "--------------------\n",
      "2021_lga_settlement_reports_permanent_settlers_by_migration_stream\n",
      "Year in columns: False\n",
      "SA4 Code in columns: False\n",
      "--------------------\n",
      "building_approvals2011-2020\n",
      "Year in columns: True\n",
      "SA4 Code in columns: False\n",
      "--------------------\n",
      "selected_medians_and_averages_2011_2016_2021\n",
      "Year in columns: True\n",
      "SA4 Code in columns: True\n",
      "--------------------\n",
      "income_2014-2019\n",
      "Year in columns: True\n",
      "SA4 Code in columns: True\n",
      "--------------------\n",
      "as4_median_housing_price2010_2014\n",
      "Year in columns: True\n",
      "SA4 Code in columns: False\n",
      "--------------------\n"
     ]
    }
   ],
   "source": [
    "# Check if year and SA4 code is in the columns, which are the two key variables\n",
    "\n",
    "for index, df_ in df_sudo_data.items():\n",
    "    print(index)\n",
    "    print(f\"Year in columns: {'Year' in df_.columns}\")\n",
    "    print(f\"SA4 Code in columns: {'SA4 Code' in df_.columns}\")\n",
    "    divider()"
   ]
  },
  {
   "cell_type": "code",
   "execution_count": 14,
   "id": "751b4a04-1f66-4a1d-948f-dc2fa964e110",
   "metadata": {},
   "outputs": [],
   "source": [
    "# making up year or SA4 code, because they are used as index to join the dataframes\n",
    "df_sudo_data['2021_lga_settlement_reports_permanent_settlers_by_migration_stream']['Year'] = 2020\n",
    "df_sudo_data['building_approvals2011-2020'].rename(columns={'SA4 Code 2011': 'SA4 Code'}, inplace=True)\n",
    "df_sudo_data['as4_median_housing_price2010_2014'].rename(columns={'SA4 Code 2011': 'SA4 Code'}, inplace=True)"
   ]
  },
  {
   "cell_type": "code",
   "execution_count": 14,
   "id": "b2ce22b6-25cc-4832-b444-4f0e1c1b7bca",
   "metadata": {},
   "outputs": [
    {
     "data": {
      "text/plain": [
       "Index(['SA4 Code',\n",
       "       'Residential Property Median Attached Dwelling Sale Price ($)',\n",
       "       'Residential Property Number of House Transfers',\n",
       "       'Residential Property Number of Attached Dwelling Transfers', 'Year',\n",
       "       'Residential Property Median House Sale Price ($)', 'SA4 Name 2011'],\n",
       "      dtype='object')"
      ]
     },
     "execution_count": 14,
     "metadata": {},
     "output_type": "execute_result"
    }
   ],
   "source": [
    "df_sudo_data['as4_median_housing_price2010_2014'].columns"
   ]
  },
  {
   "cell_type": "code",
   "execution_count": 23,
   "id": "3735dffe-bb0b-4bf4-9dbc-3eab61cf34f9",
   "metadata": {
    "collapsed": true,
    "jupyter": {
     "outputs_hidden": true
    }
   },
   "outputs": [
    {
     "name": "stdout",
     "output_type": "stream",
     "text": [
      "family_and_community_2011_2016\n",
      "Year\n",
      "2011    89\n",
      "2016    89\n",
      "Name: count, dtype: int64\n",
      "economy_and_industry_2014-2019\n",
      "Year\n",
      "2014    89\n",
      "2015    89\n",
      "2016    89\n",
      "2017    89\n",
      "2018    89\n",
      "2019    89\n",
      "Name: count, dtype: int64\n",
      "2021_lga_settlement_reports_permanent_settlers_by_migration_stream\n",
      "Year\n",
      "2020    451\n",
      "Name: count, dtype: int64\n",
      "building_approvals2011-2020\n",
      "Year\n",
      "2015    88\n",
      "2016    88\n",
      "2017    88\n",
      "2018    88\n",
      "2019    88\n",
      "2020    88\n",
      "2011    87\n",
      "2012    87\n",
      "2013    87\n",
      "2014    87\n",
      "Name: count, dtype: int64\n",
      "selected_medians_and_averages_2011_2016_2021\n",
      "Year\n",
      "2016    89\n",
      "2021    89\n",
      "2011    88\n",
      "Name: count, dtype: int64\n",
      "income_2014-2019\n",
      "Year\n",
      "2014    89\n",
      "2015    89\n",
      "2016    89\n",
      "2017    89\n",
      "2018    89\n",
      "2019    89\n",
      "Name: count, dtype: int64\n",
      "as4_median_housing_price2010_2014\n",
      "Year\n",
      "2013    88\n",
      "Name: count, dtype: int64\n"
     ]
    }
   ],
   "source": [
    "for index, df_ in df_sudo_data.items():\n",
    "    print(index)\n",
    "    print(df_['Year'].value_counts(dropna=False))"
   ]
  },
  {
   "cell_type": "code",
   "execution_count": 15,
   "id": "54e72a42-f539-4469-8c65-479f86a7b77e",
   "metadata": {},
   "outputs": [],
   "source": [
    "# Concatenate all the dataframes along the rows\n",
    "# have to leave 2021 lga settlement data here because it's using a different partitioning system than the others: LGA\n",
    "\n",
    "dfs = [df.set_index(['Year', 'SA4 Code']) for index, df in df_sudo_data.items() if index != '2021_lga_settlement_reports_permanent_settlers_by_migration_stream']\n",
    "df_sudo = pd.concat(dfs, axis=0, join='outer')\n",
    "\n",
    "df_sudo = df_sudo.sort_index(level=['Year', 'SA4 Code'])"
   ]
  },
  {
   "cell_type": "code",
   "execution_count": 16,
   "id": "4701879c-32fc-4a31-8d9f-e8fff7a2dd7b",
   "metadata": {},
   "outputs": [],
   "source": [
    "df_sudo = df_sudo.groupby(level=[0, 1]).first()"
   ]
  },
  {
   "cell_type": "code",
   "execution_count": 17,
   "id": "e40d5d9f-4856-48a6-bd50-a0b1325e4813",
   "metadata": {},
   "outputs": [
    {
     "data": {
      "text/html": [
       "<div>\n",
       "<style scoped>\n",
       "    .dataframe tbody tr th:only-of-type {\n",
       "        vertical-align: middle;\n",
       "    }\n",
       "\n",
       "    .dataframe tbody tr th {\n",
       "        vertical-align: top;\n",
       "    }\n",
       "\n",
       "    .dataframe thead th {\n",
       "        text-align: right;\n",
       "    }\n",
       "</style>\n",
       "<table border=\"1\" class=\"dataframe\">\n",
       "  <thead>\n",
       "    <tr style=\"text-align: right;\">\n",
       "      <th></th>\n",
       "      <th></th>\n",
       "      <th>Household Stress - Census Households with rent payments greater than or equal to 30% of household income (%)</th>\n",
       "      <th>Household Stress - Census Households where rent payments are less than 30% of household income (%)</th>\n",
       "      <th>Housing Suitability - Occupied private dwellings - Census Dwellings with bedrooms spare (no.)</th>\n",
       "      <th>Rent and Mortgage Payments - Census Average monthly household mortgage payment ($)</th>\n",
       "      <th>Rent and Mortgage Payments - Census Average monthly household rental payment ($)</th>\n",
       "      <th>Housing Suitability - Occupied private dwellings - Census Dwellings with no bedrooms needed or spare (no.)</th>\n",
       "      <th>Household Stress - Census Households where mortgage repayments are less than 30% of household income (%)</th>\n",
       "      <th>Housing Suitability - Occupied private dwellings - Census Dwellings with extra bedrooms needed (no.)</th>\n",
       "      <th>Household Stress - Census Households with mortgage repayments greater than or equal to 30% of household income (%)</th>\n",
       "      <th>Residential Property Prices - Year ended 30 June Houses - median sale price ($)</th>\n",
       "      <th>...</th>\n",
       "      <th>Estimates of Personal Income - Year ended 30 June Mean investment income ($)</th>\n",
       "      <th>Total Personal Income (Weekly) - Persons aged 15 years and over  - Census Persons earning $1000-$1999 per week (%)</th>\n",
       "      <th>Estimates of Personal Income - Year ended 30 June Median employee income ($)</th>\n",
       "      <th>Gross Capital Gains reported by taxpayers - Year ended 30 June Gross Capital Gains reported by taxpayers  - Median ($)</th>\n",
       "      <th>Estimates of Personal Income - Year ended 30 June Median investment income ($)</th>\n",
       "      <th>Total Personal Income (Weekly) - Persons aged 15 years and over  - Census Persons earning $1-$499 per week (%)</th>\n",
       "      <th>Residential Property Median Attached Dwelling Sale Price ($)</th>\n",
       "      <th>Residential Property Number of House Transfers</th>\n",
       "      <th>Residential Property Number of Attached Dwelling Transfers</th>\n",
       "      <th>Residential Property Median House Sale Price ($)</th>\n",
       "    </tr>\n",
       "    <tr>\n",
       "      <th>Year</th>\n",
       "      <th>SA4 Code</th>\n",
       "      <th></th>\n",
       "      <th></th>\n",
       "      <th></th>\n",
       "      <th></th>\n",
       "      <th></th>\n",
       "      <th></th>\n",
       "      <th></th>\n",
       "      <th></th>\n",
       "      <th></th>\n",
       "      <th></th>\n",
       "      <th></th>\n",
       "      <th></th>\n",
       "      <th></th>\n",
       "      <th></th>\n",
       "      <th></th>\n",
       "      <th></th>\n",
       "      <th></th>\n",
       "      <th></th>\n",
       "      <th></th>\n",
       "      <th></th>\n",
       "      <th></th>\n",
       "    </tr>\n",
       "  </thead>\n",
       "  <tbody>\n",
       "    <tr>\n",
       "      <th rowspan=\"5\" valign=\"top\">2011</th>\n",
       "      <th>101</th>\n",
       "      <td>8.3</td>\n",
       "      <td>91.7</td>\n",
       "      <td>null</td>\n",
       "      <td>1809.0</td>\n",
       "      <td>988.0</td>\n",
       "      <td>null</td>\n",
       "      <td>91.9</td>\n",
       "      <td>null</td>\n",
       "      <td>8.1</td>\n",
       "      <td>None</td>\n",
       "      <td>...</td>\n",
       "      <td>None</td>\n",
       "      <td>None</td>\n",
       "      <td>None</td>\n",
       "      <td>None</td>\n",
       "      <td>None</td>\n",
       "      <td>None</td>\n",
       "      <td>None</td>\n",
       "      <td>None</td>\n",
       "      <td>None</td>\n",
       "      <td>None</td>\n",
       "    </tr>\n",
       "    <tr>\n",
       "      <th>102</th>\n",
       "      <td>11.5</td>\n",
       "      <td>88.5</td>\n",
       "      <td>null</td>\n",
       "      <td>1922.0</td>\n",
       "      <td>1172.0</td>\n",
       "      <td>null</td>\n",
       "      <td>89.8</td>\n",
       "      <td>null</td>\n",
       "      <td>10.2</td>\n",
       "      <td>None</td>\n",
       "      <td>...</td>\n",
       "      <td>None</td>\n",
       "      <td>None</td>\n",
       "      <td>None</td>\n",
       "      <td>None</td>\n",
       "      <td>None</td>\n",
       "      <td>None</td>\n",
       "      <td>None</td>\n",
       "      <td>None</td>\n",
       "      <td>None</td>\n",
       "      <td>None</td>\n",
       "    </tr>\n",
       "    <tr>\n",
       "      <th>103</th>\n",
       "      <td>7.9</td>\n",
       "      <td>92.1</td>\n",
       "      <td>null</td>\n",
       "      <td>1602.0</td>\n",
       "      <td>842.0</td>\n",
       "      <td>null</td>\n",
       "      <td>93.3</td>\n",
       "      <td>null</td>\n",
       "      <td>6.7</td>\n",
       "      <td>None</td>\n",
       "      <td>...</td>\n",
       "      <td>None</td>\n",
       "      <td>None</td>\n",
       "      <td>None</td>\n",
       "      <td>None</td>\n",
       "      <td>None</td>\n",
       "      <td>None</td>\n",
       "      <td>None</td>\n",
       "      <td>None</td>\n",
       "      <td>None</td>\n",
       "      <td>None</td>\n",
       "    </tr>\n",
       "    <tr>\n",
       "      <th>104</th>\n",
       "      <td>13.0</td>\n",
       "      <td>87.0</td>\n",
       "      <td>null</td>\n",
       "      <td>1573.0</td>\n",
       "      <td>1045.0</td>\n",
       "      <td>null</td>\n",
       "      <td>91.5</td>\n",
       "      <td>null</td>\n",
       "      <td>8.5</td>\n",
       "      <td>None</td>\n",
       "      <td>...</td>\n",
       "      <td>None</td>\n",
       "      <td>None</td>\n",
       "      <td>None</td>\n",
       "      <td>None</td>\n",
       "      <td>None</td>\n",
       "      <td>None</td>\n",
       "      <td>None</td>\n",
       "      <td>None</td>\n",
       "      <td>None</td>\n",
       "      <td>None</td>\n",
       "    </tr>\n",
       "    <tr>\n",
       "      <th>105</th>\n",
       "      <td>6.8</td>\n",
       "      <td>93.2</td>\n",
       "      <td>null</td>\n",
       "      <td>1371.0</td>\n",
       "      <td>662.0</td>\n",
       "      <td>null</td>\n",
       "      <td>94.8</td>\n",
       "      <td>null</td>\n",
       "      <td>5.2</td>\n",
       "      <td>None</td>\n",
       "      <td>...</td>\n",
       "      <td>None</td>\n",
       "      <td>None</td>\n",
       "      <td>None</td>\n",
       "      <td>None</td>\n",
       "      <td>None</td>\n",
       "      <td>None</td>\n",
       "      <td>None</td>\n",
       "      <td>None</td>\n",
       "      <td>None</td>\n",
       "      <td>None</td>\n",
       "    </tr>\n",
       "    <tr>\n",
       "      <th>...</th>\n",
       "      <th>...</th>\n",
       "      <td>...</td>\n",
       "      <td>...</td>\n",
       "      <td>...</td>\n",
       "      <td>...</td>\n",
       "      <td>...</td>\n",
       "      <td>...</td>\n",
       "      <td>...</td>\n",
       "      <td>...</td>\n",
       "      <td>...</td>\n",
       "      <td>...</td>\n",
       "      <td>...</td>\n",
       "      <td>...</td>\n",
       "      <td>...</td>\n",
       "      <td>...</td>\n",
       "      <td>...</td>\n",
       "      <td>...</td>\n",
       "      <td>...</td>\n",
       "      <td>...</td>\n",
       "      <td>...</td>\n",
       "      <td>...</td>\n",
       "      <td>...</td>\n",
       "    </tr>\n",
       "    <tr>\n",
       "      <th rowspan=\"5\" valign=\"top\">2021</th>\n",
       "      <th>604</th>\n",
       "      <td>NaN</td>\n",
       "      <td>NaN</td>\n",
       "      <td>None</td>\n",
       "      <td>NaN</td>\n",
       "      <td>NaN</td>\n",
       "      <td>None</td>\n",
       "      <td>NaN</td>\n",
       "      <td>None</td>\n",
       "      <td>NaN</td>\n",
       "      <td>None</td>\n",
       "      <td>...</td>\n",
       "      <td>None</td>\n",
       "      <td>None</td>\n",
       "      <td>None</td>\n",
       "      <td>None</td>\n",
       "      <td>None</td>\n",
       "      <td>None</td>\n",
       "      <td>None</td>\n",
       "      <td>None</td>\n",
       "      <td>None</td>\n",
       "      <td>None</td>\n",
       "    </tr>\n",
       "    <tr>\n",
       "      <th>701</th>\n",
       "      <td>NaN</td>\n",
       "      <td>NaN</td>\n",
       "      <td>None</td>\n",
       "      <td>NaN</td>\n",
       "      <td>NaN</td>\n",
       "      <td>None</td>\n",
       "      <td>NaN</td>\n",
       "      <td>None</td>\n",
       "      <td>NaN</td>\n",
       "      <td>None</td>\n",
       "      <td>...</td>\n",
       "      <td>None</td>\n",
       "      <td>None</td>\n",
       "      <td>None</td>\n",
       "      <td>None</td>\n",
       "      <td>None</td>\n",
       "      <td>None</td>\n",
       "      <td>None</td>\n",
       "      <td>None</td>\n",
       "      <td>None</td>\n",
       "      <td>None</td>\n",
       "    </tr>\n",
       "    <tr>\n",
       "      <th>702</th>\n",
       "      <td>NaN</td>\n",
       "      <td>NaN</td>\n",
       "      <td>None</td>\n",
       "      <td>NaN</td>\n",
       "      <td>NaN</td>\n",
       "      <td>None</td>\n",
       "      <td>NaN</td>\n",
       "      <td>None</td>\n",
       "      <td>NaN</td>\n",
       "      <td>None</td>\n",
       "      <td>...</td>\n",
       "      <td>None</td>\n",
       "      <td>None</td>\n",
       "      <td>None</td>\n",
       "      <td>None</td>\n",
       "      <td>None</td>\n",
       "      <td>None</td>\n",
       "      <td>None</td>\n",
       "      <td>None</td>\n",
       "      <td>None</td>\n",
       "      <td>None</td>\n",
       "    </tr>\n",
       "    <tr>\n",
       "      <th>801</th>\n",
       "      <td>NaN</td>\n",
       "      <td>NaN</td>\n",
       "      <td>None</td>\n",
       "      <td>NaN</td>\n",
       "      <td>NaN</td>\n",
       "      <td>None</td>\n",
       "      <td>NaN</td>\n",
       "      <td>None</td>\n",
       "      <td>NaN</td>\n",
       "      <td>None</td>\n",
       "      <td>...</td>\n",
       "      <td>None</td>\n",
       "      <td>None</td>\n",
       "      <td>None</td>\n",
       "      <td>None</td>\n",
       "      <td>None</td>\n",
       "      <td>None</td>\n",
       "      <td>None</td>\n",
       "      <td>None</td>\n",
       "      <td>None</td>\n",
       "      <td>None</td>\n",
       "    </tr>\n",
       "    <tr>\n",
       "      <th>901</th>\n",
       "      <td>NaN</td>\n",
       "      <td>NaN</td>\n",
       "      <td>None</td>\n",
       "      <td>NaN</td>\n",
       "      <td>NaN</td>\n",
       "      <td>None</td>\n",
       "      <td>NaN</td>\n",
       "      <td>None</td>\n",
       "      <td>NaN</td>\n",
       "      <td>None</td>\n",
       "      <td>...</td>\n",
       "      <td>None</td>\n",
       "      <td>None</td>\n",
       "      <td>None</td>\n",
       "      <td>None</td>\n",
       "      <td>None</td>\n",
       "      <td>None</td>\n",
       "      <td>None</td>\n",
       "      <td>None</td>\n",
       "      <td>None</td>\n",
       "      <td>None</td>\n",
       "    </tr>\n",
       "  </tbody>\n",
       "</table>\n",
       "<p>977 rows × 56 columns</p>\n",
       "</div>"
      ],
      "text/plain": [
       "               Household Stress - Census Households with rent payments greater than or equal to 30% of household income (%)  \\\n",
       "Year SA4 Code                                                                                                                 \n",
       "2011 101                                                     8.3                                                              \n",
       "     102                                                    11.5                                                              \n",
       "     103                                                     7.9                                                              \n",
       "     104                                                    13.0                                                              \n",
       "     105                                                     6.8                                                              \n",
       "...                                                          ...                                                              \n",
       "2021 604                                                     NaN                                                              \n",
       "     701                                                     NaN                                                              \n",
       "     702                                                     NaN                                                              \n",
       "     801                                                     NaN                                                              \n",
       "     901                                                     NaN                                                              \n",
       "\n",
       "               Household Stress - Census Households where rent payments are less than 30% of household income (%)  \\\n",
       "Year SA4 Code                                                                                                       \n",
       "2011 101                                                    91.7                                                    \n",
       "     102                                                    88.5                                                    \n",
       "     103                                                    92.1                                                    \n",
       "     104                                                    87.0                                                    \n",
       "     105                                                    93.2                                                    \n",
       "...                                                          ...                                                    \n",
       "2021 604                                                     NaN                                                    \n",
       "     701                                                     NaN                                                    \n",
       "     702                                                     NaN                                                    \n",
       "     801                                                     NaN                                                    \n",
       "     901                                                     NaN                                                    \n",
       "\n",
       "              Housing Suitability - Occupied private dwellings - Census Dwellings with bedrooms spare (no.)  \\\n",
       "Year SA4 Code                                                                                                 \n",
       "2011 101                                                    null                                              \n",
       "     102                                                    null                                              \n",
       "     103                                                    null                                              \n",
       "     104                                                    null                                              \n",
       "     105                                                    null                                              \n",
       "...                                                          ...                                              \n",
       "2021 604                                                    None                                              \n",
       "     701                                                    None                                              \n",
       "     702                                                    None                                              \n",
       "     801                                                    None                                              \n",
       "     901                                                    None                                              \n",
       "\n",
       "               Rent and Mortgage Payments - Census Average monthly household mortgage payment ($)  \\\n",
       "Year SA4 Code                                                                                       \n",
       "2011 101                                                  1809.0                                    \n",
       "     102                                                  1922.0                                    \n",
       "     103                                                  1602.0                                    \n",
       "     104                                                  1573.0                                    \n",
       "     105                                                  1371.0                                    \n",
       "...                                                          ...                                    \n",
       "2021 604                                                     NaN                                    \n",
       "     701                                                     NaN                                    \n",
       "     702                                                     NaN                                    \n",
       "     801                                                     NaN                                    \n",
       "     901                                                     NaN                                    \n",
       "\n",
       "               Rent and Mortgage Payments - Census Average monthly household rental payment ($)  \\\n",
       "Year SA4 Code                                                                                     \n",
       "2011 101                                                   988.0                                  \n",
       "     102                                                  1172.0                                  \n",
       "     103                                                   842.0                                  \n",
       "     104                                                  1045.0                                  \n",
       "     105                                                   662.0                                  \n",
       "...                                                          ...                                  \n",
       "2021 604                                                     NaN                                  \n",
       "     701                                                     NaN                                  \n",
       "     702                                                     NaN                                  \n",
       "     801                                                     NaN                                  \n",
       "     901                                                     NaN                                  \n",
       "\n",
       "              Housing Suitability - Occupied private dwellings - Census Dwellings with no bedrooms needed or spare (no.)  \\\n",
       "Year SA4 Code                                                                                                              \n",
       "2011 101                                                    null                                                           \n",
       "     102                                                    null                                                           \n",
       "     103                                                    null                                                           \n",
       "     104                                                    null                                                           \n",
       "     105                                                    null                                                           \n",
       "...                                                          ...                                                           \n",
       "2021 604                                                    None                                                           \n",
       "     701                                                    None                                                           \n",
       "     702                                                    None                                                           \n",
       "     801                                                    None                                                           \n",
       "     901                                                    None                                                           \n",
       "\n",
       "               Household Stress - Census Households where mortgage repayments are less than 30% of household income (%)  \\\n",
       "Year SA4 Code                                                                                                             \n",
       "2011 101                                                    91.9                                                          \n",
       "     102                                                    89.8                                                          \n",
       "     103                                                    93.3                                                          \n",
       "     104                                                    91.5                                                          \n",
       "     105                                                    94.8                                                          \n",
       "...                                                          ...                                                          \n",
       "2021 604                                                     NaN                                                          \n",
       "     701                                                     NaN                                                          \n",
       "     702                                                     NaN                                                          \n",
       "     801                                                     NaN                                                          \n",
       "     901                                                     NaN                                                          \n",
       "\n",
       "              Housing Suitability - Occupied private dwellings - Census Dwellings with extra bedrooms needed (no.)  \\\n",
       "Year SA4 Code                                                                                                        \n",
       "2011 101                                                    null                                                     \n",
       "     102                                                    null                                                     \n",
       "     103                                                    null                                                     \n",
       "     104                                                    null                                                     \n",
       "     105                                                    null                                                     \n",
       "...                                                          ...                                                     \n",
       "2021 604                                                    None                                                     \n",
       "     701                                                    None                                                     \n",
       "     702                                                    None                                                     \n",
       "     801                                                    None                                                     \n",
       "     901                                                    None                                                     \n",
       "\n",
       "               Household Stress - Census Households with mortgage repayments greater than or equal to 30% of household income (%)  \\\n",
       "Year SA4 Code                                                                                                                       \n",
       "2011 101                                                     8.1                                                                    \n",
       "     102                                                    10.2                                                                    \n",
       "     103                                                     6.7                                                                    \n",
       "     104                                                     8.5                                                                    \n",
       "     105                                                     5.2                                                                    \n",
       "...                                                          ...                                                                    \n",
       "2021 604                                                     NaN                                                                    \n",
       "     701                                                     NaN                                                                    \n",
       "     702                                                     NaN                                                                    \n",
       "     801                                                     NaN                                                                    \n",
       "     901                                                     NaN                                                                    \n",
       "\n",
       "              Residential Property Prices - Year ended 30 June Houses - median sale price ($)  \\\n",
       "Year SA4 Code                                                                                   \n",
       "2011 101                                                    None                                \n",
       "     102                                                    None                                \n",
       "     103                                                    None                                \n",
       "     104                                                    None                                \n",
       "     105                                                    None                                \n",
       "...                                                          ...                                \n",
       "2021 604                                                    None                                \n",
       "     701                                                    None                                \n",
       "     702                                                    None                                \n",
       "     801                                                    None                                \n",
       "     901                                                    None                                \n",
       "\n",
       "               ...  \\\n",
       "Year SA4 Code  ...   \n",
       "2011 101       ...   \n",
       "     102       ...   \n",
       "     103       ...   \n",
       "     104       ...   \n",
       "     105       ...   \n",
       "...            ...   \n",
       "2021 604       ...   \n",
       "     701       ...   \n",
       "     702       ...   \n",
       "     801       ...   \n",
       "     901       ...   \n",
       "\n",
       "              Estimates of Personal Income - Year ended 30 June Mean investment income ($)  \\\n",
       "Year SA4 Code                                                                                \n",
       "2011 101                                                    None                             \n",
       "     102                                                    None                             \n",
       "     103                                                    None                             \n",
       "     104                                                    None                             \n",
       "     105                                                    None                             \n",
       "...                                                          ...                             \n",
       "2021 604                                                    None                             \n",
       "     701                                                    None                             \n",
       "     702                                                    None                             \n",
       "     801                                                    None                             \n",
       "     901                                                    None                             \n",
       "\n",
       "              Total Personal Income (Weekly) - Persons aged 15 years and over  - Census Persons earning $1000-$1999 per week (%)  \\\n",
       "Year SA4 Code                                                                                                                      \n",
       "2011 101                                                    None                                                                   \n",
       "     102                                                    None                                                                   \n",
       "     103                                                    None                                                                   \n",
       "     104                                                    None                                                                   \n",
       "     105                                                    None                                                                   \n",
       "...                                                          ...                                                                   \n",
       "2021 604                                                    None                                                                   \n",
       "     701                                                    None                                                                   \n",
       "     702                                                    None                                                                   \n",
       "     801                                                    None                                                                   \n",
       "     901                                                    None                                                                   \n",
       "\n",
       "              Estimates of Personal Income - Year ended 30 June Median employee income ($)  \\\n",
       "Year SA4 Code                                                                                \n",
       "2011 101                                                    None                             \n",
       "     102                                                    None                             \n",
       "     103                                                    None                             \n",
       "     104                                                    None                             \n",
       "     105                                                    None                             \n",
       "...                                                          ...                             \n",
       "2021 604                                                    None                             \n",
       "     701                                                    None                             \n",
       "     702                                                    None                             \n",
       "     801                                                    None                             \n",
       "     901                                                    None                             \n",
       "\n",
       "              Gross Capital Gains reported by taxpayers - Year ended 30 June Gross Capital Gains reported by taxpayers  - Median ($)  \\\n",
       "Year SA4 Code                                                                                                                          \n",
       "2011 101                                                    None                                                                       \n",
       "     102                                                    None                                                                       \n",
       "     103                                                    None                                                                       \n",
       "     104                                                    None                                                                       \n",
       "     105                                                    None                                                                       \n",
       "...                                                          ...                                                                       \n",
       "2021 604                                                    None                                                                       \n",
       "     701                                                    None                                                                       \n",
       "     702                                                    None                                                                       \n",
       "     801                                                    None                                                                       \n",
       "     901                                                    None                                                                       \n",
       "\n",
       "              Estimates of Personal Income - Year ended 30 June Median investment income ($)  \\\n",
       "Year SA4 Code                                                                                  \n",
       "2011 101                                                    None                               \n",
       "     102                                                    None                               \n",
       "     103                                                    None                               \n",
       "     104                                                    None                               \n",
       "     105                                                    None                               \n",
       "...                                                          ...                               \n",
       "2021 604                                                    None                               \n",
       "     701                                                    None                               \n",
       "     702                                                    None                               \n",
       "     801                                                    None                               \n",
       "     901                                                    None                               \n",
       "\n",
       "              Total Personal Income (Weekly) - Persons aged 15 years and over  - Census Persons earning $1-$499 per week (%)  \\\n",
       "Year SA4 Code                                                                                                                  \n",
       "2011 101                                                    None                                                               \n",
       "     102                                                    None                                                               \n",
       "     103                                                    None                                                               \n",
       "     104                                                    None                                                               \n",
       "     105                                                    None                                                               \n",
       "...                                                          ...                                                               \n",
       "2021 604                                                    None                                                               \n",
       "     701                                                    None                                                               \n",
       "     702                                                    None                                                               \n",
       "     801                                                    None                                                               \n",
       "     901                                                    None                                                               \n",
       "\n",
       "              Residential Property Median Attached Dwelling Sale Price ($)  \\\n",
       "Year SA4 Code                                                                \n",
       "2011 101                                                    None             \n",
       "     102                                                    None             \n",
       "     103                                                    None             \n",
       "     104                                                    None             \n",
       "     105                                                    None             \n",
       "...                                                          ...             \n",
       "2021 604                                                    None             \n",
       "     701                                                    None             \n",
       "     702                                                    None             \n",
       "     801                                                    None             \n",
       "     901                                                    None             \n",
       "\n",
       "              Residential Property Number of House Transfers  \\\n",
       "Year SA4 Code                                                  \n",
       "2011 101                                                None   \n",
       "     102                                                None   \n",
       "     103                                                None   \n",
       "     104                                                None   \n",
       "     105                                                None   \n",
       "...                                                      ...   \n",
       "2021 604                                                None   \n",
       "     701                                                None   \n",
       "     702                                                None   \n",
       "     801                                                None   \n",
       "     901                                                None   \n",
       "\n",
       "              Residential Property Number of Attached Dwelling Transfers  \\\n",
       "Year SA4 Code                                                              \n",
       "2011 101                                                    None           \n",
       "     102                                                    None           \n",
       "     103                                                    None           \n",
       "     104                                                    None           \n",
       "     105                                                    None           \n",
       "...                                                          ...           \n",
       "2021 604                                                    None           \n",
       "     701                                                    None           \n",
       "     702                                                    None           \n",
       "     801                                                    None           \n",
       "     901                                                    None           \n",
       "\n",
       "              Residential Property Median House Sale Price ($)  \n",
       "Year SA4 Code                                                   \n",
       "2011 101                                                  None  \n",
       "     102                                                  None  \n",
       "     103                                                  None  \n",
       "     104                                                  None  \n",
       "     105                                                  None  \n",
       "...                                                        ...  \n",
       "2021 604                                                  None  \n",
       "     701                                                  None  \n",
       "     702                                                  None  \n",
       "     801                                                  None  \n",
       "     901                                                  None  \n",
       "\n",
       "[977 rows x 56 columns]"
      ]
     },
     "execution_count": 17,
     "metadata": {},
     "output_type": "execute_result"
    }
   ],
   "source": [
    "df_sudo"
   ]
  },
  {
   "cell_type": "code",
   "execution_count": 18,
   "id": "8391d6c8-9ba3-47ae-8dcb-fbbab2dd0679",
   "metadata": {},
   "outputs": [
    {
     "data": {
      "text/plain": [
       "(977, 56)"
      ]
     },
     "execution_count": 18,
     "metadata": {},
     "output_type": "execute_result"
    }
   ],
   "source": [
    "df_sudo.shape"
   ]
  },
  {
   "cell_type": "code",
   "execution_count": 19,
   "id": "b9d82eca-deb2-4b56-bcc7-4def73652b6d",
   "metadata": {},
   "outputs": [],
   "source": [
    "df_sudo.reset_index(inplace=True)"
   ]
  },
  {
   "cell_type": "code",
   "execution_count": 20,
   "id": "a872f37e-d23b-4006-9391-f258e2de9f67",
   "metadata": {},
   "outputs": [],
   "source": [
    "df_sudo['State and Territory Id'] = df_sudo['SA4 Code'].apply(lambda x: x//100)"
   ]
  },
  {
   "cell_type": "code",
   "execution_count": 21,
   "id": "c4f80dd1-ec67-417a-9411-87098531975a",
   "metadata": {},
   "outputs": [],
   "source": [
    "# Deleting columns with duplicate information such as complements\n",
    "df_sudo = df_sudo.drop([\n",
    "    'Household Stress - Census Households where rent payments are less than 30% of household income (%)',\n",
    "    'Household Stress - Census Households where mortgage repayments are less than 30% of household income (%)',\n",
    "    'Housing Suitability - Occupied private dwellings - Census Dwellings with bedrooms spare (no.)',\n",
    "    'Housing Suitability - Occupied private dwellings - Census Dwellings with no bedrooms needed or spare (no.)',\n",
    "    'Value of Total Buildings ($000)',\n",
    "    'Value of Non-Residential Building ($000)',\n",
    "    'Housing Suitability - Occupied private dwellings - Census Dwellings with bedrooms spare (no.)',\n",
    "    'Housing Suitability - Occupied private dwellings - Census Dwellings with no bedrooms needed or spare (no.)',\n",
    "    'Total Personal Income (Weekly) - Persons aged 15 years and over  - Census Persons earning $1-$499 per week (%)',\n",
    "    'Total Personal Income (Weekly) - Persons aged 15 years and over  - Census Persons earning $500-$999 per week (%)',\n",
    "    'Total Personal Income (Weekly) - Persons aged 15 years and over  - Census Persons earning $1000-$1999 per week (%)', \n",
    "    'Total Personal Income (Weekly) - Persons aged 15 years and over  - Census Persons earning $2000-$2999 per week (%)',\n",
    "    'Total Personal Income (Weekly) - Persons aged 15 years and over  - Census Persons earning $3000 or more per week (%)',  \n",
    "],\n",
    "    axis=1,\n",
    "    errors='ignore'\n",
    ")"
   ]
  },
  {
   "cell_type": "code",
   "execution_count": 22,
   "id": "62564c0e-b0d8-4a08-ba0e-2377df50f9ed",
   "metadata": {},
   "outputs": [],
   "source": [
    "df_sudo = df_sudo.replace('null', pd.NA)\n",
    "df_sudo = df_sudo.replace('None', pd.NA)"
   ]
  },
  {
   "cell_type": "code",
   "execution_count": 23,
   "id": "4e187cdb-e67e-43e7-8ef7-2192fcea8564",
   "metadata": {},
   "outputs": [],
   "source": [
    "# Combine economy_and_industry_2014-2019's house price with \n",
    "# economy_and_industry_2014-2019's house price\n",
    "\n",
    "## House\n",
    "df_sudo['House Median Sales Price'] = \\\n",
    "    df_sudo['Residential Property Prices - Year ended 30 June Houses - median sale price ($)'].combine_first(\n",
    "        df_sudo['Residential Property Median House Sale Price ($)']\n",
    "    )\n",
    "df_sudo['House No of Transactions'] = \\\n",
    "    df_sudo['Residential Property Prices - Year ended 30 June Houses - number of transfers (no.)'].combine_first(\n",
    "        df_sudo['Residential Property Number of House Transfers']\n",
    "    )\n",
    "\n",
    "## Attached dwellings\n",
    "df_sudo['Attached dwellings Median Sales Price'] = \\\n",
    "    df_sudo['Residential Property Prices - Year ended 30 June Attached Dwellings - median sale price ($)']\\\n",
    "    .combine_first(\n",
    "        df_sudo['Residential Property Median Attached Dwelling Sale Price ($)']\n",
    "    )\n",
    "df_sudo['Attached dwellings No of Transactions'] = \\\n",
    "    df_sudo['Residential Property Prices - Year ended 30 June Attached Dwellings - number of transfers (no.)']\\\n",
    "    .combine_first(\n",
    "        df_sudo['Residential Property Number of Attached Dwelling Transfers']\n",
    "    )\n",
    "\n",
    "df_sudo = df_sudo.drop(\n",
    "    [\n",
    "        'Residential Property Prices - Year ended 30 June Houses - median sale price ($)',\n",
    "        'Residential Property Median House Sale Price ($)',\n",
    "        'Residential Property Prices - Year ended 30 June Houses - number of transfers (no.)',\n",
    "        'Residential Property Number of House Transfers',\n",
    "        'Residential Property Prices - Year ended 30 June Attached Dwellings - median sale price ($)',\n",
    "        'Residential Property Median Attached Dwelling Sale Price ($)',\n",
    "        'Residential Property Prices - Year ended 30 June Attached Dwellings - number of transfers (no.)',\n",
    "        'Residential Property Number of Attached Dwelling Transfers'\n",
    "    ],\n",
    "    axis=1\n",
    ")"
   ]
  },
  {
   "cell_type": "code",
   "execution_count": 24,
   "id": "c8e06218-e166-4593-93d5-b9ed9a0b13a3",
   "metadata": {},
   "outputs": [],
   "source": [
    "# Converting data types\n",
    "# Seems unnecessary once I converted 'null' to pd.NA, because null is causing pandas to render a lot of the \n",
    "# variables as object\n",
    "# will leave it here incase I need it \n",
    "\n",
    "numeric_columns = [\n",
    "    'Housing Suitability - Occupied private dwellings - Census Dwellings with extra bedrooms needed (no.)', \n",
    "    'Building Approvals - Year ended 30 June Value of residential building ($m)',\n",
    "    'Building Approvals - Year ended 30 June Private sector dwellings excluding houses (no.)',\n",
    "    'Building Approvals - Year ended 30 June Total private sector dwelling units (no.)',\n",
    "    'Building Approvals - Year ended 30 June Total value of private sector dwelling units ($m)',\n",
    "    'Building Approvals - Year ended 30 June Private sector houses (no.)',\n",
    "    'Building Approvals - Year ended 30 June Total dwelling units (no.)',\n",
    "    'Building Approvals - Year ended 30 June Value of private sector houses ($m)',\n",
    "    'Building Approvals - Year ended 30 June Value of private sector dwellings excluding houses ($m)',\n",
    "    'Estimates of Personal Income - Year ended 30 June Total income (excl. Government pensions and allowances) - Gini coefficient',\n",
    "    'Estimates of Personal Income - Year ended 30 June Mean employee income ($)',\n",
    "    'Gross Capital Gains reported by taxpayers - Year ended 30 June Gross Capital Gains reported by taxpayers - Mean ($)',\n",
    "    'Estimates of Personal Income - Year ended 30 June Mean investment income ($)',\n",
    "    'Estimates of Personal Income - Year ended 30 June Median employee income ($)',\n",
    "    'Gross Capital Gains reported by taxpayers - Year ended 30 June Gross Capital Gains reported by taxpayers  - Median ($)',\n",
    "    'Estimates of Personal Income - Year ended 30 June Median investment income ($)',\n",
    "    'House Median Sales Price',\n",
    "    'House No of Transactions',\n",
    "    'Attached dwellings Median Sales Price',\n",
    "    'Attached dwellings No of Transactions'\n",
    "]\n",
    "\n",
    "for column in numeric_columns:\n",
    "    df_sudo[column] = pd.to_numeric(df_sudo[column], errors='coerce')\n",
    "\n",
    "# df_sudo = df_sudo.astype(\n",
    "#     {\n",
    "#         'Housing Suitability - Occupied private dwellings - Census Dwellings with extra bedrooms needed (no.)': 'int64', \n",
    "#         'Building Approvals - Year ended 30 June Value of residential building ($m)': 'int64',\n",
    "#         'Building Approvals - Year ended 30 June Private sector dwellings excluding houses (no.)': 'int64',\n",
    "#         'Building Approvals - Year ended 30 June Total private sector dwelling units (no.)': 'int64',\n",
    "#         'Building Approvals - Year ended 30 June Total value of private sector dwelling units ($m)': 'int64',\n",
    "#         'Building Approvals - Year ended 30 June Private sector houses (no.)': 'int64',\n",
    "#         'Building Approvals - Year ended 30 June Total dwelling units (no.)': 'int64',\n",
    "#         'Building Approvals - Year ended 30 June Value of private sector houses ($m)': 'int64',\n",
    "#         'Building Approvals - Year ended 30 June Value of private sector dwellings excluding houses ($m)': 'int64',\n",
    "#         'Estimates of Personal Income - Year ended 30 June Total income (excl. Government pensions and allowances) - Gini coefficient': 'float64',\n",
    "#         'Estimates of Personal Income - Year ended 30 June Mean employee income ($)': 'int64',\n",
    "#         'Gross Capital Gains reported by taxpayers - Year ended 30 June Gross Capital Gains reported by taxpayers - Mean ($)': 'int64',\n",
    "#         'Estimates of Personal Income - Year ended 30 June Mean investment income ($)': 'int64',\n",
    "#         'Estimates of Personal Income - Year ended 30 June Median employee income ($)': 'int64',\n",
    "#         'Gross Capital Gains reported by taxpayers - Year ended 30 June Gross Capital Gains reported by taxpayers  - Median ($)': 'int64',\n",
    "#         'Estimates of Personal Income - Year ended 30 June Median investment income ($)': 'int64',\n",
    "#         'State and Territory Id': 'category',\n",
    "#         'House Median Sales Price': 'int64',\n",
    "#         'House No of Transactions': 'int64',\n",
    "#         'Attached dwellings Median Sales Price': 'int64',\n",
    "#         'Attached dwellings No of Transactions': 'int64'\n",
    "#     }, \n",
    "#     errors='ignore'\n",
    "# )\n"
   ]
  },
  {
   "cell_type": "code",
   "execution_count": 25,
   "id": "afdc16b7-5daa-4e66-bf6f-b80874fa6abe",
   "metadata": {
    "collapsed": true,
    "jupyter": {
     "outputs_hidden": true
    }
   },
   "outputs": [
    {
     "data": {
      "text/plain": [
       "Year                                                                                                                              int64\n",
       "SA4 Code                                                                                                                          int64\n",
       "Household Stress - Census Households with rent payments greater than or equal to 30% of household income (%)                    float64\n",
       "Rent and Mortgage Payments - Census Average monthly household mortgage payment ($)                                              float64\n",
       "Rent and Mortgage Payments - Census Average monthly household rental payment ($)                                                float64\n",
       "Housing Suitability - Occupied private dwellings - Census Dwellings with extra bedrooms needed (no.)                            float64\n",
       "Household Stress - Census Households with mortgage repayments greater than or equal to 30% of household income (%)              float64\n",
       "Building Approvals - Year ended 30 June Value of residential building ($m)                                                      float64\n",
       "Building Approvals - Year ended 30 June Private sector dwellings excluding houses (no.)                                         float64\n",
       "Building Approvals - Year ended 30 June Total private sector dwelling units (no.)                                               float64\n",
       "Building Approvals - Year ended 30 June Total value of private sector dwelling units ($m)                                       float64\n",
       "Building Approvals - Year ended 30 June Private sector houses (no.)                                                             float64\n",
       "Building Approvals - Year ended 30 June Total dwelling units (no.)                                                              float64\n",
       "Building Approvals - Year ended 30 June Value of private sector houses ($m)                                                     float64\n",
       "Building Approvals - Year ended 30 June Value of private sector dwellings excluding houses ($m)                                 float64\n",
       "SA4 Name                                                                                                                         object\n",
       "Value of New Other Residential Building ($000)                                                                                  float64\n",
       "Total Dwelling Number                                                                                                           float64\n",
       "Number of New Houses                                                                                                            float64\n",
       "Number of New Other Residential Buildings                                                                                       float64\n",
       "Value of Total Residential Buildings ($000)                                                                                     float64\n",
       "Value of Alterations ($000)                                                                                                     float64\n",
       "Value of New Houses ($000)                                                                                                      float64\n",
       "SA4 Name 2011                                                                                                                    object\n",
       "Average number of Persons per bedroom                                                                                           float64\n",
       "Median total family income weekly                                                                                               float64\n",
       "Median total household income weekly                                                                                            float64\n",
       "Median age of persons                                                                                                           float64\n",
       "Median total personal income weekly                                                                                             float64\n",
       "Average household size                                                                                                          float64\n",
       "Median rent weekly                                                                                                              float64\n",
       "Median mortgage repayment monthly                                                                                               float64\n",
       "Estimates of Personal Income - Year ended 30 June Total income (excl. Government pensions and allowances) - Gini coefficient    float64\n",
       "Estimates of Personal Income - Year ended 30 June Mean employee income ($)                                                      float64\n",
       "Gross Capital Gains reported by taxpayers - Year ended 30 June Gross Capital Gains reported by taxpayers - Mean ($)             float64\n",
       "Estimates of Personal Income - Year ended 30 June Mean investment income ($)                                                    float64\n",
       "Estimates of Personal Income - Year ended 30 June Median employee income ($)                                                    float64\n",
       "Gross Capital Gains reported by taxpayers - Year ended 30 June Gross Capital Gains reported by taxpayers  - Median ($)          float64\n",
       "Estimates of Personal Income - Year ended 30 June Median investment income ($)                                                  float64\n",
       "State and Territory Id                                                                                                            int64\n",
       "House Median Sales Price                                                                                                        float64\n",
       "House No of Transactions                                                                                                        float64\n",
       "Attached dwellings Median Sales Price                                                                                           float64\n",
       "Attached dwellings No of Transactions                                                                                           float64\n",
       "dtype: object"
      ]
     },
     "execution_count": 25,
     "metadata": {},
     "output_type": "execute_result"
    }
   ],
   "source": [
    "df_sudo.dtypes"
   ]
  },
  {
   "cell_type": "code",
   "execution_count": 26,
   "id": "3aa127e1-279f-456f-b220-12a144fd01f9",
   "metadata": {},
   "outputs": [
    {
     "data": {
      "text/plain": [
       "(977, 44)"
      ]
     },
     "execution_count": 26,
     "metadata": {},
     "output_type": "execute_result"
    }
   ],
   "source": [
    "df_sudo.shape"
   ]
  },
  {
   "cell_type": "markdown",
   "id": "563cd3ac-6be2-4a6a-ab76-d5efc11ba1ed",
   "metadata": {},
   "source": [
    "# Data Analysis "
   ]
  },
  {
   "cell_type": "markdown",
   "id": "f93fa6ee-bbbe-4a21-9ffa-02785d7ede1c",
   "metadata": {},
   "source": [
    "### EDA"
   ]
  },
  {
   "cell_type": "code",
   "execution_count": 27,
   "id": "ce50b724-46c9-437d-94cf-c0e2071dd805",
   "metadata": {},
   "outputs": [],
   "source": [
    "import matplotlib.pyplot as plt\n",
    "import seaborn as sns\n",
    "\n",
    "import plotly.express as px"
   ]
  },
  {
   "cell_type": "code",
   "execution_count": 28,
   "id": "efe83dae-e741-4f3d-83dd-b6160ecee907",
   "metadata": {},
   "outputs": [],
   "source": [
    "STATE_TERRITORY_ID = {\n",
    "    1: 'NSW',\n",
    "    2: 'VIC',\n",
    "    3: 'QLD',\n",
    "    4: 'SA',\n",
    "    5: 'WA',\n",
    "    6: 'TAS',\n",
    "    7: 'NT', # Northern Territory\n",
    "    8: 'ACT' # Australian Capital Territory\n",
    "}"
   ]
  },
  {
   "cell_type": "code",
   "execution_count": 54,
   "id": "2728c4b5-2aa1-4a60-9da2-90e698249125",
   "metadata": {},
   "outputs": [],
   "source": [
    "MEL_SYD_SA4_NAME = [\n",
    "    'Sydney - Outer South West',\n",
    "    'Sydney - Inner West',\n",
    "    'Sydney - Inner South West',\n",
    "    'Sydney - Eastern Suburbs',\n",
    "    'Sydney - City and Inner South',\n",
    "    'Sydney - Blacktown',\n",
    "    'Sydney - Baulkham Hills and Hawkesbury'\n",
    "    'Sydney - Northern Beaches', \n",
    "    'Sydney - North Sydney and Hornsby',\n",
    "    'Sydney - Outer West and Blue Mountains'\n",
    "    'Sydney - Parramatta', \n",
    "    'Sydney - Sutherland', \n",
    "    'Sydney - South West',\n",
    "    'Sydney - Ryde'\n",
    "    'Melbourne - West', \n",
    "    'Melbourne - South East', \n",
    "    'Melbourne - Outer East',\n",
    "    'Melbourne - North West',\n",
    "    'Melbourne - North East',\n",
    "    'Melbourne - Inner South', \n",
    "    'Melbourne - Inner East',\n",
    "    'Melbourne - Inner',\n",
    "]\n",
    "\n",
    "MEL_SYD_SA4_NAME_TO_CODE = {}\n",
    "MEL_SYD_SA4_CODE_TO_NAME = {}"
   ]
  },
  {
   "cell_type": "code",
   "execution_count": 55,
   "id": "c3260f02-70a8-4152-ba7a-d861e3d0a63d",
   "metadata": {},
   "outputs": [],
   "source": [
    "for sa4 in MEL_SYD_SA4_NAME:\n",
    "    try: \n",
    "        SA4_code = df_sudo[df_sudo['SA4 Name'] == sa4]['SA4 Code'].mode()[0]\n",
    "        MEL_SYD_SA4_NAME_TO_CODE[sa4] = SA4_code\n",
    "        MEL_SYD_SA4_CODE_TO_NAME[SA4_code] = sa4\n",
    "    except: \n",
    "        continue"
   ]
  },
  {
   "cell_type": "code",
   "execution_count": 51,
   "id": "2099a542-9e06-41bc-a28d-39f46f5d5ee1",
   "metadata": {},
   "outputs": [
    {
     "data": {
      "text/plain": [
       "{'Sydney - Outer South West': 123,\n",
       " 'Sydney - Inner West': 120,\n",
       " 'Sydney - Inner South West': 119,\n",
       " 'Sydney - Eastern Suburbs': 118,\n",
       " 'Sydney - City and Inner South': 117,\n",
       " 'Sydney - Blacktown': 116,\n",
       " 'Sydney - North Sydney and Hornsby': 121,\n",
       " 'Sydney - Sutherland': 128,\n",
       " 'Sydney - South West': 127,\n",
       " 'Melbourne - South East': 212,\n",
       " 'Melbourne - Outer East': 211,\n",
       " 'Melbourne - North West': 210,\n",
       " 'Melbourne - North East': 209,\n",
       " 'Melbourne - Inner South': 208,\n",
       " 'Melbourne - Inner East': 207,\n",
       " 'Melbourne - Inner': 206}"
      ]
     },
     "execution_count": 51,
     "metadata": {},
     "output_type": "execute_result"
    }
   ],
   "source": [
    "MEL_SYD_SA4_NAME_TO_CODE"
   ]
  },
  {
   "cell_type": "code",
   "execution_count": 32,
   "id": "233b6b2f-8780-4983-9d17-bb31d20e2c3b",
   "metadata": {},
   "outputs": [],
   "source": [
    "df_sudo.to_csv('df_sudo.csv')"
   ]
  },
  {
   "cell_type": "code",
   "execution_count": 56,
   "id": "182acf8a-990c-4b17-8f7f-0235a49f0939",
   "metadata": {},
   "outputs": [],
   "source": [
    "df_sudo_major = df_sudo[df_sudo.apply(lambda x: x['SA4 Code'] in MEL_SYD_SA4_NAME_TO_CODE.values(), axis=1)]"
   ]
  },
  {
   "cell_type": "code",
   "execution_count": 58,
   "id": "cd4402ac-e8fc-47a3-b740-39e97258b7f5",
   "metadata": {},
   "outputs": [],
   "source": [
    "df_sudo_major['SA4 Name'] = df_sudo_major['SA4 Code'].apply(lambda x: MEL_SYD_SA4_CODE_TO_NAME[x])"
   ]
  },
  {
   "cell_type": "code",
   "execution_count": 60,
   "id": "448f8153-76ca-443b-b036-ae516f53e7aa",
   "metadata": {},
   "outputs": [],
   "source": [
    "df_sudo_major['SA4 Code'] = df_sudo_major['SA4 Code'].astype('category')"
   ]
  },
  {
   "cell_type": "code",
   "execution_count": 81,
   "id": "000bcf90-7daa-4957-b400-862db821b05c",
   "metadata": {},
   "outputs": [],
   "source": [
    "df_sudo_major['City'] = df_sudo_major['SA4 Name'].apply(\n",
    "    lambda x: re.match('^([A-Z][a-z]+) - [A-Za-z ]+$', x)[1]\n",
    ")"
   ]
  },
  {
   "cell_type": "code",
   "execution_count": 83,
   "id": "df8832e9-06bf-403f-8798-2b8df779d750",
   "metadata": {},
   "outputs": [],
   "source": [
    "# df_sudo_major.to_csv('df_sudo_major.csv')"
   ]
  },
  {
   "cell_type": "code",
   "execution_count": 61,
   "id": "de5f57b3-124e-473b-beeb-c394c6c12170",
   "metadata": {},
   "outputs": [
    {
     "data": {
      "text/plain": [
       "Index(['Year', 'SA4 Code',\n",
       "       'Household Stress - Census Households with rent payments greater than or equal to 30% of household income (%)',\n",
       "       'Rent and Mortgage Payments - Census Average monthly household mortgage payment ($)',\n",
       "       'Rent and Mortgage Payments - Census Average monthly household rental payment ($)',\n",
       "       'Housing Suitability - Occupied private dwellings - Census Dwellings with extra bedrooms needed (no.)',\n",
       "       'Household Stress - Census Households with mortgage repayments greater than or equal to 30% of household income (%)',\n",
       "       'Building Approvals - Year ended 30 June Value of residential building ($m)',\n",
       "       'Building Approvals - Year ended 30 June Private sector dwellings excluding houses (no.)',\n",
       "       'Building Approvals - Year ended 30 June Total private sector dwelling units (no.)',\n",
       "       'Building Approvals - Year ended 30 June Total value of private sector dwelling units ($m)',\n",
       "       'Building Approvals - Year ended 30 June Private sector houses (no.)',\n",
       "       'Building Approvals - Year ended 30 June Total dwelling units (no.)',\n",
       "       'Building Approvals - Year ended 30 June Value of private sector houses ($m)',\n",
       "       'Building Approvals - Year ended 30 June Value of private sector dwellings excluding houses ($m)',\n",
       "       'SA4 Name', 'Value of New Other Residential Building ($000)',\n",
       "       'Total Dwelling Number', 'Number of New Houses',\n",
       "       'Number of New Other Residential Buildings',\n",
       "       'Value of Total Residential Buildings ($000)',\n",
       "       'Value of Alterations ($000)', 'Value of New Houses ($000)',\n",
       "       'SA4 Name 2011', 'Average number of Persons per bedroom',\n",
       "       'Median total family income weekly',\n",
       "       'Median total household income weekly', 'Median age of persons',\n",
       "       'Median total personal income weekly', 'Average household size',\n",
       "       'Median rent weekly', 'Median mortgage repayment monthly',\n",
       "       'Estimates of Personal Income - Year ended 30 June Total income (excl. Government pensions and allowances) - Gini coefficient',\n",
       "       'Estimates of Personal Income - Year ended 30 June Mean employee income ($)',\n",
       "       'Gross Capital Gains reported by taxpayers - Year ended 30 June Gross Capital Gains reported by taxpayers - Mean ($)',\n",
       "       'Estimates of Personal Income - Year ended 30 June Mean investment income ($)',\n",
       "       'Estimates of Personal Income - Year ended 30 June Median employee income ($)',\n",
       "       'Gross Capital Gains reported by taxpayers - Year ended 30 June Gross Capital Gains reported by taxpayers  - Median ($)',\n",
       "       'Estimates of Personal Income - Year ended 30 June Median investment income ($)',\n",
       "       'State and Territory Id', 'House Median Sales Price',\n",
       "       'House No of Transactions', 'Attached dwellings Median Sales Price',\n",
       "       'Attached dwellings No of Transactions'],\n",
       "      dtype='object')"
      ]
     },
     "execution_count": 61,
     "metadata": {},
     "output_type": "execute_result"
    }
   ],
   "source": [
    "df_sudo_major.columns"
   ]
  },
  {
   "cell_type": "code",
   "execution_count": 32,
   "id": "0cc6bd0d-918d-463e-b1d9-aad0eac4b69a",
   "metadata": {},
   "outputs": [],
   "source": [
    "# df.groupby('A').agg({'B': ['min', 'max'], 'C': 'sum'})\n",
    "\n",
    "grouped_df = df_sudo.groupby(['Year', 'State and Territory Id']).\\\n",
    "    agg({\n",
    "        'Attached dwellings No of Transactions': 'sum'\n",
    "    })"
   ]
  },
  {
   "cell_type": "code",
   "execution_count": null,
   "id": "7bc592d8-8079-4f42-8bb8-e0b82113be1a",
   "metadata": {},
   "outputs": [],
   "source": [
    "# df.groupby('A').agg({'B': ['min', 'max'], 'C': 'sum'})\n",
    "\n",
    "grouped_df = df_sudo.groupby(['Year', 'State and Territory Id']).\\\n",
    "    agg({\n",
    "        'Attached dwellings No of Transactions': 'sum',\n",
    "        'Household Stress - Census Households with rent payments greater than or equal to 30% of household income (%)': 'sum'\n",
    "    })"
   ]
  },
  {
   "cell_type": "markdown",
   "id": "7187e3c7-1951-4a5f-b7cf-a173e54d66f1",
   "metadata": {},
   "source": [
    "## Main Scenarios: housing/rental market"
   ]
  },
  {
   "cell_type": "code",
   "execution_count": 93,
   "id": "d715ef37-f780-45f2-9445-80ec8ac8c23d",
   "metadata": {
    "jupyter": {
     "source_hidden": true
    }
   },
   "outputs": [],
   "source": [
    "def get_IRR(start: int, end: int, var: str, df=df_sudo_major):\n",
    "    filtered_df = df[df['Year'].isin([start, end])]\n",
    "    pivot_df = filtered_df.pivot(index='SA4 Name', columns='Year', values=var)\n",
    "    pivot_df['Rate of Change'] = ((pivot_df[end] / pivot_df[start]) ** (1/(end-start)) - 1) * 100\n",
    "\n",
    "    ax = sns.barplot(\n",
    "        data=pivot_df,\n",
    "        x='Rate of Change',\n",
    "        y='SA4 Name',\n",
    "        hue='Rate of Change'\n",
    "    )\n",
    "\n",
    "    # Annotate each bar with the value from the data\n",
    "    for p in ax.patches:  # loop through each bar\n",
    "        width = p.get_width()  # get the width of the bar\n",
    "        ax.text(\n",
    "            width + 0.05,  # x-coordinate position of text\n",
    "            p.get_y() + p.get_height() / 2,  # y-coordinate position of text\n",
    "            '{:1.2f}'.format(width),  # text label\n",
    "            va='center'  # center alignment\n",
    "        )\n",
    "    \n",
    "    return pivot_df"
   ]
  },
  {
   "cell_type": "markdown",
   "id": "93ea3945-a7a3-4d5a-b093-ffe225733b02",
   "metadata": {},
   "source": [
    "### Response variable:\n",
    "- average household monthly rent/mortgage payment (from family_community, only 2011, 2016)\n",
    "- median price/# of transactions of house/attached dwellings: 2014 - 2019\n",
    "- median weekly rent/mortgage: 2011, 2016, 2021"
   ]
  },
  {
   "cell_type": "markdown",
   "id": "fa8dad86-70fa-47c3-a452-6ab5798f7228",
   "metadata": {},
   "source": [
    "#### Median rent weekly"
   ]
  },
  {
   "cell_type": "code",
   "execution_count": 94,
   "id": "d8fcd266-998d-46b6-a48b-00064e76375b",
   "metadata": {},
   "outputs": [
    {
     "data": {
      "image/png": "[encoded data removed]",
      "text/plain": [
       "<Figure size 640x480 with 1 Axes>"
      ]
     },
     "metadata": {},
     "output_type": "display_data"
    }
   ],
   "source": [
    "pivot_df = get_IRR(2011, 2021, 'Median rent weekly')"
   ]
  },
  {
   "cell_type": "code",
   "execution_count": 86,
   "id": "0af18f0c-e4af-4500-aded-bc0f9fd78701",
   "metadata": {},
   "outputs": [
    {
     "data": {
      "image/png": "[encoded data removed]",
      "text/plain": [
       "<Figure size 640x480 with 1 Axes>"
      ]
     },
     "metadata": {},
     "output_type": "display_data"
    }
   ],
   "source": [
    "ax = sns.lineplot(\n",
    "    data=df_sudo_major,\n",
    "    x=\"Year\",\n",
    "    y='Median rent weekly',\n",
    "    hue='SA4 Name',\n",
    "    style='City',\n",
    "    palette='flare'\n",
    ")\n",
    "sns.move_legend(ax, \"center right\", bbox_to_anchor=(1.65, 0.5))"
   ]
  },
  {
   "cell_type": "markdown",
   "id": "bbd30033-812b-49e5-87f9-a4da45760503",
   "metadata": {},
   "source": [
    "Rental payment (whether it reflects overall rental price or not) flats out during the period of 2016-2021 for Sydney.  \n",
    "While the same continues its previous trend of growth in Melbourne. "
   ]
  },
  {
   "cell_type": "code",
   "execution_count": 71,
   "id": "c1c75921-18a3-4001-8fcc-342c5fbe65ec",
   "metadata": {},
   "outputs": [
    {
     "data": {
      "application/vnd.plotly.v1+json": {
       "config": {
        "plotlyServerURL": "https://plot.ly"
       },
       "data": [
        {
         "hovertemplate": "SA4 Name=Sydney - Blacktown<br>Year=%{x}<br>Median rent weekly=%{y}<extra></extra>",
         "legendgroup": "Sydney - Blacktown",
         "line": {
          "color": "#636efa",
          "dash": "solid"
         },
         "marker": {
          "symbol": "circle"
         },
         "mode": "lines",
         "name": "Sydney - Blacktown",
         "orientation": "v",
         "showlegend": true,
         "type": "scatter",
         "x": [
          2011,
          2012,
          2013,
          2014,
          2015,
          2016,
          2017,
          2018,
          2019,
          2020,
          2021
         ],
         "xaxis": "x",
         "y": [
          300,
          null,
          null,
          null,
          null,
          380,
          null,
          null,
          null,
          null,
          400
         ],
         "yaxis": "y"
        },
        {
         "hovertemplate": "SA4 Name=Sydney - City and Inner South<br>Year=%{x}<br>Median rent weekly=%{y}<extra></extra>",
         "legendgroup": "Sydney - City and Inner South",
         "line": {
          "color": "#EF553B",
          "dash": "solid"
         },
         "marker": {
          "symbol": "circle"
         },
         "mode": "lines",
         "name": "Sydney - City and Inner South",
         "orientation": "v",
         "showlegend": true,
         "type": "scatter",
         "x": [
          2011,
          2012,
          2013,
          2014,
          2015,
          2016,
          2017,
          2018,
          2019,
          2020,
          2021
         ],
         "xaxis": "x",
         "y": [
          430,
          null,
          null,
          null,
          null,
          550,
          null,
          null,
          null,
          null,
          550
         ],
         "yaxis": "y"
        },
        {
         "hovertemplate": "SA4 Name=Sydney - Eastern Suburbs<br>Year=%{x}<br>Median rent weekly=%{y}<extra></extra>",
         "legendgroup": "Sydney - Eastern Suburbs",
         "line": {
          "color": "#00cc96",
          "dash": "solid"
         },
         "marker": {
          "symbol": "circle"
         },
         "mode": "lines",
         "name": "Sydney - Eastern Suburbs",
         "orientation": "v",
         "showlegend": true,
         "type": "scatter",
         "x": [
          2011,
          2012,
          2013,
          2014,
          2015,
          2016,
          2017,
          2018,
          2019,
          2020,
          2021
         ],
         "xaxis": "x",
         "y": [
          470,
          null,
          null,
          null,
          null,
          580,
          null,
          null,
          null,
          null,
          600
         ],
         "yaxis": "y"
        },
        {
         "hovertemplate": "SA4 Name=Sydney - Inner South West<br>Year=%{x}<br>Median rent weekly=%{y}<extra></extra>",
         "legendgroup": "Sydney - Inner South West",
         "line": {
          "color": "#ab63fa",
          "dash": "solid"
         },
         "marker": {
          "symbol": "circle"
         },
         "mode": "lines",
         "name": "Sydney - Inner South West",
         "orientation": "v",
         "showlegend": true,
         "type": "scatter",
         "x": [
          2011,
          2012,
          2013,
          2014,
          2015,
          2016,
          2017,
          2018,
          2019,
          2020,
          2021
         ],
         "xaxis": "x",
         "y": [
          335,
          null,
          null,
          null,
          null,
          415,
          null,
          null,
          null,
          null,
          440
         ],
         "yaxis": "y"
        },
        {
         "hovertemplate": "SA4 Name=Sydney - Inner West<br>Year=%{x}<br>Median rent weekly=%{y}<extra></extra>",
         "legendgroup": "Sydney - Inner West",
         "line": {
          "color": "#FFA15A",
          "dash": "solid"
         },
         "marker": {
          "symbol": "circle"
         },
         "mode": "lines",
         "name": "Sydney - Inner West",
         "orientation": "v",
         "showlegend": true,
         "type": "scatter",
         "x": [
          2011,
          2012,
          2013,
          2014,
          2015,
          2016,
          2017,
          2018,
          2019,
          2020,
          2021
         ],
         "xaxis": "x",
         "y": [
          415,
          null,
          null,
          null,
          null,
          500,
          null,
          null,
          null,
          null,
          500
         ],
         "yaxis": "y"
        },
        {
         "hovertemplate": "SA4 Name=Sydney - North Sydney and Hornsby<br>Year=%{x}<br>Median rent weekly=%{y}<extra></extra>",
         "legendgroup": "Sydney - North Sydney and Hornsby",
         "line": {
          "color": "#19d3f3",
          "dash": "solid"
         },
         "marker": {
          "symbol": "circle"
         },
         "mode": "lines",
         "name": "Sydney - North Sydney and Hornsby",
         "orientation": "v",
         "showlegend": true,
         "type": "scatter",
         "x": [
          2011,
          2012,
          2013,
          2014,
          2015,
          2016,
          2017,
          2018,
          2019,
          2020,
          2021
         ],
         "xaxis": "x",
         "y": [
          466,
          null,
          null,
          null,
          null,
          555,
          null,
          null,
          null,
          null,
          560
         ],
         "yaxis": "y"
        },
        {
         "hovertemplate": "SA4 Name=Sydney - Outer South West<br>Year=%{x}<br>Median rent weekly=%{y}<extra></extra>",
         "legendgroup": "Sydney - Outer South West",
         "line": {
          "color": "#FF6692",
          "dash": "solid"
         },
         "marker": {
          "symbol": "circle"
         },
         "mode": "lines",
         "name": "Sydney - Outer South West",
         "orientation": "v",
         "showlegend": true,
         "type": "scatter",
         "x": [
          2011,
          2012,
          2013,
          2014,
          2015,
          2016,
          2017,
          2018,
          2019,
          2020,
          2021
         ],
         "xaxis": "x",
         "y": [
          277,
          null,
          null,
          null,
          null,
          360,
          null,
          null,
          null,
          null,
          400
         ],
         "yaxis": "y"
        },
        {
         "hovertemplate": "SA4 Name=Sydney - South West<br>Year=%{x}<br>Median rent weekly=%{y}<extra></extra>",
         "legendgroup": "Sydney - South West",
         "line": {
          "color": "#B6E880",
          "dash": "solid"
         },
         "marker": {
          "symbol": "circle"
         },
         "mode": "lines",
         "name": "Sydney - South West",
         "orientation": "v",
         "showlegend": true,
         "type": "scatter",
         "x": [
          2011,
          2012,
          2013,
          2014,
          2015,
          2016,
          2017,
          2018,
          2019,
          2020,
          2021
         ],
         "xaxis": "x",
         "y": [
          290,
          null,
          null,
          null,
          null,
          365,
          null,
          null,
          null,
          null,
          405
         ],
         "yaxis": "y"
        },
        {
         "hovertemplate": "SA4 Name=Sydney - Sutherland<br>Year=%{x}<br>Median rent weekly=%{y}<extra></extra>",
         "legendgroup": "Sydney - Sutherland",
         "line": {
          "color": "#FF97FF",
          "dash": "solid"
         },
         "marker": {
          "symbol": "circle"
         },
         "mode": "lines",
         "name": "Sydney - Sutherland",
         "orientation": "v",
         "showlegend": true,
         "type": "scatter",
         "x": [
          2011,
          2012,
          2013,
          2014,
          2015,
          2016,
          2017,
          2018,
          2019,
          2020,
          2021
         ],
         "xaxis": "x",
         "y": [
          370,
          null,
          null,
          null,
          null,
          450,
          null,
          null,
          null,
          null,
          500
         ],
         "yaxis": "y"
        },
        {
         "hovertemplate": "SA4 Name=Melbourne - Inner<br>Year=%{x}<br>Median rent weekly=%{y}<extra></extra>",
         "legendgroup": "Melbourne - Inner",
         "line": {
          "color": "#FECB52",
          "dash": "solid"
         },
         "marker": {
          "symbol": "circle"
         },
         "mode": "lines",
         "name": "Melbourne - Inner",
         "orientation": "v",
         "showlegend": true,
         "type": "scatter",
         "x": [
          2011,
          2012,
          2013,
          2014,
          2015,
          2016,
          2017,
          2018,
          2019,
          2020,
          2021
         ],
         "xaxis": "x",
         "y": [
          356,
          null,
          null,
          null,
          null,
          401,
          null,
          null,
          null,
          null,
          401
         ],
         "yaxis": "y"
        },
        {
         "hovertemplate": "SA4 Name=Melbourne - Inner East<br>Year=%{x}<br>Median rent weekly=%{y}<extra></extra>",
         "legendgroup": "Melbourne - Inner East",
         "line": {
          "color": "#636efa",
          "dash": "solid"
         },
         "marker": {
          "symbol": "circle"
         },
         "mode": "lines",
         "name": "Melbourne - Inner East",
         "orientation": "v",
         "showlegend": true,
         "type": "scatter",
         "x": [
          2011,
          2012,
          2013,
          2014,
          2015,
          2016,
          2017,
          2018,
          2019,
          2020,
          2021
         ],
         "xaxis": "x",
         "y": [
          350,
          null,
          null,
          null,
          null,
          400,
          null,
          null,
          null,
          null,
          441
         ],
         "yaxis": "y"
        },
        {
         "hovertemplate": "SA4 Name=Melbourne - Inner South<br>Year=%{x}<br>Median rent weekly=%{y}<extra></extra>",
         "legendgroup": "Melbourne - Inner South",
         "line": {
          "color": "#EF553B",
          "dash": "solid"
         },
         "marker": {
          "symbol": "circle"
         },
         "mode": "lines",
         "name": "Melbourne - Inner South",
         "orientation": "v",
         "showlegend": true,
         "type": "scatter",
         "x": [
          2011,
          2012,
          2013,
          2014,
          2015,
          2016,
          2017,
          2018,
          2019,
          2020,
          2021
         ],
         "xaxis": "x",
         "y": [
          330,
          null,
          null,
          null,
          null,
          386,
          null,
          null,
          null,
          null,
          438
         ],
         "yaxis": "y"
        },
        {
         "hovertemplate": "SA4 Name=Melbourne - North East<br>Year=%{x}<br>Median rent weekly=%{y}<extra></extra>",
         "legendgroup": "Melbourne - North East",
         "line": {
          "color": "#00cc96",
          "dash": "solid"
         },
         "marker": {
          "symbol": "circle"
         },
         "mode": "lines",
         "name": "Melbourne - North East",
         "orientation": "v",
         "showlegend": true,
         "type": "scatter",
         "x": [
          2011,
          2012,
          2013,
          2014,
          2015,
          2016,
          2017,
          2018,
          2019,
          2020,
          2021
         ],
         "xaxis": "x",
         "y": [
          300,
          null,
          null,
          null,
          null,
          331,
          null,
          null,
          null,
          null,
          380
         ],
         "yaxis": "y"
        },
        {
         "hovertemplate": "SA4 Name=Melbourne - North West<br>Year=%{x}<br>Median rent weekly=%{y}<extra></extra>",
         "legendgroup": "Melbourne - North West",
         "line": {
          "color": "#ab63fa",
          "dash": "solid"
         },
         "marker": {
          "symbol": "circle"
         },
         "mode": "lines",
         "name": "Melbourne - North West",
         "orientation": "v",
         "showlegend": true,
         "type": "scatter",
         "x": [
          2011,
          2012,
          2013,
          2014,
          2015,
          2016,
          2017,
          2018,
          2019,
          2020,
          2021
         ],
         "xaxis": "x",
         "y": [
          290,
          null,
          null,
          null,
          null,
          330,
          null,
          null,
          null,
          null,
          380
         ],
         "yaxis": "y"
        },
        {
         "hovertemplate": "SA4 Name=Melbourne - Outer East<br>Year=%{x}<br>Median rent weekly=%{y}<extra></extra>",
         "legendgroup": "Melbourne - Outer East",
         "line": {
          "color": "#FFA15A",
          "dash": "solid"
         },
         "marker": {
          "symbol": "circle"
         },
         "mode": "lines",
         "name": "Melbourne - Outer East",
         "orientation": "v",
         "showlegend": true,
         "type": "scatter",
         "x": [
          2011,
          2012,
          2013,
          2014,
          2015,
          2016,
          2017,
          2018,
          2019,
          2020,
          2021
         ],
         "xaxis": "x",
         "y": [
          295,
          null,
          null,
          null,
          null,
          350,
          null,
          null,
          null,
          null,
          396
         ],
         "yaxis": "y"
        },
        {
         "hovertemplate": "SA4 Name=Melbourne - South East<br>Year=%{x}<br>Median rent weekly=%{y}<extra></extra>",
         "legendgroup": "Melbourne - South East",
         "line": {
          "color": "#19d3f3",
          "dash": "solid"
         },
         "marker": {
          "symbol": "circle"
         },
         "mode": "lines",
         "name": "Melbourne - South East",
         "orientation": "v",
         "showlegend": true,
         "type": "scatter",
         "x": [
          2011,
          2012,
          2013,
          2014,
          2015,
          2016,
          2017,
          2018,
          2019,
          2020,
          2021
         ],
         "xaxis": "x",
         "y": [
          290,
          null,
          null,
          null,
          null,
          336,
          null,
          null,
          null,
          null,
          380
         ],
         "yaxis": "y"
        }
       ],
       "layout": {
        "autosize": true,
        "legend": {
         "orientation": "v",
         "title": {
          "text": "SA4 Name"
         },
         "tracegroupgap": 0,
         "x": 1.05,
         "xanchor": "right",
         "y": 0.5,
         "yanchor": "middle"
        },
        "template": {
         "data": {
          "bar": [
           {
            "error_x": {
             "color": "#2a3f5f"
            },
            "error_y": {
             "color": "#2a3f5f"
            },
            "marker": {
             "line": {
              "color": "#E5ECF6",
              "width": 0.5
             },
             "pattern": {
              "fillmode": "overlay",
              "size": 10,
              "solidity": 0.2
             }
            },
            "type": "bar"
           }
          ],
          "barpolar": [
           {
            "marker": {
             "line": {
              "color": "#E5ECF6",
              "width": 0.5
             },
             "pattern": {
              "fillmode": "overlay",
              "size": 10,
              "solidity": 0.2
             }
            },
            "type": "barpolar"
           }
          ],
          "carpet": [
           {
            "aaxis": {
             "endlinecolor": "#2a3f5f",
             "gridcolor": "white",
             "linecolor": "white",
             "minorgridcolor": "white",
             "startlinecolor": "#2a3f5f"
            },
            "baxis": {
             "endlinecolor": "#2a3f5f",
             "gridcolor": "white",
             "linecolor": "white",
             "minorgridcolor": "white",
             "startlinecolor": "#2a3f5f"
            },
            "type": "carpet"
           }
          ],
          "choropleth": [
           {
            "colorbar": {
             "outlinewidth": 0,
             "ticks": ""
            },
            "type": "choropleth"
           }
          ],
          "contour": [
           {
            "colorbar": {
             "outlinewidth": 0,
             "ticks": ""
            },
            "colorscale": [
             [
              0,
              "#0d0887"
             ],
             [
              0.1111111111111111,
              "#46039f"
             ],
             [
              0.2222222222222222,
              "#7201a8"
             ],
             [
              0.3333333333333333,
              "#9c179e"
             ],
             [
              0.4444444444444444,
              "#bd3786"
             ],
             [
              0.5555555555555556,
              "#d8576b"
             ],
             [
              0.6666666666666666,
              "#ed7953"
             ],
             [
              0.7777777777777778,
              "#fb9f3a"
             ],
             [
              0.8888888888888888,
              "#fdca26"
             ],
             [
              1,
              "#f0f921"
             ]
            ],
            "type": "contour"
           }
          ],
          "contourcarpet": [
           {
            "colorbar": {
             "outlinewidth": 0,
             "ticks": ""
            },
            "type": "contourcarpet"
           }
          ],
          "heatmap": [
           {
            "colorbar": {
             "outlinewidth": 0,
             "ticks": ""
            },
            "colorscale": [
             [
              0,
              "#0d0887"
             ],
             [
              0.1111111111111111,
              "#46039f"
             ],
             [
              0.2222222222222222,
              "#7201a8"
             ],
             [
              0.3333333333333333,
              "#9c179e"
             ],
             [
              0.4444444444444444,
              "#bd3786"
             ],
             [
              0.5555555555555556,
              "#d8576b"
             ],
             [
              0.6666666666666666,
              "#ed7953"
             ],
             [
              0.7777777777777778,
              "#fb9f3a"
             ],
             [
              0.8888888888888888,
              "#fdca26"
             ],
             [
              1,
              "#f0f921"
             ]
            ],
            "type": "heatmap"
           }
          ],
          "heatmapgl": [
           {
            "colorbar": {
             "outlinewidth": 0,
             "ticks": ""
            },
            "colorscale": [
             [
              0,
              "#0d0887"
             ],
             [
              0.1111111111111111,
              "#46039f"
             ],
             [
              0.2222222222222222,
              "#7201a8"
             ],
             [
              0.3333333333333333,
              "#9c179e"
             ],
             [
              0.4444444444444444,
              "#bd3786"
             ],
             [
              0.5555555555555556,
              "#d8576b"
             ],
             [
              0.6666666666666666,
              "#ed7953"
             ],
             [
              0.7777777777777778,
              "#fb9f3a"
             ],
             [
              0.8888888888888888,
              "#fdca26"
             ],
             [
              1,
              "#f0f921"
             ]
            ],
            "type": "heatmapgl"
           }
          ],
          "histogram": [
           {
            "marker": {
             "pattern": {
              "fillmode": "overlay",
              "size": 10,
              "solidity": 0.2
             }
            },
            "type": "histogram"
           }
          ],
          "histogram2d": [
           {
            "colorbar": {
             "outlinewidth": 0,
             "ticks": ""
            },
            "colorscale": [
             [
              0,
              "#0d0887"
             ],
             [
              0.1111111111111111,
              "#46039f"
             ],
             [
              0.2222222222222222,
              "#7201a8"
             ],
             [
              0.3333333333333333,
              "#9c179e"
             ],
             [
              0.4444444444444444,
              "#bd3786"
             ],
             [
              0.5555555555555556,
              "#d8576b"
             ],
             [
              0.6666666666666666,
              "#ed7953"
             ],
             [
              0.7777777777777778,
              "#fb9f3a"
             ],
             [
              0.8888888888888888,
              "#fdca26"
             ],
             [
              1,
              "#f0f921"
             ]
            ],
            "type": "histogram2d"
           }
          ],
          "histogram2dcontour": [
           {
            "colorbar": {
             "outlinewidth": 0,
             "ticks": ""
            },
            "colorscale": [
             [
              0,
              "#0d0887"
             ],
             [
              0.1111111111111111,
              "#46039f"
             ],
             [
              0.2222222222222222,
              "#7201a8"
             ],
             [
              0.3333333333333333,
              "#9c179e"
             ],
             [
              0.4444444444444444,
              "#bd3786"
             ],
             [
              0.5555555555555556,
              "#d8576b"
             ],
             [
              0.6666666666666666,
              "#ed7953"
             ],
             [
              0.7777777777777778,
              "#fb9f3a"
             ],
             [
              0.8888888888888888,
              "#fdca26"
             ],
             [
              1,
              "#f0f921"
             ]
            ],
            "type": "histogram2dcontour"
           }
          ],
          "mesh3d": [
           {
            "colorbar": {
             "outlinewidth": 0,
             "ticks": ""
            },
            "type": "mesh3d"
           }
          ],
          "parcoords": [
           {
            "line": {
             "colorbar": {
              "outlinewidth": 0,
              "ticks": ""
             }
            },
            "type": "parcoords"
           }
          ],
          "pie": [
           {
            "automargin": true,
            "type": "pie"
           }
          ],
          "scatter": [
           {
            "fillpattern": {
             "fillmode": "overlay",
             "size": 10,
             "solidity": 0.2
            },
            "type": "scatter"
           }
          ],
          "scatter3d": [
           {
            "line": {
             "colorbar": {
              "outlinewidth": 0,
              "ticks": ""
             }
            },
            "marker": {
             "colorbar": {
              "outlinewidth": 0,
              "ticks": ""
             }
            },
            "type": "scatter3d"
           }
          ],
          "scattercarpet": [
           {
            "marker": {
             "colorbar": {
              "outlinewidth": 0,
              "ticks": ""
             }
            },
            "type": "scattercarpet"
           }
          ],
          "scattergeo": [
           {
            "marker": {
             "colorbar": {
              "outlinewidth": 0,
              "ticks": ""
             }
            },
            "type": "scattergeo"
           }
          ],
          "scattergl": [
           {
            "marker": {
             "colorbar": {
              "outlinewidth": 0,
              "ticks": ""
             }
            },
            "type": "scattergl"
           }
          ],
          "scattermapbox": [
           {
            "marker": {
             "colorbar": {
              "outlinewidth": 0,
              "ticks": ""
             }
            },
            "type": "scattermapbox"
           }
          ],
          "scatterpolar": [
           {
            "marker": {
             "colorbar": {
              "outlinewidth": 0,
              "ticks": ""
             }
            },
            "type": "scatterpolar"
           }
          ],
          "scatterpolargl": [
           {
            "marker": {
             "colorbar": {
              "outlinewidth": 0,
              "ticks": ""
             }
            },
            "type": "scatterpolargl"
           }
          ],
          "scatterternary": [
           {
            "marker": {
             "colorbar": {
              "outlinewidth": 0,
              "ticks": ""
             }
            },
            "type": "scatterternary"
           }
          ],
          "surface": [
           {
            "colorbar": {
             "outlinewidth": 0,
             "ticks": ""
            },
            "colorscale": [
             [
              0,
              "#0d0887"
             ],
             [
              0.1111111111111111,
              "#46039f"
             ],
             [
              0.2222222222222222,
              "#7201a8"
             ],
             [
              0.3333333333333333,
              "#9c179e"
             ],
             [
              0.4444444444444444,
              "#bd3786"
             ],
             [
              0.5555555555555556,
              "#d8576b"
             ],
             [
              0.6666666666666666,
              "#ed7953"
             ],
             [
              0.7777777777777778,
              "#fb9f3a"
             ],
             [
              0.8888888888888888,
              "#fdca26"
             ],
             [
              1,
              "#f0f921"
             ]
            ],
            "type": "surface"
           }
          ],
          "table": [
           {
            "cells": {
             "fill": {
              "color": "#EBF0F8"
             },
             "line": {
              "color": "white"
             }
            },
            "header": {
             "fill": {
              "color": "#C8D4E3"
             },
             "line": {
              "color": "white"
             }
            },
            "type": "table"
           }
          ]
         },
         "layout": {
          "annotationdefaults": {
           "arrowcolor": "#2a3f5f",
           "arrowhead": 0,
           "arrowwidth": 1
          },
          "autotypenumbers": "strict",
          "coloraxis": {
           "colorbar": {
            "outlinewidth": 0,
            "ticks": ""
           }
          },
          "colorscale": {
           "diverging": [
            [
             0,
             "#8e0152"
            ],
            [
             0.1,
             "#c51b7d"
            ],
            [
             0.2,
             "#de77ae"
            ],
            [
             0.3,
             "#f1b6da"
            ],
            [
             0.4,
             "#fde0ef"
            ],
            [
             0.5,
             "#f7f7f7"
            ],
            [
             0.6,
             "#e6f5d0"
            ],
            [
             0.7,
             "#b8e186"
            ],
            [
             0.8,
             "#7fbc41"
            ],
            [
             0.9,
             "#4d9221"
            ],
            [
             1,
             "#276419"
            ]
           ],
           "sequential": [
            [
             0,
             "#0d0887"
            ],
            [
             0.1111111111111111,
             "#46039f"
            ],
            [
             0.2222222222222222,
             "#7201a8"
            ],
            [
             0.3333333333333333,
             "#9c179e"
            ],
            [
             0.4444444444444444,
             "#bd3786"
            ],
            [
             0.5555555555555556,
             "#d8576b"
            ],
            [
             0.6666666666666666,
             "#ed7953"
            ],
            [
             0.7777777777777778,
             "#fb9f3a"
            ],
            [
             0.8888888888888888,
             "#fdca26"
            ],
            [
             1,
             "#f0f921"
            ]
           ],
           "sequentialminus": [
            [
             0,
             "#0d0887"
            ],
            [
             0.1111111111111111,
             "#46039f"
            ],
            [
             0.2222222222222222,
             "#7201a8"
            ],
            [
             0.3333333333333333,
             "#9c179e"
            ],
            [
             0.4444444444444444,
             "#bd3786"
            ],
            [
             0.5555555555555556,
             "#d8576b"
            ],
            [
             0.6666666666666666,
             "#ed7953"
            ],
            [
             0.7777777777777778,
             "#fb9f3a"
            ],
            [
             0.8888888888888888,
             "#fdca26"
            ],
            [
             1,
             "#f0f921"
            ]
           ]
          },
          "colorway": [
           "#636efa",
           "#EF553B",
           "#00cc96",
           "#ab63fa",
           "#FFA15A",
           "#19d3f3",
           "#FF6692",
           "#B6E880",
           "#FF97FF",
           "#FECB52"
          ],
          "font": {
           "color": "#2a3f5f"
          },
          "geo": {
           "bgcolor": "white",
           "lakecolor": "white",
           "landcolor": "#E5ECF6",
           "showlakes": true,
           "showland": true,
           "subunitcolor": "white"
          },
          "hoverlabel": {
           "align": "left"
          },
          "hovermode": "closest",
          "mapbox": {
           "style": "light"
          },
          "paper_bgcolor": "white",
          "plot_bgcolor": "#E5ECF6",
          "polar": {
           "angularaxis": {
            "gridcolor": "white",
            "linecolor": "white",
            "ticks": ""
           },
           "bgcolor": "#E5ECF6",
           "radialaxis": {
            "gridcolor": "white",
            "linecolor": "white",
            "ticks": ""
           }
          },
          "scene": {
           "xaxis": {
            "backgroundcolor": "#E5ECF6",
            "gridcolor": "white",
            "gridwidth": 2,
            "linecolor": "white",
            "showbackground": true,
            "ticks": "",
            "zerolinecolor": "white"
           },
           "yaxis": {
            "backgroundcolor": "#E5ECF6",
            "gridcolor": "white",
            "gridwidth": 2,
            "linecolor": "white",
            "showbackground": true,
            "ticks": "",
            "zerolinecolor": "white"
           },
           "zaxis": {
            "backgroundcolor": "#E5ECF6",
            "gridcolor": "white",
            "gridwidth": 2,
            "linecolor": "white",
            "showbackground": true,
            "ticks": "",
            "zerolinecolor": "white"
           }
          },
          "shapedefaults": {
           "line": {
            "color": "#2a3f5f"
           }
          },
          "ternary": {
           "aaxis": {
            "gridcolor": "white",
            "linecolor": "white",
            "ticks": ""
           },
           "baxis": {
            "gridcolor": "white",
            "linecolor": "white",
            "ticks": ""
           },
           "bgcolor": "#E5ECF6",
           "caxis": {
            "gridcolor": "white",
            "linecolor": "white",
            "ticks": ""
           }
          },
          "title": {
           "x": 0.05
          },
          "xaxis": {
           "automargin": true,
           "gridcolor": "white",
           "linecolor": "white",
           "ticks": "",
           "title": {
            "standoff": 15
           },
           "zerolinecolor": "white",
           "zerolinewidth": 2
          },
          "yaxis": {
           "automargin": true,
           "gridcolor": "white",
           "linecolor": "white",
           "ticks": "",
           "title": {
            "standoff": 15
           },
           "zerolinecolor": "white",
           "zerolinewidth": 2
          }
         }
        },
        "title": {
         "text": "Median Weekly Rent by SA4 Code Over Years"
        },
        "xaxis": {
         "anchor": "y",
         "autorange": true,
         "domain": [
          0,
          1
         ],
         "range": [
          2011,
          2021
         ],
         "title": {
          "text": "Year"
         },
         "type": "linear"
        },
        "yaxis": {
         "anchor": "x",
         "autorange": true,
         "domain": [
          0,
          1
         ],
         "range": [
          259.05555555555554,
          617.9444444444445
         ],
         "title": {
          "text": "Median rent weekly"
         },
         "type": "linear"
        }
       }
      },
      "image/png": "[encoded data removed]",
      "text/html": [
       "<div>                            <div id=\"3ed1f936-b57b-4420-ad72-7cde8f3ee9dd\" class=\"plotly-graph-div\" style=\"height:525px; width:100%;\"></div>            <script type=\"text/javascript\">                require([\"plotly\"], function(Plotly) {                    window.PLOTLYENV=window.PLOTLYENV || {};                                    if (document.getElementById(\"3ed1f936-b57b-4420-ad72-7cde8f3ee9dd\")) {                    Plotly.newPlot(                        \"3ed1f936-b57b-4420-ad72-7cde8f3ee9dd\",                        [{\"hovertemplate\":\"SA4 Name=Sydney - Blacktown\\u003cbr\\u003eYear=%{x}\\u003cbr\\u003eMedian rent weekly=%{y}\\u003cextra\\u003e\\u003c\\u002fextra\\u003e\",\"legendgroup\":\"Sydney - Blacktown\",\"line\":{\"color\":\"#636efa\",\"dash\":\"solid\"},\"marker\":{\"symbol\":\"circle\"},\"mode\":\"lines\",\"name\":\"Sydney - Blacktown\",\"orientation\":\"v\",\"showlegend\":true,\"x\":[2011,2012,2013,2014,2015,2016,2017,2018,2019,2020,2021],\"xaxis\":\"x\",\"y\":[300.0,null,null,null,null,380.0,null,null,null,null,400.0],\"yaxis\":\"y\",\"type\":\"scatter\"},{\"hovertemplate\":\"SA4 Name=Sydney - City and Inner South\\u003cbr\\u003eYear=%{x}\\u003cbr\\u003eMedian rent weekly=%{y}\\u003cextra\\u003e\\u003c\\u002fextra\\u003e\",\"legendgroup\":\"Sydney - City and Inner South\",\"line\":{\"color\":\"#EF553B\",\"dash\":\"solid\"},\"marker\":{\"symbol\":\"circle\"},\"mode\":\"lines\",\"name\":\"Sydney - City and Inner South\",\"orientation\":\"v\",\"showlegend\":true,\"x\":[2011,2012,2013,2014,2015,2016,2017,2018,2019,2020,2021],\"xaxis\":\"x\",\"y\":[430.0,null,null,null,null,550.0,null,null,null,null,550.0],\"yaxis\":\"y\",\"type\":\"scatter\"},{\"hovertemplate\":\"SA4 Name=Sydney - Eastern Suburbs\\u003cbr\\u003eYear=%{x}\\u003cbr\\u003eMedian rent weekly=%{y}\\u003cextra\\u003e\\u003c\\u002fextra\\u003e\",\"legendgroup\":\"Sydney - Eastern Suburbs\",\"line\":{\"color\":\"#00cc96\",\"dash\":\"solid\"},\"marker\":{\"symbol\":\"circle\"},\"mode\":\"lines\",\"name\":\"Sydney - Eastern Suburbs\",\"orientation\":\"v\",\"showlegend\":true,\"x\":[2011,2012,2013,2014,2015,2016,2017,2018,2019,2020,2021],\"xaxis\":\"x\",\"y\":[470.0,null,null,null,null,580.0,null,null,null,null,600.0],\"yaxis\":\"y\",\"type\":\"scatter\"},{\"hovertemplate\":\"SA4 Name=Sydney - Inner South West\\u003cbr\\u003eYear=%{x}\\u003cbr\\u003eMedian rent weekly=%{y}\\u003cextra\\u003e\\u003c\\u002fextra\\u003e\",\"legendgroup\":\"Sydney - Inner South West\",\"line\":{\"color\":\"#ab63fa\",\"dash\":\"solid\"},\"marker\":{\"symbol\":\"circle\"},\"mode\":\"lines\",\"name\":\"Sydney - Inner South West\",\"orientation\":\"v\",\"showlegend\":true,\"x\":[2011,2012,2013,2014,2015,2016,2017,2018,2019,2020,2021],\"xaxis\":\"x\",\"y\":[335.0,null,null,null,null,415.0,null,null,null,null,440.0],\"yaxis\":\"y\",\"type\":\"scatter\"},{\"hovertemplate\":\"SA4 Name=Sydney - Inner West\\u003cbr\\u003eYear=%{x}\\u003cbr\\u003eMedian rent weekly=%{y}\\u003cextra\\u003e\\u003c\\u002fextra\\u003e\",\"legendgroup\":\"Sydney - Inner West\",\"line\":{\"color\":\"#FFA15A\",\"dash\":\"solid\"},\"marker\":{\"symbol\":\"circle\"},\"mode\":\"lines\",\"name\":\"Sydney - Inner West\",\"orientation\":\"v\",\"showlegend\":true,\"x\":[2011,2012,2013,2014,2015,2016,2017,2018,2019,2020,2021],\"xaxis\":\"x\",\"y\":[415.0,null,null,null,null,500.0,null,null,null,null,500.0],\"yaxis\":\"y\",\"type\":\"scatter\"},{\"hovertemplate\":\"SA4 Name=Sydney - North Sydney and Hornsby\\u003cbr\\u003eYear=%{x}\\u003cbr\\u003eMedian rent weekly=%{y}\\u003cextra\\u003e\\u003c\\u002fextra\\u003e\",\"legendgroup\":\"Sydney - North Sydney and Hornsby\",\"line\":{\"color\":\"#19d3f3\",\"dash\":\"solid\"},\"marker\":{\"symbol\":\"circle\"},\"mode\":\"lines\",\"name\":\"Sydney - North Sydney and Hornsby\",\"orientation\":\"v\",\"showlegend\":true,\"x\":[2011,2012,2013,2014,2015,2016,2017,2018,2019,2020,2021],\"xaxis\":\"x\",\"y\":[466.0,null,null,null,null,555.0,null,null,null,null,560.0],\"yaxis\":\"y\",\"type\":\"scatter\"},{\"hovertemplate\":\"SA4 Name=Sydney - Outer South West\\u003cbr\\u003eYear=%{x}\\u003cbr\\u003eMedian rent weekly=%{y}\\u003cextra\\u003e\\u003c\\u002fextra\\u003e\",\"legendgroup\":\"Sydney - Outer South West\",\"line\":{\"color\":\"#FF6692\",\"dash\":\"solid\"},\"marker\":{\"symbol\":\"circle\"},\"mode\":\"lines\",\"name\":\"Sydney - Outer South West\",\"orientation\":\"v\",\"showlegend\":true,\"x\":[2011,2012,2013,2014,2015,2016,2017,2018,2019,2020,2021],\"xaxis\":\"x\",\"y\":[277.0,null,null,null,null,360.0,null,null,null,null,400.0],\"yaxis\":\"y\",\"type\":\"scatter\"},{\"hovertemplate\":\"SA4 Name=Sydney - South West\\u003cbr\\u003eYear=%{x}\\u003cbr\\u003eMedian rent weekly=%{y}\\u003cextra\\u003e\\u003c\\u002fextra\\u003e\",\"legendgroup\":\"Sydney - South West\",\"line\":{\"color\":\"#B6E880\",\"dash\":\"solid\"},\"marker\":{\"symbol\":\"circle\"},\"mode\":\"lines\",\"name\":\"Sydney - South West\",\"orientation\":\"v\",\"showlegend\":true,\"x\":[2011,2012,2013,2014,2015,2016,2017,2018,2019,2020,2021],\"xaxis\":\"x\",\"y\":[290.0,null,null,null,null,365.0,null,null,null,null,405.0],\"yaxis\":\"y\",\"type\":\"scatter\"},{\"hovertemplate\":\"SA4 Name=Sydney - Sutherland\\u003cbr\\u003eYear=%{x}\\u003cbr\\u003eMedian rent weekly=%{y}\\u003cextra\\u003e\\u003c\\u002fextra\\u003e\",\"legendgroup\":\"Sydney - Sutherland\",\"line\":{\"color\":\"#FF97FF\",\"dash\":\"solid\"},\"marker\":{\"symbol\":\"circle\"},\"mode\":\"lines\",\"name\":\"Sydney - Sutherland\",\"orientation\":\"v\",\"showlegend\":true,\"x\":[2011,2012,2013,2014,2015,2016,2017,2018,2019,2020,2021],\"xaxis\":\"x\",\"y\":[370.0,null,null,null,null,450.0,null,null,null,null,500.0],\"yaxis\":\"y\",\"type\":\"scatter\"},{\"hovertemplate\":\"SA4 Name=Melbourne - Inner\\u003cbr\\u003eYear=%{x}\\u003cbr\\u003eMedian rent weekly=%{y}\\u003cextra\\u003e\\u003c\\u002fextra\\u003e\",\"legendgroup\":\"Melbourne - Inner\",\"line\":{\"color\":\"#FECB52\",\"dash\":\"solid\"},\"marker\":{\"symbol\":\"circle\"},\"mode\":\"lines\",\"name\":\"Melbourne - Inner\",\"orientation\":\"v\",\"showlegend\":true,\"x\":[2011,2012,2013,2014,2015,2016,2017,2018,2019,2020,2021],\"xaxis\":\"x\",\"y\":[356.0,null,null,null,null,401.0,null,null,null,null,401.0],\"yaxis\":\"y\",\"type\":\"scatter\"},{\"hovertemplate\":\"SA4 Name=Melbourne - Inner East\\u003cbr\\u003eYear=%{x}\\u003cbr\\u003eMedian rent weekly=%{y}\\u003cextra\\u003e\\u003c\\u002fextra\\u003e\",\"legendgroup\":\"Melbourne - Inner East\",\"line\":{\"color\":\"#636efa\",\"dash\":\"solid\"},\"marker\":{\"symbol\":\"circle\"},\"mode\":\"lines\",\"name\":\"Melbourne - Inner East\",\"orientation\":\"v\",\"showlegend\":true,\"x\":[2011,2012,2013,2014,2015,2016,2017,2018,2019,2020,2021],\"xaxis\":\"x\",\"y\":[350.0,null,null,null,null,400.0,null,null,null,null,441.0],\"yaxis\":\"y\",\"type\":\"scatter\"},{\"hovertemplate\":\"SA4 Name=Melbourne - Inner South\\u003cbr\\u003eYear=%{x}\\u003cbr\\u003eMedian rent weekly=%{y}\\u003cextra\\u003e\\u003c\\u002fextra\\u003e\",\"legendgroup\":\"Melbourne - Inner South\",\"line\":{\"color\":\"#EF553B\",\"dash\":\"solid\"},\"marker\":{\"symbol\":\"circle\"},\"mode\":\"lines\",\"name\":\"Melbourne - Inner South\",\"orientation\":\"v\",\"showlegend\":true,\"x\":[2011,2012,2013,2014,2015,2016,2017,2018,2019,2020,2021],\"xaxis\":\"x\",\"y\":[330.0,null,null,null,null,386.0,null,null,null,null,438.0],\"yaxis\":\"y\",\"type\":\"scatter\"},{\"hovertemplate\":\"SA4 Name=Melbourne - North East\\u003cbr\\u003eYear=%{x}\\u003cbr\\u003eMedian rent weekly=%{y}\\u003cextra\\u003e\\u003c\\u002fextra\\u003e\",\"legendgroup\":\"Melbourne - North East\",\"line\":{\"color\":\"#00cc96\",\"dash\":\"solid\"},\"marker\":{\"symbol\":\"circle\"},\"mode\":\"lines\",\"name\":\"Melbourne - North East\",\"orientation\":\"v\",\"showlegend\":true,\"x\":[2011,2012,2013,2014,2015,2016,2017,2018,2019,2020,2021],\"xaxis\":\"x\",\"y\":[300.0,null,null,null,null,331.0,null,null,null,null,380.0],\"yaxis\":\"y\",\"type\":\"scatter\"},{\"hovertemplate\":\"SA4 Name=Melbourne - North West\\u003cbr\\u003eYear=%{x}\\u003cbr\\u003eMedian rent weekly=%{y}\\u003cextra\\u003e\\u003c\\u002fextra\\u003e\",\"legendgroup\":\"Melbourne - North West\",\"line\":{\"color\":\"#ab63fa\",\"dash\":\"solid\"},\"marker\":{\"symbol\":\"circle\"},\"mode\":\"lines\",\"name\":\"Melbourne - North West\",\"orientation\":\"v\",\"showlegend\":true,\"x\":[2011,2012,2013,2014,2015,2016,2017,2018,2019,2020,2021],\"xaxis\":\"x\",\"y\":[290.0,null,null,null,null,330.0,null,null,null,null,380.0],\"yaxis\":\"y\",\"type\":\"scatter\"},{\"hovertemplate\":\"SA4 Name=Melbourne - Outer East\\u003cbr\\u003eYear=%{x}\\u003cbr\\u003eMedian rent weekly=%{y}\\u003cextra\\u003e\\u003c\\u002fextra\\u003e\",\"legendgroup\":\"Melbourne - Outer East\",\"line\":{\"color\":\"#FFA15A\",\"dash\":\"solid\"},\"marker\":{\"symbol\":\"circle\"},\"mode\":\"lines\",\"name\":\"Melbourne - Outer East\",\"orientation\":\"v\",\"showlegend\":true,\"x\":[2011,2012,2013,2014,2015,2016,2017,2018,2019,2020,2021],\"xaxis\":\"x\",\"y\":[295.0,null,null,null,null,350.0,null,null,null,null,396.0],\"yaxis\":\"y\",\"type\":\"scatter\"},{\"hovertemplate\":\"SA4 Name=Melbourne - South East\\u003cbr\\u003eYear=%{x}\\u003cbr\\u003eMedian rent weekly=%{y}\\u003cextra\\u003e\\u003c\\u002fextra\\u003e\",\"legendgroup\":\"Melbourne - South East\",\"line\":{\"color\":\"#19d3f3\",\"dash\":\"solid\"},\"marker\":{\"symbol\":\"circle\"},\"mode\":\"lines\",\"name\":\"Melbourne - South East\",\"orientation\":\"v\",\"showlegend\":true,\"x\":[2011,2012,2013,2014,2015,2016,2017,2018,2019,2020,2021],\"xaxis\":\"x\",\"y\":[290.0,null,null,null,null,336.0,null,null,null,null,380.0],\"yaxis\":\"y\",\"type\":\"scatter\"}],                        {\"template\":{\"data\":{\"histogram2dcontour\":[{\"type\":\"histogram2dcontour\",\"colorbar\":{\"outlinewidth\":0,\"ticks\":\"\"},\"colorscale\":[[0.0,\"#0d0887\"],[0.1111111111111111,\"#46039f\"],[0.2222222222222222,\"#7201a8\"],[0.3333333333333333,\"#9c179e\"],[0.4444444444444444,\"#bd3786\"],[0.5555555555555556,\"#d8576b\"],[0.6666666666666666,\"#ed7953\"],[0.7777777777777778,\"#fb9f3a\"],[0.8888888888888888,\"#fdca26\"],[1.0,\"#f0f921\"]]}],\"choropleth\":[{\"type\":\"choropleth\",\"colorbar\":{\"outlinewidth\":0,\"ticks\":\"\"}}],\"histogram2d\":[{\"type\":\"histogram2d\",\"colorbar\":{\"outlinewidth\":0,\"ticks\":\"\"},\"colorscale\":[[0.0,\"#0d0887\"],[0.1111111111111111,\"#46039f\"],[0.2222222222222222,\"#7201a8\"],[0.3333333333333333,\"#9c179e\"],[0.4444444444444444,\"#bd3786\"],[0.5555555555555556,\"#d8576b\"],[0.6666666666666666,\"#ed7953\"],[0.7777777777777778,\"#fb9f3a\"],[0.8888888888888888,\"#fdca26\"],[1.0,\"#f0f921\"]]}],\"heatmap\":[{\"type\":\"heatmap\",\"colorbar\":{\"outlinewidth\":0,\"ticks\":\"\"},\"colorscale\":[[0.0,\"#0d0887\"],[0.1111111111111111,\"#46039f\"],[0.2222222222222222,\"#7201a8\"],[0.3333333333333333,\"#9c179e\"],[0.4444444444444444,\"#bd3786\"],[0.5555555555555556,\"#d8576b\"],[0.6666666666666666,\"#ed7953\"],[0.7777777777777778,\"#fb9f3a\"],[0.8888888888888888,\"#fdca26\"],[1.0,\"#f0f921\"]]}],\"heatmapgl\":[{\"type\":\"heatmapgl\",\"colorbar\":{\"outlinewidth\":0,\"ticks\":\"\"},\"colorscale\":[[0.0,\"#0d0887\"],[0.1111111111111111,\"#46039f\"],[0.2222222222222222,\"#7201a8\"],[0.3333333333333333,\"#9c179e\"],[0.4444444444444444,\"#bd3786\"],[0.5555555555555556,\"#d8576b\"],[0.6666666666666666,\"#ed7953\"],[0.7777777777777778,\"#fb9f3a\"],[0.8888888888888888,\"#fdca26\"],[1.0,\"#f0f921\"]]}],\"contourcarpet\":[{\"type\":\"contourcarpet\",\"colorbar\":{\"outlinewidth\":0,\"ticks\":\"\"}}],\"contour\":[{\"type\":\"contour\",\"colorbar\":{\"outlinewidth\":0,\"ticks\":\"\"},\"colorscale\":[[0.0,\"#0d0887\"],[0.1111111111111111,\"#46039f\"],[0.2222222222222222,\"#7201a8\"],[0.3333333333333333,\"#9c179e\"],[0.4444444444444444,\"#bd3786\"],[0.5555555555555556,\"#d8576b\"],[0.6666666666666666,\"#ed7953\"],[0.7777777777777778,\"#fb9f3a\"],[0.8888888888888888,\"#fdca26\"],[1.0,\"#f0f921\"]]}],\"surface\":[{\"type\":\"surface\",\"colorbar\":{\"outlinewidth\":0,\"ticks\":\"\"},\"colorscale\":[[0.0,\"#0d0887\"],[0.1111111111111111,\"#46039f\"],[0.2222222222222222,\"#7201a8\"],[0.3333333333333333,\"#9c179e\"],[0.4444444444444444,\"#bd3786\"],[0.5555555555555556,\"#d8576b\"],[0.6666666666666666,\"#ed7953\"],[0.7777777777777778,\"#fb9f3a\"],[0.8888888888888888,\"#fdca26\"],[1.0,\"#f0f921\"]]}],\"mesh3d\":[{\"type\":\"mesh3d\",\"colorbar\":{\"outlinewidth\":0,\"ticks\":\"\"}}],\"scatter\":[{\"fillpattern\":{\"fillmode\":\"overlay\",\"size\":10,\"solidity\":0.2},\"type\":\"scatter\"}],\"parcoords\":[{\"type\":\"parcoords\",\"line\":{\"colorbar\":{\"outlinewidth\":0,\"ticks\":\"\"}}}],\"scatterpolargl\":[{\"type\":\"scatterpolargl\",\"marker\":{\"colorbar\":{\"outlinewidth\":0,\"ticks\":\"\"}}}],\"bar\":[{\"error_x\":{\"color\":\"#2a3f5f\"},\"error_y\":{\"color\":\"#2a3f5f\"},\"marker\":{\"line\":{\"color\":\"#E5ECF6\",\"width\":0.5},\"pattern\":{\"fillmode\":\"overlay\",\"size\":10,\"solidity\":0.2}},\"type\":\"bar\"}],\"scattergeo\":[{\"type\":\"scattergeo\",\"marker\":{\"colorbar\":{\"outlinewidth\":0,\"ticks\":\"\"}}}],\"scatterpolar\":[{\"type\":\"scatterpolar\",\"marker\":{\"colorbar\":{\"outlinewidth\":0,\"ticks\":\"\"}}}],\"histogram\":[{\"marker\":{\"pattern\":{\"fillmode\":\"overlay\",\"size\":10,\"solidity\":0.2}},\"type\":\"histogram\"}],\"scattergl\":[{\"type\":\"scattergl\",\"marker\":{\"colorbar\":{\"outlinewidth\":0,\"ticks\":\"\"}}}],\"scatter3d\":[{\"type\":\"scatter3d\",\"line\":{\"colorbar\":{\"outlinewidth\":0,\"ticks\":\"\"}},\"marker\":{\"colorbar\":{\"outlinewidth\":0,\"ticks\":\"\"}}}],\"scattermapbox\":[{\"type\":\"scattermapbox\",\"marker\":{\"colorbar\":{\"outlinewidth\":0,\"ticks\":\"\"}}}],\"scatterternary\":[{\"type\":\"scatterternary\",\"marker\":{\"colorbar\":{\"outlinewidth\":0,\"ticks\":\"\"}}}],\"scattercarpet\":[{\"type\":\"scattercarpet\",\"marker\":{\"colorbar\":{\"outlinewidth\":0,\"ticks\":\"\"}}}],\"carpet\":[{\"aaxis\":{\"endlinecolor\":\"#2a3f5f\",\"gridcolor\":\"white\",\"linecolor\":\"white\",\"minorgridcolor\":\"white\",\"startlinecolor\":\"#2a3f5f\"},\"baxis\":{\"endlinecolor\":\"#2a3f5f\",\"gridcolor\":\"white\",\"linecolor\":\"white\",\"minorgridcolor\":\"white\",\"startlinecolor\":\"#2a3f5f\"},\"type\":\"carpet\"}],\"table\":[{\"cells\":{\"fill\":{\"color\":\"#EBF0F8\"},\"line\":{\"color\":\"white\"}},\"header\":{\"fill\":{\"color\":\"#C8D4E3\"},\"line\":{\"color\":\"white\"}},\"type\":\"table\"}],\"barpolar\":[{\"marker\":{\"line\":{\"color\":\"#E5ECF6\",\"width\":0.5},\"pattern\":{\"fillmode\":\"overlay\",\"size\":10,\"solidity\":0.2}},\"type\":\"barpolar\"}],\"pie\":[{\"automargin\":true,\"type\":\"pie\"}]},\"layout\":{\"autotypenumbers\":\"strict\",\"colorway\":[\"#636efa\",\"#EF553B\",\"#00cc96\",\"#ab63fa\",\"#FFA15A\",\"#19d3f3\",\"#FF6692\",\"#B6E880\",\"#FF97FF\",\"#FECB52\"],\"font\":{\"color\":\"#2a3f5f\"},\"hovermode\":\"closest\",\"hoverlabel\":{\"align\":\"left\"},\"paper_bgcolor\":\"white\",\"plot_bgcolor\":\"#E5ECF6\",\"polar\":{\"bgcolor\":\"#E5ECF6\",\"angularaxis\":{\"gridcolor\":\"white\",\"linecolor\":\"white\",\"ticks\":\"\"},\"radialaxis\":{\"gridcolor\":\"white\",\"linecolor\":\"white\",\"ticks\":\"\"}},\"ternary\":{\"bgcolor\":\"#E5ECF6\",\"aaxis\":{\"gridcolor\":\"white\",\"linecolor\":\"white\",\"ticks\":\"\"},\"baxis\":{\"gridcolor\":\"white\",\"linecolor\":\"white\",\"ticks\":\"\"},\"caxis\":{\"gridcolor\":\"white\",\"linecolor\":\"white\",\"ticks\":\"\"}},\"coloraxis\":{\"colorbar\":{\"outlinewidth\":0,\"ticks\":\"\"}},\"colorscale\":{\"sequential\":[[0.0,\"#0d0887\"],[0.1111111111111111,\"#46039f\"],[0.2222222222222222,\"#7201a8\"],[0.3333333333333333,\"#9c179e\"],[0.4444444444444444,\"#bd3786\"],[0.5555555555555556,\"#d8576b\"],[0.6666666666666666,\"#ed7953\"],[0.7777777777777778,\"#fb9f3a\"],[0.8888888888888888,\"#fdca26\"],[1.0,\"#f0f921\"]],\"sequentialminus\":[[0.0,\"#0d0887\"],[0.1111111111111111,\"#46039f\"],[0.2222222222222222,\"#7201a8\"],[0.3333333333333333,\"#9c179e\"],[0.4444444444444444,\"#bd3786\"],[0.5555555555555556,\"#d8576b\"],[0.6666666666666666,\"#ed7953\"],[0.7777777777777778,\"#fb9f3a\"],[0.8888888888888888,\"#fdca26\"],[1.0,\"#f0f921\"]],\"diverging\":[[0,\"#8e0152\"],[0.1,\"#c51b7d\"],[0.2,\"#de77ae\"],[0.3,\"#f1b6da\"],[0.4,\"#fde0ef\"],[0.5,\"#f7f7f7\"],[0.6,\"#e6f5d0\"],[0.7,\"#b8e186\"],[0.8,\"#7fbc41\"],[0.9,\"#4d9221\"],[1,\"#276419\"]]},\"xaxis\":{\"gridcolor\":\"white\",\"linecolor\":\"white\",\"ticks\":\"\",\"title\":{\"standoff\":15},\"zerolinecolor\":\"white\",\"automargin\":true,\"zerolinewidth\":2},\"yaxis\":{\"gridcolor\":\"white\",\"linecolor\":\"white\",\"ticks\":\"\",\"title\":{\"standoff\":15},\"zerolinecolor\":\"white\",\"automargin\":true,\"zerolinewidth\":2},\"scene\":{\"xaxis\":{\"backgroundcolor\":\"#E5ECF6\",\"gridcolor\":\"white\",\"linecolor\":\"white\",\"showbackground\":true,\"ticks\":\"\",\"zerolinecolor\":\"white\",\"gridwidth\":2},\"yaxis\":{\"backgroundcolor\":\"#E5ECF6\",\"gridcolor\":\"white\",\"linecolor\":\"white\",\"showbackground\":true,\"ticks\":\"\",\"zerolinecolor\":\"white\",\"gridwidth\":2},\"zaxis\":{\"backgroundcolor\":\"#E5ECF6\",\"gridcolor\":\"white\",\"linecolor\":\"white\",\"showbackground\":true,\"ticks\":\"\",\"zerolinecolor\":\"white\",\"gridwidth\":2}},\"shapedefaults\":{\"line\":{\"color\":\"#2a3f5f\"}},\"annotationdefaults\":{\"arrowcolor\":\"#2a3f5f\",\"arrowhead\":0,\"arrowwidth\":1},\"geo\":{\"bgcolor\":\"white\",\"landcolor\":\"#E5ECF6\",\"subunitcolor\":\"white\",\"showland\":true,\"showlakes\":true,\"lakecolor\":\"white\"},\"title\":{\"x\":0.05},\"mapbox\":{\"style\":\"light\"}}},\"xaxis\":{\"anchor\":\"y\",\"domain\":[0.0,1.0],\"title\":{\"text\":\"Year\"}},\"yaxis\":{\"anchor\":\"x\",\"domain\":[0.0,1.0],\"title\":{\"text\":\"Median rent weekly\"}},\"legend\":{\"title\":{\"text\":\"SA4 Name\"},\"tracegroupgap\":0,\"orientation\":\"v\",\"yanchor\":\"middle\",\"y\":0.5,\"xanchor\":\"right\",\"x\":1.05},\"title\":{\"text\":\"Median Weekly Rent by SA4 Code Over Years\"}},                        {\"responsive\": true}                    ).then(function(){\n",
       "                            \n",
       "var gd = document.getElementById('3ed1f936-b57b-4420-ad72-7cde8f3ee9dd');\n",
       "var x = new MutationObserver(function (mutations, observer) {{\n",
       "        var display = window.getComputedStyle(gd).display;\n",
       "        if (!display || display === 'none') {{\n",
       "            console.log([gd, 'removed!']);\n",
       "            Plotly.purge(gd);\n",
       "            observer.disconnect();\n",
       "        }}\n",
       "}});\n",
       "\n",
       "// Listen for the removal of the full notebook cells\n",
       "var notebookContainer = gd.closest('#notebook-container');\n",
       "if (notebookContainer) {{\n",
       "    x.observe(notebookContainer, {childList: true});\n",
       "}}\n",
       "\n",
       "// Listen for the clearing of the current output cell\n",
       "var outputEl = gd.closest('.output');\n",
       "if (outputEl) {{\n",
       "    x.observe(outputEl, {childList: true});\n",
       "}}\n",
       "\n",
       "                        })                };                });            </script>        </div>"
      ]
     },
     "metadata": {},
     "output_type": "display_data"
    }
   ],
   "source": [
    "# Assuming df_sudo is already loaded and ready to use\n",
    "fig = px.line(df_sudo_major, x=\"Year\", y='Median rent weekly', color='SA4 Name', \n",
    "              title='Median Weekly Rent by SA4 Code Over Years')\n",
    "\n",
    "# Moving the legend to the right of the plot and making it interactive\n",
    "fig.update_layout(\n",
    "    legend=dict(\n",
    "        title='SA4 Name',\n",
    "        orientation=\"v\",\n",
    "        yanchor=\"middle\",\n",
    "        y=0.5,\n",
    "        xanchor=\"right\",\n",
    "        x=1.05\n",
    "    )\n",
    ")\n",
    "\n",
    "fig.show()"
   ]
  },
  {
   "cell_type": "markdown",
   "id": "a0f76153-dff3-4891-99af-0f693c4c9fa0",
   "metadata": {
    "jp-MarkdownHeadingCollapsed": true
   },
   "source": [
    "#### Median mortgage payment weekly"
   ]
  },
  {
   "cell_type": "code",
   "execution_count": 95,
   "id": "a143db48-c7f0-4790-a502-04409aa161e7",
   "metadata": {},
   "outputs": [
    {
     "data": {
      "image/png": "[encoded data removed]",
      "text/plain": [
       "<Figure size 640x480 with 1 Axes>"
      ]
     },
     "metadata": {},
     "output_type": "display_data"
    }
   ],
   "source": [
    "pivot_df = get_IRR(2011, 2021, 'Median mortgage repayment monthly')"
   ]
  },
  {
   "cell_type": "code",
   "execution_count": 97,
   "id": "316e0218-9e35-48fa-8aaa-cd0c94de186c",
   "metadata": {},
   "outputs": [
    {
     "data": {
      "image/png": "[encoded data removed]",
      "text/plain": [
       "<Figure size 640x480 with 1 Axes>"
      ]
     },
     "metadata": {},
     "output_type": "display_data"
    }
   ],
   "source": [
    "ax = sns.lineplot(\n",
    "    data=df_sudo_major,\n",
    "    x=\"Year\",\n",
    "    y='Median mortgage repayment monthly',\n",
    "    hue='SA4 Name',\n",
    "    palette='flare',\n",
    "    style='City'\n",
    ")\n",
    "sns.move_legend(ax, \"center right\", bbox_to_anchor=(1.65, 0.5))"
   ]
  },
  {
   "cell_type": "code",
   "execution_count": 77,
   "id": "13146522-0ad8-4e0c-a17d-ac3de0e554bb",
   "metadata": {},
   "outputs": [
    {
     "name": "stdout",
     "output_type": "stream",
     "text": [
      "/Users/shengyangsun/github_local_repos/school/comp90024_assg2/frontend\n"
     ]
    }
   ],
   "source": [
    "!pwd"
   ]
  },
  {
   "cell_type": "markdown",
   "id": "a4bfdaa1-e8d9-4755-a911-7e2cfa8c682c",
   "metadata": {},
   "source": [
    "![RBA_cash_rate](asset/RBA_cash_rate.png)"
   ]
  },
  {
   "cell_type": "markdown",
   "id": "d968b88c-1b14-465a-87a8-b9efc60ac2f5",
   "metadata": {},
   "source": [
    "Mortgage payment climbs up between 2016 to 2021 despite the overall dropping of RBA cash rate.  \n",
    "Most likely reason is the rapid increase of housing price."
   ]
  },
  {
   "cell_type": "markdown",
   "id": "d96d1974-63b0-42a8-84d3-a4977679060e",
   "metadata": {
    "jp-MarkdownHeadingCollapsed": true
   },
   "source": [
    "#### House price and no of transactions"
   ]
  },
  {
   "cell_type": "code",
   "execution_count": null,
   "id": "dc8ef855-784f-428d-9800-aa199153b9e0",
   "metadata": {},
   "outputs": [],
   "source": []
  },
  {
   "cell_type": "markdown",
   "id": "fbe626d0-a8e1-4ab5-b654-b1649869e152",
   "metadata": {
    "jp-MarkdownHeadingCollapsed": true
   },
   "source": [
    "### Housing/rental market: Supply Side\n",
    "- Building approvals:\n",
    "    - #/value of private sector dwellings: houses and attached\n",
    "    - public housing: implicit variable = total dwellings units #/value - private sector dwellings units #/value"
   ]
  },
  {
   "cell_type": "markdown",
   "id": "1ed14d70-8cd4-445c-9b71-3053ccaae6f1",
   "metadata": {},
   "source": [
    "### Housing/rental market: Demand Side"
   ]
  },
  {
   "cell_type": "markdown",
   "id": "5583369f-ce3a-416e-829c-31eea7d764ca",
   "metadata": {},
   "source": [
    "#### Internal\n",
    "- Household stress: rent/mortgage payment % of household income: 2011, 2016\n",
    "- Household suitability: extra rooms needed: 2011, 2016\n",
    "- median/mean employee income\n",
    "- median/mean capital gain\n",
    "- median/mean investment income\n",
    "- total income - gini coefficient"
   ]
  },
  {
   "cell_type": "markdown",
   "id": "10197884-41a2-4ff7-85cf-e898bb00b7b7",
   "metadata": {},
   "source": [
    "#### External\n",
    "- immigration: only have 2020 data"
   ]
  },
  {
   "cell_type": "markdown",
   "id": "2db5cfdb-28a9-4821-b9f0-c706c0f5c884",
   "metadata": {},
   "source": [
    "## Scenarios: Other"
   ]
  },
  {
   "cell_type": "markdown",
   "id": "5e36b824-1ffd-4285-a37e-9115c89415d2",
   "metadata": {},
   "source": [
    "### Income inbalance: Discrepencies between mean and median income, gini coefficient"
   ]
  },
  {
   "cell_type": "markdown",
   "id": "26d2243b-ce1b-4be2-9a84-ff7fe91b8bb6",
   "metadata": {},
   "source": [
    "### City expansion: new towns as predicted by the building approvals"
   ]
  }
 ],
 "metadata": {
  "kernelspec": {
   "display_name": "Python 3 (ipykernel)",
   "language": "python",
   "name": "python3"
  },
  "language_info": {
   "codemirror_mode": {
    "name": "ipython",
    "version": 3
   },
   "file_extension": ".py",
   "mimetype": "text/x-python",
   "name": "python",
   "nbconvert_exporter": "python",
   "pygments_lexer": "ipython3",
   "version": "3.8.12"
  }
 },
 "nbformat": 4,
 "nbformat_minor": 5
}
