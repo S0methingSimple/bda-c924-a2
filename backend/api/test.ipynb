{
 "cells": [
  {
   "cell_type": "code",
   "execution_count": 10,
   "id": "46498d40-403c-4b25-b869-266230577f41",
   "metadata": {},
   "outputs": [
    {
     "name": "stdout",
     "output_type": "stream",
     "text": [
      "[{'health': 'green', 'status': 'open', 'index': 'economy_and_industry_2014-2019', 'uuid': 'zt2vDA53QpyV2FQGXmhXLA', 'pri': '1', 'rep': '1', 'docs.count': '534', 'docs.deleted': '0', 'store.size': '348.5kb', 'pri.store.size': '174.2kb'}, {'health': 'green', 'status': 'open', 'index': 'housing_price', 'uuid': 'S41UjInJRQSW_3w6b9PLWg', 'pri': '1', 'rep': '1', 'docs.count': '4', 'docs.deleted': '0', 'store.size': '20kb', 'pri.store.size': '10kb'}, {'health': 'green', 'status': 'open', 'index': 'selected_medians_and_averages_2011_2016_2021', 'uuid': 'UjcjRpcES6qwI7BF0VWQOA', 'pri': '1', 'rep': '1', 'docs.count': '266', 'docs.deleted': '0', 'store.size': '103.3kb', 'pri.store.size': '51.6kb'}, {'health': 'green', 'status': 'open', 'index': 'coursesstudents', 'uuid': '-Gb45u-NTY6Elyn0CHimow', 'pri': '3', 'rep': '1', 'docs.count': '0', 'docs.deleted': '0', 'store.size': '1.3kb', 'pri.store.size': '675b'}, {'health': 'green', 'status': 'open', 'index': 'income_2014-2019', 'uuid': 'uCXTKrh3Q42O8yy1qoYM2w', 'pri': '1', 'rep': '1', 'docs.count': '534', 'docs.deleted': '0', 'store.size': '235.3kb', 'pri.store.size': '117.6kb'}, {'health': 'green', 'status': 'open', 'index': 'family_and_community_2011_2016', 'uuid': 'v1UiR1KWQS6z3QfYzoDAIw', 'pri': '1', 'rep': '1', 'docs.count': '178', 'docs.deleted': '0', 'store.size': '85.4kb', 'pri.store.size': '42.7kb'}, {'health': 'green', 'status': 'open', 'index': 'building_approvals2011-2020', 'uuid': 'LYv6T8k2RauZwdsfO7UWug', 'pri': '1', 'rep': '1', 'docs.count': '876', 'docs.deleted': '0', 'store.size': '493.4kb', 'pri.store.size': '246.7kb'}, {'health': 'green', 'status': 'open', 'index': 'migration', 'uuid': 'cUA-3aArTMiaeJuz1RW29A', 'pri': '1', 'rep': '1', 'docs.count': '7732', 'docs.deleted': '0', 'store.size': '8mb', 'pri.store.size': '4mb'}, {'health': 'green', 'status': 'open', 'index': 'property_price', 'uuid': 'Fq-SmCG7TsejYRYNlbRG9w', 'pri': '1', 'rep': '1', 'docs.count': '0', 'docs.deleted': '0', 'store.size': '450b', 'pri.store.size': '225b'}, {'health': 'green', 'status': 'open', 'index': 'mortgage', 'uuid': 'WKmUF1fZQxWNKuCPxEoqQA', 'pri': '1', 'rep': '1', 'docs.count': '312', 'docs.deleted': '0', 'store.size': '359.8kb', 'pri.store.size': '179.9kb'}, {'health': 'green', 'status': 'open', 'index': 'income', 'uuid': 'KHkmNkN2QDeUkWXAduzbzQ', 'pri': '1', 'rep': '1', 'docs.count': '436', 'docs.deleted': '0', 'store.size': '674.6kb', 'pri.store.size': '337.3kb'}, {'health': 'green', 'status': 'open', 'index': 'rental_price', 'uuid': '4jvMoAo9SdiaLtVjSF0n2Q', 'pri': '1', 'rep': '1', 'docs.count': '0', 'docs.deleted': '0', 'store.size': '450b', 'pri.store.size': '225b'}, {'health': 'green', 'status': 'open', 'index': 'visa', 'uuid': 'FXU0cba4RfqDHx4ol-Rx0w', 'pri': '1', 'rep': '1', 'docs.count': '530', 'docs.deleted': '0', 'store.size': '644.6kb', 'pri.store.size': '322.3kb'}, {'health': 'green', 'status': 'open', 'index': '2021_lga_settlement_reports_permanent_settlers_by_migration_stream', 'uuid': 'jaQ6ia0hS_SUpfJPPo3PvA', 'pri': '1', 'rep': '1', 'docs.count': '451', 'docs.deleted': '0', 'store.size': '106.9kb', 'pri.store.size': '53.4kb'}, {'health': 'green', 'status': 'open', 'index': 'studying', 'uuid': 'VOScOwUeQjGFWtAndfjigA', 'pri': '1', 'rep': '1', 'docs.count': '176', 'docs.deleted': '0', 'store.size': '229.5kb', 'pri.store.size': '114.7kb'}, {'health': 'green', 'status': 'open', 'index': 'observations', 'uuid': 'JFNSVMX4T_KgQaj3AcBQGA', 'pri': '3', 'rep': '1', 'docs.count': '544', 'docs.deleted': '250458', 'store.size': '22.5mb', 'pri.store.size': '11mb'}, {'health': 'green', 'status': 'open', 'index': 'as4_median_housing_price2010_2014', 'uuid': '-T9UVuXNQtWgFX61O6niYA', 'pri': '1', 'rep': '1', 'docs.count': '88', 'docs.deleted': '0', 'store.size': '40.2kb', 'pri.store.size': '20.1kb'}, {'health': 'green', 'status': 'open', 'index': 'rent', 'uuid': 'RhUmybWwRtu5Y3MZU2_xuA', 'pri': '1', 'rep': '1', 'docs.count': '1024', 'docs.deleted': '0', 'store.size': '1.2mb', 'pri.store.size': '617.4kb'}, {'health': 'green', 'status': 'open', 'index': 'twitter_data', 'uuid': 'waJt5UhPTWi6mV8xmBOPBg', 'pri': '1', 'rep': '1', 'docs.count': '12100000', 'docs.deleted': '0', 'store.size': '5.4gb', 'pri.store.size': '2.7gb'}, {'health': 'green', 'status': 'open', 'index': 'immigration', 'uuid': 'DbJqc0aMSY6yCmjZVXPABQ', 'pri': '1', 'rep': '1', 'docs.count': '9840', 'docs.deleted': '0', 'store.size': '10.7mb', 'pri.store.size': '5.3mb'}, {'health': 'green', 'status': 'open', 'index': 'temperatures', 'uuid': '8UK6x_8OQSay0QQdKeuaBw', 'pri': '3', 'rep': '1', 'docs.count': '0', 'docs.deleted': '0', 'store.size': '1.3kb', 'pri.store.size': '675b'}, {'health': 'green', 'status': 'open', 'index': 'students', 'uuid': '1HvrhmueRBqqiHUkzwtTlw', 'pri': '3', 'rep': '1', 'docs.count': '2', 'docs.deleted': '0', 'store.size': '19.5kb', 'pri.store.size': '9.7kb'}]\n"
     ]
    }
   ],
   "source": [
    "from elasticsearch import Elasticsearch\n",
    "import warnings\n",
    "warnings.filterwarnings(\"ignore\")\n",
    "\n",
    "# connect to your elasticsearch address and port\n",
    "es = Elasticsearch(\"https://localhost:9200\", http_auth=('elastic', 'elastic'), verify_certs=False)\n",
    "\n",
    "# check the index list\n",
    "index_list = es.cat.indices(format=\"json\")\n",
    "print(index_list)"
   ]
  },
  {
   "cell_type": "markdown",
   "id": "fead38f0",
   "metadata": {},
   "source": []
  },
  {
   "cell_type": "code",
   "execution_count": 20,
   "id": "cbfcb97c-a5a4-4f54-a807-be57118a060a",
   "metadata": {},
   "outputs": [
    {
     "name": "stdout",
     "output_type": "stream",
     "text": [
      "{'count': 2, '_shards': {'total': 1, 'successful': 1, 'skipped': 0, 'failed': 0}}\n"
     ]
    }
   ],
   "source": [
    "# determine the query rules\n",
    "start_date = \"2023-01-01\"\n",
    "end_date = \"2023-08-02\"\n",
    "query = {\n",
    "    \"query\": {\n",
    "        \"range\": {\n",
    "            \"created_at\": {\n",
    "                \"gte\": start_date,\n",
    "                \"lt\": end_date\n",
    "            }\n",
    "        }\n",
    "    }\n",
    "}\n",
    "query = {\"query\": {\"match_all\": {}}}\n",
    "\n",
    "# query = {\n",
    "#   \"size\": 0,  # Set size to 0 to retrieve only the count\n",
    "#   \"aggs\": {\n",
    "#     \"total_documents\": {\n",
    "#       \"cardinality\": {\n",
    "#         \"field\": \"_doc\"  # Use \"_doc\" for document count\n",
    "#       }\n",
    "#     }\n",
    "#   },\n",
    "#   \"query\": {\n",
    "#     \"bool\": {\n",
    "#       \"filter\": [\n",
    "#         { \"range\": { \"created_at\": { \"gte\": start_date, \"lt\": end_date } } }\n",
    "#       ]\n",
    "#     }\n",
    "#   }\n",
    "# }\n",
    "\n",
    "# curl \"http://127.0.0.1:9090/toot/housing_price?start_date=2023-08-01&end_date=2023-10-02\"  | jq '.'\n",
    "\n",
    "result = es.count(index=\"housing_price\", body=query) \n",
    "\n",
    "# hits = list(result.get(\"hits\").get(\"hits\"))\n",
    "# for hit in hits:\n",
    "#     print(hit.get(\"_source\"))\n",
    "\n",
    "print(result)"
   ]
  },
  {
   "cell_type": "code",
   "execution_count": 13,
   "id": "1228e18e",
   "metadata": {},
   "outputs": [
    {
     "name": "stdout",
     "output_type": "stream",
     "text": [
      "[{'_index': 'as4_median_housing_price2010_2014', '_id': 'fQ0ZV48BrXizR8J2MiyU', '_score': 1.0, '_source': {' sa4_code': 101, ' year': 2013, ' sa4_name': 'Capital Region'}}, {'_index': 'as4_median_housing_price2010_2014', '_id': 'fg0ZV48BrXizR8J2MiyU', '_score': 1.0, '_source': {' sa4_code': 102, ' year': 2013, ' sa4_name': 'Central Coast'}}, {'_index': 'as4_median_housing_price2010_2014', '_id': 'fw0ZV48BrXizR8J2MiyU', '_score': 1.0, '_source': {' sa4_code': 103, ' year': 2013, ' sa4_name': 'Central West'}}, {'_index': 'as4_median_housing_price2010_2014', '_id': 'gA0ZV48BrXizR8J2MiyU', '_score': 1.0, '_source': {' sa4_code': 104, ' year': 2013, ' sa4_name': 'Coffs Harbour - Grafton'}}, {'_index': 'as4_median_housing_price2010_2014', '_id': 'gQ0ZV48BrXizR8J2MiyU', '_score': 1.0, '_source': {' sa4_code': 105, ' year': 2013, ' sa4_name': 'Far West and Orana'}}, {'_index': 'as4_median_housing_price2010_2014', '_id': 'gg0ZV48BrXizR8J2MiyU', '_score': 1.0, '_source': {' sa4_code': 106, ' year': 2013, ' sa4_name': 'Hunter Valley exc Newcastle'}}, {'_index': 'as4_median_housing_price2010_2014', '_id': 'gw0ZV48BrXizR8J2MiyU', '_score': 1.0, '_source': {' sa4_code': 107, ' year': 2013, ' sa4_name': 'Illawarra'}}, {'_index': 'as4_median_housing_price2010_2014', '_id': 'hA0ZV48BrXizR8J2MiyU', '_score': 1.0, '_source': {' sa4_code': 108, ' year': 2013, ' sa4_name': 'Mid North Coast'}}, {'_index': 'as4_median_housing_price2010_2014', '_id': 'hQ0ZV48BrXizR8J2MiyU', '_score': 1.0, '_source': {' sa4_code': 109, ' year': 2013, ' sa4_name': 'Murray'}}, {'_index': 'as4_median_housing_price2010_2014', '_id': 'hg0ZV48BrXizR8J2MiyU', '_score': 1.0, '_source': {' sa4_code': 110, ' year': 2013, ' sa4_name': 'New England and North West'}}, {'_index': 'as4_median_housing_price2010_2014', '_id': 'hw0ZV48BrXizR8J2MiyU', '_score': 1.0, '_source': {' sa4_code': 111, ' year': 2013, ' sa4_name': 'Newcastle and Lake Macquarie'}}, {'_index': 'as4_median_housing_price2010_2014', '_id': 'iA0ZV48BrXizR8J2MiyU', '_score': 1.0, '_source': {' sa4_code': 112, ' year': 2013, ' sa4_name': 'Richmond - Tweed'}}, {'_index': 'as4_median_housing_price2010_2014', '_id': 'iQ0ZV48BrXizR8J2MiyU', '_score': 1.0, '_source': {' sa4_code': 113, ' year': 2013, ' sa4_name': 'Riverina'}}, {'_index': 'as4_median_housing_price2010_2014', '_id': 'ig0ZV48BrXizR8J2MiyU', '_score': 1.0, '_source': {' sa4_code': 114, ' year': 2013, ' sa4_name': 'Southern Highlands and Shoalhaven'}}, {'_index': 'as4_median_housing_price2010_2014', '_id': 'iw0ZV48BrXizR8J2MiyU', '_score': 1.0, '_source': {' sa4_code': 115, ' year': 2013, ' sa4_name': 'Sydney - Baulkham Hills and Hawkesbury'}}, {'_index': 'as4_median_housing_price2010_2014', '_id': 'jA0ZV48BrXizR8J2MiyU', '_score': 1.0, '_source': {' sa4_code': 116, ' year': 2013, ' sa4_name': 'Sydney - Blacktown'}}, {'_index': 'as4_median_housing_price2010_2014', '_id': 'jQ0ZV48BrXizR8J2MiyU', '_score': 1.0, '_source': {' sa4_code': 117, ' year': 2013, ' sa4_name': 'Sydney - City and Inner South'}}, {'_index': 'as4_median_housing_price2010_2014', '_id': 'jg0ZV48BrXizR8J2MiyU', '_score': 1.0, '_source': {' sa4_code': 118, ' year': 2013, ' sa4_name': 'Sydney - Eastern Suburbs'}}, {'_index': 'as4_median_housing_price2010_2014', '_id': 'jw0ZV48BrXizR8J2MiyU', '_score': 1.0, '_source': {' sa4_code': 119, ' year': 2013, ' sa4_name': 'Sydney - Inner South West'}}, {'_index': 'as4_median_housing_price2010_2014', '_id': 'kA0ZV48BrXizR8J2MiyU', '_score': 1.0, '_source': {' sa4_code': 120, ' year': 2013, ' sa4_name': 'Sydney - Inner West'}}, {'_index': 'as4_median_housing_price2010_2014', '_id': 'kQ0ZV48BrXizR8J2MiyU', '_score': 1.0, '_source': {' sa4_code': 121, ' year': 2013, ' sa4_name': 'Sydney - North Sydney and Hornsby'}}, {'_index': 'as4_median_housing_price2010_2014', '_id': 'kg0ZV48BrXizR8J2MiyU', '_score': 1.0, '_source': {' sa4_code': 122, ' year': 2013, ' sa4_name': 'Sydney - Northern Beaches'}}, {'_index': 'as4_median_housing_price2010_2014', '_id': 'kw0ZV48BrXizR8J2MiyU', '_score': 1.0, '_source': {' sa4_code': 123, ' year': 2013, ' sa4_name': 'Sydney - Outer South West'}}, {'_index': 'as4_median_housing_price2010_2014', '_id': 'lA0ZV48BrXizR8J2MiyU', '_score': 1.0, '_source': {' sa4_code': 124, ' year': 2013, ' sa4_name': 'Sydney - Outer West and Blue Mountains'}}, {'_index': 'as4_median_housing_price2010_2014', '_id': 'lQ0ZV48BrXizR8J2MiyU', '_score': 1.0, '_source': {' sa4_code': 125, ' year': 2013, ' sa4_name': 'Sydney - Parramatta'}}, {'_index': 'as4_median_housing_price2010_2014', '_id': 'lg0ZV48BrXizR8J2MiyU', '_score': 1.0, '_source': {' sa4_code': 126, ' year': 2013, ' sa4_name': 'Sydney - Ryde'}}, {'_index': 'as4_median_housing_price2010_2014', '_id': 'lw0ZV48BrXizR8J2MiyU', '_score': 1.0, '_source': {' sa4_code': 127, ' year': 2013, ' sa4_name': 'Sydney - South West'}}, {'_index': 'as4_median_housing_price2010_2014', '_id': 'mA0ZV48BrXizR8J2MiyU', '_score': 1.0, '_source': {' sa4_code': 128, ' year': 2013, ' sa4_name': 'Sydney - Sutherland'}}, {'_index': 'as4_median_housing_price2010_2014', '_id': 'mQ0ZV48BrXizR8J2MiyU', '_score': 1.0, '_source': {' sa4_code': 201, ' year': 2013, ' sa4_name': 'Ballarat'}}, {'_index': 'as4_median_housing_price2010_2014', '_id': 'mg0ZV48BrXizR8J2MiyU', '_score': 1.0, '_source': {' sa4_code': 202, ' year': 2013, ' sa4_name': 'Bendigo'}}, {'_index': 'as4_median_housing_price2010_2014', '_id': 'mw0ZV48BrXizR8J2MiyU', '_score': 1.0, '_source': {' sa4_code': 203, ' year': 2013, ' sa4_name': 'Geelong'}}, {'_index': 'as4_median_housing_price2010_2014', '_id': 'nA0ZV48BrXizR8J2MiyU', '_score': 1.0, '_source': {' sa4_code': 204, ' year': 2013, ' sa4_name': 'Hume'}}, {'_index': 'as4_median_housing_price2010_2014', '_id': 'nQ0ZV48BrXizR8J2MiyU', '_score': 1.0, '_source': {' sa4_code': 205, ' year': 2013, ' sa4_name': 'Latrobe - Gippsland'}}, {'_index': 'as4_median_housing_price2010_2014', '_id': 'ng0ZV48BrXizR8J2MiyU', '_score': 1.0, '_source': {' sa4_code': 206, ' year': 2013, ' sa4_name': 'Melbourne - Inner'}}, {'_index': 'as4_median_housing_price2010_2014', '_id': 'nw0ZV48BrXizR8J2MiyU', '_score': 1.0, '_source': {' sa4_code': 207, ' year': 2013, ' sa4_name': 'Melbourne - Inner East'}}, {'_index': 'as4_median_housing_price2010_2014', '_id': 'oA0ZV48BrXizR8J2MiyU', '_score': 1.0, '_source': {' sa4_code': 208, ' year': 2013, ' sa4_name': 'Melbourne - Inner South'}}, {'_index': 'as4_median_housing_price2010_2014', '_id': 'oQ0ZV48BrXizR8J2MiyU', '_score': 1.0, '_source': {' sa4_code': 209, ' year': 2013, ' sa4_name': 'Melbourne - North East'}}, {'_index': 'as4_median_housing_price2010_2014', '_id': 'og0ZV48BrXizR8J2MiyU', '_score': 1.0, '_source': {' sa4_code': 210, ' year': 2013, ' sa4_name': 'Melbourne - North West'}}, {'_index': 'as4_median_housing_price2010_2014', '_id': 'ow0ZV48BrXizR8J2MiyU', '_score': 1.0, '_source': {' sa4_code': 211, ' year': 2013, ' sa4_name': 'Melbourne - Outer East'}}, {'_index': 'as4_median_housing_price2010_2014', '_id': 'pA0ZV48BrXizR8J2MiyU', '_score': 1.0, '_source': {' sa4_code': 212, ' year': 2013, ' sa4_name': 'Melbourne - South East'}}, {'_index': 'as4_median_housing_price2010_2014', '_id': 'pQ0ZV48BrXizR8J2MiyU', '_score': 1.0, '_source': {' sa4_code': 213, ' year': 2013, ' sa4_name': 'Melbourne - West'}}, {'_index': 'as4_median_housing_price2010_2014', '_id': 'pg0ZV48BrXizR8J2MiyU', '_score': 1.0, '_source': {' sa4_code': 214, ' year': 2013, ' sa4_name': 'Mornington Peninsula'}}, {'_index': 'as4_median_housing_price2010_2014', '_id': 'pw0ZV48BrXizR8J2MiyU', '_score': 1.0, '_source': {' sa4_code': 215, ' year': 2013, ' sa4_name': 'North West'}}, {'_index': 'as4_median_housing_price2010_2014', '_id': 'qA0ZV48BrXizR8J2MiyU', '_score': 1.0, '_source': {' sa4_code': 216, ' year': 2013, ' sa4_name': 'Shepparton'}}, {'_index': 'as4_median_housing_price2010_2014', '_id': 'qQ0ZV48BrXizR8J2MiyU', '_score': 1.0, '_source': {' sa4_code': 217, ' year': 2013, ' sa4_name': 'Warrnambool and South West'}}, {'_index': 'as4_median_housing_price2010_2014', '_id': 'qg0ZV48BrXizR8J2MiyU', '_score': 1.0, '_source': {' sa4_code': 301, ' year': 2013, ' sa4_name': 'Brisbane - East'}}, {'_index': 'as4_median_housing_price2010_2014', '_id': 'qw0ZV48BrXizR8J2MiyU', '_score': 1.0, '_source': {' sa4_code': 302, ' year': 2013, ' sa4_name': 'Brisbane - North'}}, {'_index': 'as4_median_housing_price2010_2014', '_id': 'rA0ZV48BrXizR8J2MiyU', '_score': 1.0, '_source': {' sa4_code': 303, ' year': 2013, ' sa4_name': 'Brisbane - South'}}, {'_index': 'as4_median_housing_price2010_2014', '_id': 'rQ0ZV48BrXizR8J2MiyU', '_score': 1.0, '_source': {' sa4_code': 304, ' year': 2013, ' sa4_name': 'Brisbane - West'}}, {'_index': 'as4_median_housing_price2010_2014', '_id': 'rg0ZV48BrXizR8J2MiyU', '_score': 1.0, '_source': {' sa4_code': 305, ' year': 2013, ' sa4_name': 'Brisbane Inner City'}}, {'_index': 'as4_median_housing_price2010_2014', '_id': 'rw0ZV48BrXizR8J2MiyU', '_score': 1.0, '_source': {' sa4_code': 306, ' year': 2013, ' sa4_name': 'Cairns'}}, {'_index': 'as4_median_housing_price2010_2014', '_id': 'sA0ZV48BrXizR8J2MiyU', '_score': 1.0, '_source': {' sa4_code': 307, ' year': 2013, ' sa4_name': 'Darling Downs - Maranoa'}}, {'_index': 'as4_median_housing_price2010_2014', '_id': 'sQ0ZV48BrXizR8J2MiyU', '_score': 1.0, '_source': {' sa4_code': 308, ' year': 2013, ' sa4_name': 'Fitzroy'}}, {'_index': 'as4_median_housing_price2010_2014', '_id': 'sg0ZV48BrXizR8J2MiyU', '_score': 1.0, '_source': {' sa4_code': 309, ' year': 2013, ' sa4_name': 'Gold Coast'}}, {'_index': 'as4_median_housing_price2010_2014', '_id': 'sw0ZV48BrXizR8J2MiyU', '_score': 1.0, '_source': {' sa4_code': 310, ' year': 2013, ' sa4_name': 'Ipswich'}}, {'_index': 'as4_median_housing_price2010_2014', '_id': 'tA0ZV48BrXizR8J2MiyU', '_score': 1.0, '_source': {' sa4_code': 311, ' year': 2013, ' sa4_name': 'Logan - Beaudesert'}}, {'_index': 'as4_median_housing_price2010_2014', '_id': 'tQ0ZV48BrXizR8J2MiyU', '_score': 1.0, '_source': {' sa4_code': 312, ' year': 2013, ' sa4_name': 'Mackay'}}, {'_index': 'as4_median_housing_price2010_2014', '_id': 'tg0ZV48BrXizR8J2MiyU', '_score': 1.0, '_source': {' sa4_code': 313, ' year': 2013, ' sa4_name': 'Moreton Bay - North'}}, {'_index': 'as4_median_housing_price2010_2014', '_id': 'tw0ZV48BrXizR8J2MiyU', '_score': 1.0, '_source': {' sa4_code': 314, ' year': 2013, ' sa4_name': 'Moreton Bay - South'}}, {'_index': 'as4_median_housing_price2010_2014', '_id': 'uA0ZV48BrXizR8J2MiyU', '_score': 1.0, '_source': {' sa4_code': 315, ' year': 2013, ' sa4_name': 'Queensland - Outback'}}, {'_index': 'as4_median_housing_price2010_2014', '_id': 'uQ0ZV48BrXizR8J2MiyU', '_score': 1.0, '_source': {' sa4_code': 316, ' year': 2013, ' sa4_name': 'Sunshine Coast'}}, {'_index': 'as4_median_housing_price2010_2014', '_id': 'ug0ZV48BrXizR8J2MiyU', '_score': 1.0, '_source': {' sa4_code': 317, ' year': 2013, ' sa4_name': 'Toowoomba'}}, {'_index': 'as4_median_housing_price2010_2014', '_id': 'uw0ZV48BrXizR8J2MiyU', '_score': 1.0, '_source': {' sa4_code': 318, ' year': 2013, ' sa4_name': 'Townsville'}}, {'_index': 'as4_median_housing_price2010_2014', '_id': 'vA0ZV48BrXizR8J2MiyU', '_score': 1.0, '_source': {' sa4_code': 319, ' year': 2013, ' sa4_name': 'Wide Bay'}}, {'_index': 'as4_median_housing_price2010_2014', '_id': 'vQ0ZV48BrXizR8J2MiyU', '_score': 1.0, '_source': {' sa4_code': 401, ' year': 2013, ' sa4_name': 'Adelaide - Central and Hills'}}, {'_index': 'as4_median_housing_price2010_2014', '_id': 'vg0ZV48BrXizR8J2MiyU', '_score': 1.0, '_source': {' sa4_code': 402, ' year': 2013, ' sa4_name': 'Adelaide - North'}}, {'_index': 'as4_median_housing_price2010_2014', '_id': 'vw0ZV48BrXizR8J2MiyU', '_score': 1.0, '_source': {' sa4_code': 403, ' year': 2013, ' sa4_name': 'Adelaide - South'}}, {'_index': 'as4_median_housing_price2010_2014', '_id': 'wA0ZV48BrXizR8J2MiyU', '_score': 1.0, '_source': {' sa4_code': 404, ' year': 2013, ' sa4_name': 'Adelaide - West'}}, {'_index': 'as4_median_housing_price2010_2014', '_id': 'wQ0ZV48BrXizR8J2MiyU', '_score': 1.0, '_source': {' sa4_code': 405, ' year': 2013, ' sa4_name': 'Barossa - Yorke - Mid North'}}, {'_index': 'as4_median_housing_price2010_2014', '_id': 'wg0ZV48BrXizR8J2MiyU', '_score': 1.0, '_source': {' sa4_code': 406, ' year': 2013, ' sa4_name': 'South Australia - Outback'}}, {'_index': 'as4_median_housing_price2010_2014', '_id': 'ww0ZV48BrXizR8J2MiyU', '_score': 1.0, '_source': {' sa4_code': 407, ' year': 2013, ' sa4_name': 'South Australia - South East'}}, {'_index': 'as4_median_housing_price2010_2014', '_id': 'xA0ZV48BrXizR8J2MiyU', '_score': 1.0, '_source': {' sa4_code': 501, ' year': 2013, ' sa4_name': 'Bunbury'}}, {'_index': 'as4_median_housing_price2010_2014', '_id': 'xQ0ZV48BrXizR8J2MiyU', '_score': 1.0, '_source': {' sa4_code': 502, ' year': 2013, ' sa4_name': 'Mandurah'}}, {'_index': 'as4_median_housing_price2010_2014', '_id': 'xg0ZV48BrXizR8J2MiyU', '_score': 1.0, '_source': {' sa4_code': 503, ' year': 2013, ' sa4_name': 'Perth - Inner'}}, {'_index': 'as4_median_housing_price2010_2014', '_id': 'xw0ZV48BrXizR8J2MiyU', '_score': 1.0, '_source': {' sa4_code': 504, ' year': 2013, ' sa4_name': 'Perth - North East'}}, {'_index': 'as4_median_housing_price2010_2014', '_id': 'yA0ZV48BrXizR8J2MiyU', '_score': 1.0, '_source': {' sa4_code': 505, ' year': 2013, ' sa4_name': 'Perth - North West'}}, {'_index': 'as4_median_housing_price2010_2014', '_id': 'yQ0ZV48BrXizR8J2MiyU', '_score': 1.0, '_source': {' sa4_code': 506, ' year': 2013, ' sa4_name': 'Perth - South East'}}, {'_index': 'as4_median_housing_price2010_2014', '_id': 'yg0ZV48BrXizR8J2MiyU', '_score': 1.0, '_source': {' sa4_code': 507, ' year': 2013, ' sa4_name': 'Perth - South West'}}, {'_index': 'as4_median_housing_price2010_2014', '_id': 'yw0ZV48BrXizR8J2MiyU', '_score': 1.0, '_source': {' sa4_code': 508, ' year': 2013, ' sa4_name': 'Western Australia - Outback'}}, {'_index': 'as4_median_housing_price2010_2014', '_id': 'zA0ZV48BrXizR8J2MiyU', '_score': 1.0, '_source': {' sa4_code': 509, ' year': 2013, ' sa4_name': 'Western Australia - Wheat Belt'}}, {'_index': 'as4_median_housing_price2010_2014', '_id': 'zQ0ZV48BrXizR8J2MiyU', '_score': 1.0, '_source': {' sa4_code': 601, ' year': 2013, ' sa4_name': 'Hobart'}}, {'_index': 'as4_median_housing_price2010_2014', '_id': 'zg0ZV48BrXizR8J2MiyU', '_score': 1.0, '_source': {' sa4_code': 602, ' year': 2013, ' sa4_name': 'Launceston and North East'}}, {'_index': 'as4_median_housing_price2010_2014', '_id': 'zw0ZV48BrXizR8J2MiyU', '_score': 1.0, '_source': {' sa4_code': 603, ' year': 2013, ' sa4_name': 'South East'}}, {'_index': 'as4_median_housing_price2010_2014', '_id': '0A0ZV48BrXizR8J2MiyU', '_score': 1.0, '_source': {' sa4_code': 604, ' year': 2013, ' sa4_name': 'West and North West'}}, {'_index': 'as4_median_housing_price2010_2014', '_id': '0Q0ZV48BrXizR8J2MiyU', '_score': 1.0, '_source': {' sa4_code': 701, ' year': 2013, ' sa4_name': 'Darwin'}}, {'_index': 'as4_median_housing_price2010_2014', '_id': '0g0ZV48BrXizR8J2MiyU', '_score': 1.0, '_source': {' sa4_code': 702, ' year': 2013, ' sa4_name': 'Northern Territory - Outback'}}, {'_index': 'as4_median_housing_price2010_2014', '_id': '0w0ZV48BrXizR8J2MiyU', '_score': 1.0, '_source': {' sa4_code': 801, ' year': 2013, ' sa4_name': 'Australian Capital Territory'}}, {'_index': 'as4_median_housing_price2010_2014', '_id': '1A0ZV48BrXizR8J2MiyU', '_score': 1.0, '_source': {' sa4_code': 901, ' year': 2013, ' sa4_name': 'Other Territories'}}]\n"
     ]
    }
   ],
   "source": [
    "query = {\"query\": {\"match_all\": {}}, \"_source\": [\" sa4_code\", \" sa4_name\", \" year\"]}\n",
    "\n",
    "result = es.search(index=\"as4_median_housing_price2010_2014\", body=query, size=10000) \n",
    "hits = list(result.get(\"hits\").get(\"hits\"))\n",
    "print(hits)\n"
   ]
  },
  {
   "cell_type": "code",
   "execution_count": 112,
   "id": "c48830c6-7a30-4888-831a-c366dea2d351",
   "metadata": {},
   "outputs": [
    {
     "name": "stdout",
     "output_type": "stream",
     "text": [
      "{'name': 'Jane John', 'course': 'Cloud Computing', 'mark': 100}\n",
      "{'name': 'John Smith', 'course': 'Cloud Computing', 'mark': 80}\n",
      "{'name': 'Jane Doe', 'course': 'Cloud Computing', 'mark': 90}\n"
     ]
    }
   ],
   "source": [
    "# define your query\n",
    "query = {\n",
    "    \"query\": {\n",
    "        \"match\": {\n",
    "            \"course\": \"cloud\"\n",
    "        }\n",
    "    }\n",
    "}\n",
    "\n",
    "# execute the query\n",
    "result = es.search(index=index_name, body=query)\n",
    "for hit in result['hits']['hits']:\n",
    "    print(hit['_source'])"
   ]
  },
  {
   "cell_type": "code",
   "execution_count": 93,
   "id": "7c14b004-0fe3-4f7a-95ec-5bbc9fe09bf7",
   "metadata": {},
   "outputs": [
    {
     "name": "stdout",
     "output_type": "stream",
     "text": [
      "{'name': 'Jane Doe', 'course': 'Cloud Computing', 'mark': 90}\n",
      "{'name': 'Jane John', 'course': 'Cloud Computing', 'mark': 100}\n"
     ]
    }
   ],
   "source": [
    "# define your query\n",
    "query = {\n",
    "    \"query\": {\n",
    "        \"match\": {\n",
    "            \"name\": \"Jane\"\n",
    "        }\n",
    "    }\n",
    "}\n",
    "\n",
    "# execute the query\n",
    "result = es.search(index=index_name, body=query)\n",
    "for hit in result['hits']['hits']:\n",
    "    print(hit['_source'])"
   ]
  },
  {
   "cell_type": "code",
   "execution_count": 98,
   "id": "5a5b613b-7239-4653-afb7-89309cb9cdc0",
   "metadata": {},
   "outputs": [],
   "source": [
    "# define your query\n",
    "query = {\n",
    "    \"query\": {\n",
    "        \"bool\": {\n",
    "            \"must\": [\n",
    "                {\n",
    "                    \"match\": {\n",
    "                        \"name\": \"Doe\"\n",
    "                    }\n",
    "                },\n",
    "                {\n",
    "                    \"match\": {\n",
    "                        \"name\": \"Smith\"\n",
    "                    }\n",
    "                }\n",
    "            ]\n",
    "        }\n",
    "    }\n",
    "}\n",
    "\n",
    "# execute the query\n",
    "result = es.search(index=index_name, body=query)\n",
    "for hit in result['hits']['hits']:\n",
    "    print(hit['_source'])"
   ]
  },
  {
   "cell_type": "code",
   "execution_count": 99,
   "id": "0fc4a0ec-99ce-42f7-ba72-9e419d0bfd62",
   "metadata": {},
   "outputs": [
    {
     "name": "stdout",
     "output_type": "stream",
     "text": [
      "{'name': 'John Smith', 'course': 'Cloud Computing', 'mark': 80}\n",
      "{'name': 'Jane Doe', 'course': 'Cloud Computing', 'mark': 90}\n"
     ]
    }
   ],
   "source": [
    "# define your query\n",
    "query = {\n",
    "    \"query\": {\n",
    "        \"bool\": {\n",
    "            \"should\": [\n",
    "                {\n",
    "                    \"match\": {\n",
    "                        \"name\": \"Doe\"\n",
    "                    }\n",
    "                },\n",
    "                {\n",
    "                    \"match\": {\n",
    "                        \"name\": \"Smith\"\n",
    "                    }\n",
    "                }\n",
    "            ]\n",
    "        }\n",
    "    }\n",
    "}\n",
    "\n",
    "# execute the query\n",
    "result = es.search(index=index_name, body=query)\n",
    "for hit in result['hits']['hits']:\n",
    "    print(hit['_source'])"
   ]
  },
  {
   "cell_type": "code",
   "execution_count": 129,
   "id": "970ff0c8-f8f8-4b2d-b835-79a074af7f98",
   "metadata": {},
   "outputs": [],
   "source": [
    "# define your query\n",
    "query = {\n",
    "    \"query\": {\n",
    "        \"bool\": {\n",
    "            \"must\": [\n",
    "                {\n",
    "                    \"match_phrase\": {\n",
    "                        \"name\": 'Jane John'\n",
    "                    }\n",
    "                },\n",
    "                {\n",
    "                    \"range\": {\n",
    "                        \"mark\": {\n",
    "                            \"lte\": 85\n",
    "                        }\n",
    "                    }\n",
    "                }\n",
    "            ]\n",
    "        }\n",
    "    }\n",
    "}\n",
    "\n",
    "# execute the query\n",
    "result = es.search(index=index_name, body=query)\n",
    "for hit in result['hits']['hits']:\n",
    "    print(hit['_source'])"
   ]
  },
  {
   "cell_type": "code",
   "execution_count": null,
   "id": "7f77fd4d-002f-4dfb-9860-1731373356c0",
   "metadata": {},
   "outputs": [],
   "source": []
  }
 ],
 "metadata": {
  "kernelspec": {
   "display_name": "Python 3 (ipykernel)",
   "language": "python",
   "name": "python3"
  },
  "language_info": {
   "codemirror_mode": {
    "name": "ipython",
    "version": 3
   },
   "file_extension": ".py",
   "mimetype": "text/x-python",
   "name": "python",
   "nbconvert_exporter": "python",
   "pygments_lexer": "ipython3",
   "version": "3.9.12"
  }
 },
 "nbformat": 4,
 "nbformat_minor": 5
}
