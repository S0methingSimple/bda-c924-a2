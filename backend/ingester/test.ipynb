{
 "cells": [
  {
   "cell_type": "code",
   "execution_count": 2,
   "id": "46498d40-403c-4b25-b869-266230577f41",
   "metadata": {},
   "outputs": [
    {
     "name": "stdout",
     "output_type": "stream",
     "text": [
      "[{'health': 'green', 'status': 'open', 'index': 'economy_and_industry_2014-2019', 'uuid': 'zt2vDA53QpyV2FQGXmhXLA', 'pri': '1', 'rep': '1', 'docs.count': '534', 'docs.deleted': '0', 'store.size': '348.5kb', 'pri.store.size': '174.2kb'}, {'health': 'green', 'status': 'open', 'index': 'housing_price', 'uuid': 'S41UjInJRQSW_3w6b9PLWg', 'pri': '1', 'rep': '1', 'docs.count': '4', 'docs.deleted': '0', 'store.size': '20kb', 'pri.store.size': '10kb'}, {'health': 'green', 'status': 'open', 'index': 'selected_medians_and_averages_2011_2016_2021', 'uuid': 'UjcjRpcES6qwI7BF0VWQOA', 'pri': '1', 'rep': '1', 'docs.count': '266', 'docs.deleted': '0', 'store.size': '103.3kb', 'pri.store.size': '51.6kb'}, {'health': 'green', 'status': 'open', 'index': 'coursesstudents', 'uuid': '-Gb45u-NTY6Elyn0CHimow', 'pri': '3', 'rep': '1', 'docs.count': '0', 'docs.deleted': '0', 'store.size': '1.3kb', 'pri.store.size': '675b'}, {'health': 'green', 'status': 'open', 'index': 'income_2014-2019', 'uuid': 'uCXTKrh3Q42O8yy1qoYM2w', 'pri': '1', 'rep': '1', 'docs.count': '534', 'docs.deleted': '0', 'store.size': '235.3kb', 'pri.store.size': '117.6kb'}, {'health': 'green', 'status': 'open', 'index': 'family_and_community_2011_2016', 'uuid': 'v1UiR1KWQS6z3QfYzoDAIw', 'pri': '1', 'rep': '1', 'docs.count': '178', 'docs.deleted': '0', 'store.size': '85.4kb', 'pri.store.size': '42.7kb'}, {'health': 'green', 'status': 'open', 'index': 'building_approvals2011-2020', 'uuid': 'LYv6T8k2RauZwdsfO7UWug', 'pri': '1', 'rep': '1', 'docs.count': '876', 'docs.deleted': '0', 'store.size': '493.4kb', 'pri.store.size': '246.7kb'}, {'health': 'green', 'status': 'open', 'index': 'migration', 'uuid': 'cUA-3aArTMiaeJuz1RW29A', 'pri': '1', 'rep': '1', 'docs.count': '7732', 'docs.deleted': '0', 'store.size': '8mb', 'pri.store.size': '4mb'}, {'health': 'green', 'status': 'open', 'index': 'property_price', 'uuid': 'Fq-SmCG7TsejYRYNlbRG9w', 'pri': '1', 'rep': '1', 'docs.count': '0', 'docs.deleted': '0', 'store.size': '450b', 'pri.store.size': '225b'}, {'health': 'green', 'status': 'open', 'index': 'mortgage', 'uuid': 'WKmUF1fZQxWNKuCPxEoqQA', 'pri': '1', 'rep': '1', 'docs.count': '312', 'docs.deleted': '0', 'store.size': '359.8kb', 'pri.store.size': '179.9kb'}, {'health': 'green', 'status': 'open', 'index': 'income', 'uuid': 'KHkmNkN2QDeUkWXAduzbzQ', 'pri': '1', 'rep': '1', 'docs.count': '436', 'docs.deleted': '0', 'store.size': '674.6kb', 'pri.store.size': '337.3kb'}, {'health': 'green', 'status': 'open', 'index': 'rental_price', 'uuid': '4jvMoAo9SdiaLtVjSF0n2Q', 'pri': '1', 'rep': '1', 'docs.count': '0', 'docs.deleted': '0', 'store.size': '450b', 'pri.store.size': '225b'}, {'health': 'green', 'status': 'open', 'index': 'visa', 'uuid': 'FXU0cba4RfqDHx4ol-Rx0w', 'pri': '1', 'rep': '1', 'docs.count': '530', 'docs.deleted': '0', 'store.size': '644.6kb', 'pri.store.size': '322.3kb'}, {'health': 'green', 'status': 'open', 'index': '2021_lga_settlement_reports_permanent_settlers_by_migration_stream', 'uuid': 'jaQ6ia0hS_SUpfJPPo3PvA', 'pri': '1', 'rep': '1', 'docs.count': '451', 'docs.deleted': '0', 'store.size': '106.9kb', 'pri.store.size': '53.4kb'}, {'health': 'green', 'status': 'open', 'index': 'studying', 'uuid': 'VOScOwUeQjGFWtAndfjigA', 'pri': '1', 'rep': '1', 'docs.count': '176', 'docs.deleted': '0', 'store.size': '229.5kb', 'pri.store.size': '114.7kb'}, {'health': 'green', 'status': 'open', 'index': 'observations', 'uuid': 'JFNSVMX4T_KgQaj3AcBQGA', 'pri': '3', 'rep': '1', 'docs.count': '544', 'docs.deleted': '250458', 'store.size': '22.5mb', 'pri.store.size': '11mb'}, {'health': 'green', 'status': 'open', 'index': 'as4_median_housing_price2010_2014', 'uuid': '-T9UVuXNQtWgFX61O6niYA', 'pri': '1', 'rep': '1', 'docs.count': '88', 'docs.deleted': '0', 'store.size': '40.2kb', 'pri.store.size': '20.1kb'}, {'health': 'green', 'status': 'open', 'index': 'rent', 'uuid': 'RhUmybWwRtu5Y3MZU2_xuA', 'pri': '1', 'rep': '1', 'docs.count': '1024', 'docs.deleted': '0', 'store.size': '1.2mb', 'pri.store.size': '617.4kb'}, {'health': 'green', 'status': 'open', 'index': 'twitter_data', 'uuid': 'waJt5UhPTWi6mV8xmBOPBg', 'pri': '1', 'rep': '1', 'docs.count': '12100000', 'docs.deleted': '0', 'store.size': '5.4gb', 'pri.store.size': '2.7gb'}, {'health': 'green', 'status': 'open', 'index': 'immigration', 'uuid': 'DbJqc0aMSY6yCmjZVXPABQ', 'pri': '1', 'rep': '1', 'docs.count': '9840', 'docs.deleted': '0', 'store.size': '10.7mb', 'pri.store.size': '5.3mb'}, {'health': 'green', 'status': 'open', 'index': 'temperatures', 'uuid': '8UK6x_8OQSay0QQdKeuaBw', 'pri': '3', 'rep': '1', 'docs.count': '0', 'docs.deleted': '0', 'store.size': '1.3kb', 'pri.store.size': '675b'}, {'health': 'green', 'status': 'open', 'index': 'students', 'uuid': '1HvrhmueRBqqiHUkzwtTlw', 'pri': '3', 'rep': '1', 'docs.count': '2', 'docs.deleted': '0', 'store.size': '19.5kb', 'pri.store.size': '9.7kb'}]\n"
     ]
    }
   ],
   "source": [
    "from elasticsearch import Elasticsearch\n",
    "import warnings\n",
    "warnings.filterwarnings(\"ignore\")\n",
    "\n",
    "# connect to your elasticsearch address and port\n",
    "es = Elasticsearch(\"https://localhost:9200\", http_auth=('elastic', 'elastic'), verify_certs=False)\n",
    "\n",
    "# check the index list\n",
    "index_list = es.cat.indices(format=\"json\")\n",
    "print(index_list)"
   ]
  },
  {
   "cell_type": "code",
   "execution_count": 2,
   "id": "6fcf0aa4",
   "metadata": {},
   "outputs": [],
   "source": [
    "import logging, json, requests, socket\n",
    "from flask import current_app, request\n",
    "from aiokafka import AIOKafkaProducer\n",
    "import asyncio\n"
   ]
  },
  {
   "cell_type": "code",
   "execution_count": 15,
   "id": "6135e6fa",
   "metadata": {},
   "outputs": [],
   "source": [
    "async def publish(queue, payload):\n",
    "    producer = AIOKafkaProducer(bootstrap_servers='localhost:9092')\n",
    "    await producer.start()\n",
    "    try:\n",
    "        await producer.send_and_wait(queue, payload)\n",
    "    finally:\n",
    "        await producer.stop()"
   ]
  },
  {
   "cell_type": "code",
   "execution_count": 16,
   "id": "1ff9d65e",
   "metadata": {},
   "outputs": [
    {
     "name": "stderr",
     "output_type": "stream",
     "text": [
      "Unable connect to node with id 0: [Errno 8] nodename nor servname provided, or not known\n",
      "Unclosed AIOKafkaProducer\n",
      "producer: <aiokafka.producer.producer.AIOKafkaProducer object at 0x7f9c6043f430>\n"
     ]
    },
    {
     "ename": "KafkaConnectionError",
     "evalue": "KafkaConnectionError: No connection to node with id 0",
     "output_type": "error",
     "traceback": [
      "\u001b[0;31m---------------------------------------------------------------------------\u001b[0m",
      "\u001b[0;31mKafkaConnectionError\u001b[0m                      Traceback (most recent call last)",
      "Input \u001b[0;32mIn [16]\u001b[0m, in \u001b[0;36m<cell line: 5>\u001b[0;34m()\u001b[0m\n\u001b[1;32m      2\u001b[0m queue \u001b[38;5;241m=\u001b[39m \u001b[38;5;124m\"\u001b[39m\u001b[38;5;124mtoots\u001b[39m\u001b[38;5;124m\"\u001b[39m\n\u001b[1;32m      3\u001b[0m payload \u001b[38;5;241m=\u001b[39m json\u001b[38;5;241m.\u001b[39mdumps({\u001b[38;5;124m\"\u001b[39m\u001b[38;5;124mtest\u001b[39m\u001b[38;5;124m\"\u001b[39m: \u001b[38;5;124m\"\u001b[39m\u001b[38;5;124mtest\u001b[39m\u001b[38;5;124m\"\u001b[39m})\n\u001b[0;32m----> 5\u001b[0m \u001b[38;5;28;01mawait\u001b[39;00m publish(queue, payload)\n",
      "Input \u001b[0;32mIn [15]\u001b[0m, in \u001b[0;36mpublish\u001b[0;34m(queue, payload)\u001b[0m\n\u001b[1;32m      1\u001b[0m \u001b[38;5;28;01masync\u001b[39;00m \u001b[38;5;28;01mdef\u001b[39;00m \u001b[38;5;21mpublish\u001b[39m(queue, payload):\n\u001b[1;32m      2\u001b[0m     producer \u001b[38;5;241m=\u001b[39m AIOKafkaProducer(bootstrap_servers\u001b[38;5;241m=\u001b[39m\u001b[38;5;124m'\u001b[39m\u001b[38;5;124mlocalhost:9092\u001b[39m\u001b[38;5;124m'\u001b[39m)\n\u001b[0;32m----> 3\u001b[0m     \u001b[38;5;28;01mawait\u001b[39;00m producer\u001b[38;5;241m.\u001b[39mstart()\n\u001b[1;32m      4\u001b[0m     \u001b[38;5;28;01mtry\u001b[39;00m:\n\u001b[1;32m      5\u001b[0m         \u001b[38;5;28;01mawait\u001b[39;00m producer\u001b[38;5;241m.\u001b[39msend_and_wait(queue, payload)\n",
      "File \u001b[0;32m~/opt/anaconda3/lib/python3.9/site-packages/aiokafka/producer/producer.py:305\u001b[0m, in \u001b[0;36mAIOKafkaProducer.start\u001b[0;34m(self)\u001b[0m\n\u001b[1;32m    301\u001b[0m \u001b[38;5;28;01massert\u001b[39;00m \u001b[38;5;28mself\u001b[39m\u001b[38;5;241m.\u001b[39m_loop \u001b[38;5;129;01mis\u001b[39;00m get_running_loop(), (\n\u001b[1;32m    302\u001b[0m     \u001b[38;5;124m\"\u001b[39m\u001b[38;5;124mPlease create objects with the same loop as running with\u001b[39m\u001b[38;5;124m\"\u001b[39m\n\u001b[1;32m    303\u001b[0m )\n\u001b[1;32m    304\u001b[0m log\u001b[38;5;241m.\u001b[39mdebug(\u001b[38;5;124m\"\u001b[39m\u001b[38;5;124mStarting the Kafka producer\u001b[39m\u001b[38;5;124m\"\u001b[39m)  \u001b[38;5;66;03m# trace\u001b[39;00m\n\u001b[0;32m--> 305\u001b[0m \u001b[38;5;28;01mawait\u001b[39;00m \u001b[38;5;28mself\u001b[39m\u001b[38;5;241m.\u001b[39mclient\u001b[38;5;241m.\u001b[39mbootstrap()\n\u001b[1;32m    307\u001b[0m \u001b[38;5;28;01mif\u001b[39;00m \u001b[38;5;28mself\u001b[39m\u001b[38;5;241m.\u001b[39m_compression_type \u001b[38;5;241m==\u001b[39m \u001b[38;5;124m'\u001b[39m\u001b[38;5;124mlz4\u001b[39m\u001b[38;5;124m'\u001b[39m:\n\u001b[1;32m    308\u001b[0m     \u001b[38;5;28;01massert\u001b[39;00m \u001b[38;5;28mself\u001b[39m\u001b[38;5;241m.\u001b[39mclient\u001b[38;5;241m.\u001b[39mapi_version \u001b[38;5;241m>\u001b[39m\u001b[38;5;241m=\u001b[39m (\u001b[38;5;241m0\u001b[39m, \u001b[38;5;241m8\u001b[39m, \u001b[38;5;241m2\u001b[39m), \\\n\u001b[1;32m    309\u001b[0m         \u001b[38;5;124m'\u001b[39m\u001b[38;5;124mLZ4 Requires >= Kafka 0.8.2 Brokers\u001b[39m\u001b[38;5;124m'\u001b[39m\n",
      "File \u001b[0;32m~/opt/anaconda3/lib/python3.9/site-packages/aiokafka/client.py:254\u001b[0m, in \u001b[0;36mAIOKafkaClient.bootstrap\u001b[0;34m(self)\u001b[0m\n\u001b[1;32m    252\u001b[0m \u001b[38;5;66;03m# detect api version if need\u001b[39;00m\n\u001b[1;32m    253\u001b[0m \u001b[38;5;28;01mif\u001b[39;00m \u001b[38;5;28mself\u001b[39m\u001b[38;5;241m.\u001b[39m_api_version \u001b[38;5;241m==\u001b[39m \u001b[38;5;124m'\u001b[39m\u001b[38;5;124mauto\u001b[39m\u001b[38;5;124m'\u001b[39m:\n\u001b[0;32m--> 254\u001b[0m     \u001b[38;5;28mself\u001b[39m\u001b[38;5;241m.\u001b[39m_api_version \u001b[38;5;241m=\u001b[39m \u001b[38;5;28;01mawait\u001b[39;00m \u001b[38;5;28mself\u001b[39m\u001b[38;5;241m.\u001b[39mcheck_version()\n\u001b[1;32m    256\u001b[0m \u001b[38;5;28;01mif\u001b[39;00m \u001b[38;5;28mself\u001b[39m\u001b[38;5;241m.\u001b[39m_sync_task \u001b[38;5;129;01mis\u001b[39;00m \u001b[38;5;28;01mNone\u001b[39;00m:\n\u001b[1;32m    257\u001b[0m     \u001b[38;5;66;03m# starting metadata synchronizer task\u001b[39;00m\n\u001b[1;32m    258\u001b[0m     \u001b[38;5;28mself\u001b[39m\u001b[38;5;241m.\u001b[39m_sync_task \u001b[38;5;241m=\u001b[39m create_task(\u001b[38;5;28mself\u001b[39m\u001b[38;5;241m.\u001b[39m_md_synchronizer())\n",
      "File \u001b[0;32m~/opt/anaconda3/lib/python3.9/site-packages/aiokafka/client.py:547\u001b[0m, in \u001b[0;36mAIOKafkaClient.check_version\u001b[0;34m(self, node_id)\u001b[0m\n\u001b[1;32m    545\u001b[0m conn \u001b[38;5;241m=\u001b[39m \u001b[38;5;28;01mawait\u001b[39;00m \u001b[38;5;28mself\u001b[39m\u001b[38;5;241m.\u001b[39m_get_conn(node_id, no_hint\u001b[38;5;241m=\u001b[39m\u001b[38;5;28;01mTrue\u001b[39;00m)\n\u001b[1;32m    546\u001b[0m \u001b[38;5;28;01mif\u001b[39;00m conn \u001b[38;5;129;01mis\u001b[39;00m \u001b[38;5;28;01mNone\u001b[39;00m:\n\u001b[0;32m--> 547\u001b[0m     \u001b[38;5;28;01mraise\u001b[39;00m KafkaConnectionError(\n\u001b[1;32m    548\u001b[0m         \u001b[38;5;124mf\u001b[39m\u001b[38;5;124m\"\u001b[39m\u001b[38;5;124mNo connection to node with id \u001b[39m\u001b[38;5;132;01m{\u001b[39;00mnode_id\u001b[38;5;132;01m}\u001b[39;00m\u001b[38;5;124m\"\u001b[39m)\n\u001b[1;32m    549\u001b[0m \u001b[38;5;28;01mfor\u001b[39;00m version, request \u001b[38;5;129;01min\u001b[39;00m test_cases:\n\u001b[1;32m    550\u001b[0m     \u001b[38;5;28;01mtry\u001b[39;00m:\n",
      "\u001b[0;31mKafkaConnectionError\u001b[0m: KafkaConnectionError: No connection to node with id 0"
     ]
    }
   ],
   "source": [
    "# Inside a code cell\n",
    "queue = \"toots\"\n",
    "payload = json.dumps({\"test\": \"test\"})\n",
    "\n",
    "await publish(queue, payload)\n"
   ]
  },
  {
   "cell_type": "code",
   "execution_count": null,
   "id": "95fb84b3",
   "metadata": {},
   "outputs": [],
   "source": []
  }
 ],
 "metadata": {
  "kernelspec": {
   "display_name": "Python 3 (ipykernel)",
   "language": "python",
   "name": "python3"
  },
  "language_info": {
   "codemirror_mode": {
    "name": "ipython",
    "version": 3
   },
   "file_extension": ".py",
   "mimetype": "text/x-python",
   "name": "python",
   "nbconvert_exporter": "python",
   "pygments_lexer": "ipython3",
   "version": "3.9.12"
  }
 },
 "nbformat": 4,
 "nbformat_minor": 5
}
